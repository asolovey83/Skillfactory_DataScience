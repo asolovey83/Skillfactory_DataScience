{
 "cells": [
  {
   "cell_type": "code",
   "execution_count": 20,
   "metadata": {},
   "outputs": [],
   "source": [
    "import numpy as np\n",
    "\n",
    "def game_core_v2(number):    \n",
    "    '''Сначала устанавливаем любое random число в заданном диапазоне, \n",
    "        а потом уменьшаем или увеличиваем его в зависимости от того, \n",
    "        больше оно или меньше нужного. Функция принимает загаданное число \n",
    "        и возвращает число попыток'''    \n",
    "    count = 1 # счетчик попыток\n",
    "    min = 1 # устанавливаем нижнюю границу загаданного числа\n",
    "    max = 100 # устанавливаем верхнюю границу загаданного числа\n",
    "    predict = np.random.randint(min, max+1)# загадываем случайное число в установленных границах               \n",
    "    \n",
    "    while number != predict and min <= max:    \n",
    "        count+=1         \n",
    "        '''Реализуем алгоритм бинарного поиска'''        \n",
    "        if number > predict:\n",
    "            min = predict + 1\n",
    "        elif number < predict: \n",
    "            max = predict - 1\n",
    "        predict = (min + max)//2 \n",
    "        \n",
    "    return(count) # выход из цикла, если угадали    \n",
    "\n",
    "def score_game(game_core):    \n",
    "    '''Запускаем игру 1000 раз, чтобы узнать, как быстро игра угадывает число'''    \n",
    "    count_ls = []\n",
    "    np.random.seed(1)  # фиксируем RANDOM SEED, чтобы эксперимент был воспроизводим!\n",
    "    random_array = np.random.randint(1,101, size=(1000))\n",
    "    for number in random_array:        \n",
    "        count_ls.append(game_core(number))        \n",
    "    score = int(np.mean(count_ls))    \n",
    "    print(f\"Ваш алгоритм угадывает число в среднем за {score} попыток\")\n",
    "    \n",
    "    return(score)"
   ]
  },
  {
   "cell_type": "code",
   "execution_count": 21,
   "metadata": {},
   "outputs": [
    {
     "name": "stdout",
     "output_type": "stream",
     "text": [
      "Ваш алгоритм угадывает число в среднем за 6 попыток\n"
     ]
    },
    {
     "data": {
      "text/plain": [
       "6"
      ]
     },
     "execution_count": 21,
     "metadata": {},
     "output_type": "execute_result"
    }
   ],
   "source": [
    "# Проверяем\n",
    "score_game(game_core_v2)"
   ]
  }
 ],
 "metadata": {
  "kernelspec": {
   "display_name": "Python 3",
   "language": "python",
   "name": "python3"
  },
  "language_info": {
   "codemirror_mode": {
    "name": "ipython",
    "version": 3
   },
   "file_extension": ".py",
   "mimetype": "text/x-python",
   "name": "python",
   "nbconvert_exporter": "python",
   "pygments_lexer": "ipython3",
   "version": "3.7.6"
  }
 },
 "nbformat": 4,
 "nbformat_minor": 4
}
