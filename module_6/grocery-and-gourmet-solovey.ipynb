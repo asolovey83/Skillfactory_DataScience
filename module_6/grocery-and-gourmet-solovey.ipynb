{
 "cells": [
  {
   "cell_type": "markdown",
   "metadata": {
    "_cell_guid": "b1076dfc-b9ad-4769-8c92-a6c4dae69d19",
    "_uuid": "8f2839f25d086af736a60e9eeb907d3b93b6e0e5",
    "execution": {
     "iopub.execute_input": "2021-09-04T08:54:21.396741Z",
     "iopub.status.busy": "2021-09-04T08:54:21.396146Z",
     "iopub.status.idle": "2021-09-04T08:54:21.412832Z",
     "shell.execute_reply": "2021-09-04T08:54:21.411839Z",
     "shell.execute_reply.started": "2021-09-04T08:54:21.396705Z"
    },
    "papermill": {
     "duration": 0.11495,
     "end_time": "2021-09-07T18:29:59.141482",
     "exception": false,
     "start_time": "2021-09-07T18:29:59.026532",
     "status": "completed"
    },
    "tags": []
   },
   "source": [
    "# Grocery and Gourmet Recommendation Challenge"
   ]
  },
  {
   "cell_type": "markdown",
   "metadata": {
    "papermill": {
     "duration": 0.112074,
     "end_time": "2021-09-07T18:29:59.370765",
     "exception": false,
     "start_time": "2021-09-07T18:29:59.258691",
     "status": "completed"
    },
    "tags": []
   },
   "source": [
    "The purpose of this challenge is to build a recommendation model that will allow to increase the average bill in the online shop by recommending shoppers specific items.\n",
    "\n",
    "We have the following dataset test.csv which we can use for making predictions. Each set of pairs **userid - itemid** has its own **id**, for which we should do a prediction.\n",
    "\n",
    "**The features are the following:**\n",
    "* overall - rating set by the user \n",
    "* verified - was the review verified or not \n",
    "* reviewTime - the time when review was written\n",
    "* reviewerName - user name\n",
    "* reviewText - full review text\n",
    "* summary - summary of the review text\n",
    "* vote - a number of votes for the review\n",
    "* style - metadata\n",
    "* image - image of the product\n",
    "* userid - id of the user\n",
    "* itemid - id of the product\n",
    "* id - id for prediction"
   ]
  },
  {
   "cell_type": "code",
   "execution_count": 1,
   "metadata": {
    "execution": {
     "iopub.execute_input": "2021-09-07T18:29:59.612566Z",
     "iopub.status.busy": "2021-09-07T18:29:59.611417Z",
     "iopub.status.idle": "2021-09-07T18:29:59.618243Z",
     "shell.execute_reply": "2021-09-07T18:29:59.619144Z",
     "shell.execute_reply.started": "2021-09-07T17:30:31.959046Z"
    },
    "papermill": {
     "duration": 0.135906,
     "end_time": "2021-09-07T18:29:59.619410",
     "exception": false,
     "start_time": "2021-09-07T18:29:59.483504",
     "status": "completed"
    },
    "tags": []
   },
   "outputs": [
    {
     "name": "stdout",
     "output_type": "stream",
     "text": [
      "/kaggle/input/recommendationsv4/sample_submission.csv\n",
      "/kaggle/input/recommendationsv4/train.csv\n",
      "/kaggle/input/recommendationsv4/test.csv\n",
      "/kaggle/input/recommendationsv4/meta_Grocery_and_Gourmet_Food.json\n"
     ]
    }
   ],
   "source": [
    "## This Python 3 environment comes with many helpful analytics libraries installed\n",
    "# It is defined by the kaggle/python Docker image: https://github.com/kaggle/docker-python\n",
    "# For example, here's several helpful packages to load\n",
    "\n",
    "import numpy as np # linear algebra\n",
    "import pandas as pd # data processing, CSV file I/O (e.g. pd.read_csv)\n",
    "\n",
    "# Input data files are available in the read-only \"../input/\" directory\n",
    "# For example, running this (by clicking run or pressing Shift+Enter) will list all files under the input directory\n",
    "# This Python 3 environment comes with many helpful analytics libraries installed\n",
    "# It is defined by the kaggle/python docker image: https://github.com/kaggle/docker-python\n",
    "# For example, here's several helpful packages to load in \n",
    "\n",
    "# Input data files are available in the \"../input/\" directory.\n",
    "# For example, running this (by clicking run or pressing Shift+Enter) will list all files under the input directory\n",
    "\n",
    "# Any results you write to the current directory are saved as output.\n",
    "import os\n",
    "for dirname, _, filenames in os.walk('/kaggle/input'):\n",
    "    for filename in filenames:\n",
    "        print(os.path.join(dirname, filename))\n",
    "\n",
    "# You can write up to 5GB to the current directory (/kaggle/working/) that gets preserved as output when you create a version using \"Save & Run All\" \n",
    "# You can also write temporary files to /kaggle/temp/, but they won't be saved outside of the current session"
   ]
  },
  {
   "cell_type": "code",
   "execution_count": 2,
   "metadata": {
    "execution": {
     "iopub.execute_input": "2021-09-07T18:29:59.883065Z",
     "iopub.status.busy": "2021-09-07T18:29:59.882320Z",
     "iopub.status.idle": "2021-09-07T18:30:01.155751Z",
     "shell.execute_reply": "2021-09-07T18:30:01.156437Z",
     "shell.execute_reply.started": "2021-09-07T18:12:52.965599Z"
    },
    "papermill": {
     "duration": 1.408444,
     "end_time": "2021-09-07T18:30:01.156647",
     "exception": false,
     "start_time": "2021-09-07T18:29:59.748203",
     "status": "completed"
    },
    "tags": []
   },
   "outputs": [],
   "source": [
    "#Importing additional libraries\n",
    "\n",
    "#Hyperparameters optimization\n",
    "import itertools\n",
    "\n",
    "import scipy.sparse as sparse\n",
    "\n",
    "from datetime import datetime\n",
    "\n",
    "from lightfm import LightFM\n",
    "from lightfm.cross_validation import random_train_test_split\n",
    "from lightfm.evaluation import auc_score, precision_at_k, recall_at_k\n",
    "\n",
    "import sklearn\n",
    "from sklearn.model_selection import train_test_split\n",
    "from sklearn.metrics import auc, roc_auc_score, roc_curve\n",
    "from sklearn.feature_selection import mutual_info_classif\n",
    "from sklearn.preprocessing import StandardScaler\n",
    "\n",
    "import matplotlib.pyplot as plt"
   ]
  },
  {
   "cell_type": "markdown",
   "metadata": {
    "papermill": {
     "duration": 0.112849,
     "end_time": "2021-09-07T18:30:01.383563",
     "exception": false,
     "start_time": "2021-09-07T18:30:01.270714",
     "status": "completed"
    },
    "tags": []
   },
   "source": [
    "## Functions"
   ]
  },
  {
   "cell_type": "code",
   "execution_count": 3,
   "metadata": {
    "execution": {
     "iopub.execute_input": "2021-09-07T18:30:01.623218Z",
     "iopub.status.busy": "2021-09-07T18:30:01.621718Z",
     "iopub.status.idle": "2021-09-07T18:30:01.633573Z",
     "shell.execute_reply": "2021-09-07T18:30:01.634457Z",
     "shell.execute_reply.started": "2021-09-07T17:32:59.307236Z"
    },
    "papermill": {
     "duration": 0.136528,
     "end_time": "2021-09-07T18:30:01.634695",
     "exception": false,
     "start_time": "2021-09-07T18:30:01.498167",
     "status": "completed"
    },
    "tags": []
   },
   "outputs": [],
   "source": [
    "#Hyperparameters tunung functions\n",
    "def sample_hyperparameters():\n",
    "    \"\"\"\n",
    "    Yield possible hyperparameter choices.\n",
    "    \"\"\"\n",
    "\n",
    "    while True:\n",
    "        yield {\n",
    "            \"no_components\": np.random.randint(16, 64),\n",
    "            \"learning_schedule\": np.random.choice([\"adagrad\", \"adadelta\"]),\n",
    "            \"loss\": np.random.choice([\"bpr\", \"warp\", \"warp-kos\"]),\n",
    "            \"learning_rate\": np.random.exponential(0.05),\n",
    "            \"item_alpha\": np.random.exponential(1e-8),\n",
    "            \"user_alpha\": np.random.exponential(1e-8),\n",
    "            \"max_sampled\": np.random.randint(5, 15),\n",
    "            \"num_epochs\": np.random.randint(5, 50),\n",
    "        }"
   ]
  },
  {
   "cell_type": "code",
   "execution_count": 4,
   "metadata": {
    "execution": {
     "iopub.execute_input": "2021-09-07T18:30:01.886331Z",
     "iopub.status.busy": "2021-09-07T18:30:01.885546Z",
     "iopub.status.idle": "2021-09-07T18:30:01.893676Z",
     "shell.execute_reply": "2021-09-07T18:30:01.894280Z",
     "shell.execute_reply.started": "2021-09-07T17:32:50.798861Z"
    },
    "papermill": {
     "duration": 0.124443,
     "end_time": "2021-09-07T18:30:01.894474",
     "exception": false,
     "start_time": "2021-09-07T18:30:01.770031",
     "status": "completed"
    },
    "tags": []
   },
   "outputs": [],
   "source": [
    "#Hyperparameters tunung functions\n",
    "# Random Search\n",
    "def random_search(train, test, num_samples=10, num_threads=1):\n",
    "    \"\"\"\n",
    "    Sample random hyperparameters, fit a LightFM model, and evaluate it\n",
    "    on the test set.\n",
    "\n",
    "    Parameters\n",
    "    ----------\n",
    "\n",
    "    train: np.float32 coo_matrix of shape [n_users, n_items]\n",
    "        Training data.\n",
    "    test: np.float32 coo_matrix of shape [n_users, n_items]\n",
    "        Test data.\n",
    "    num_samples: int, optional\n",
    "        Number of hyperparameter choices to evaluate.\n",
    "\n",
    "\n",
    "    Returns\n",
    "    -------\n",
    "\n",
    "    generator of (auc_score, hyperparameter dict, fitted model)\n",
    "\n",
    "    \"\"\"\n",
    "\n",
    "    for hyperparams in itertools.islice(sample_hyperparameters(), num_samples):\n",
    "        num_epochs = hyperparams.pop(\"num_epochs\")\n",
    "\n",
    "        model = LightFM(**hyperparams)\n",
    "        model.fit(train, epochs=num_epochs, num_threads=num_threads)\n",
    "\n",
    "        score = auc_score(model, test, train_interactions=train, num_threads=num_threads).mean()\n",
    "\n",
    "        hyperparams[\"num_epochs\"] = num_epochs\n",
    "\n",
    "        yield (score, hyperparams, model)"
   ]
  },
  {
   "cell_type": "code",
   "execution_count": 5,
   "metadata": {
    "execution": {
     "iopub.execute_input": "2021-09-07T18:30:02.123722Z",
     "iopub.status.busy": "2021-09-07T18:30:02.123042Z",
     "iopub.status.idle": "2021-09-07T18:30:02.127790Z",
     "shell.execute_reply": "2021-09-07T18:30:02.128327Z",
     "shell.execute_reply.started": "2021-09-07T17:32:47.455354Z"
    },
    "papermill": {
     "duration": 0.121847,
     "end_time": "2021-09-07T18:30:02.128500",
     "exception": false,
     "start_time": "2021-09-07T18:30:02.006653",
     "status": "completed"
    },
    "tags": []
   },
   "outputs": [],
   "source": [
    "#Removing comma from vote values\n",
    "def remove_comma(vote):    \n",
    "    if type(vote) == str:\n",
    "        if \",\" in vote:\n",
    "            return (int(vote.replace(\",\", \"\")))\n",
    "    return vote   "
   ]
  },
  {
   "cell_type": "code",
   "execution_count": 6,
   "metadata": {
    "execution": {
     "iopub.execute_input": "2021-09-07T18:30:02.362817Z",
     "iopub.status.busy": "2021-09-07T18:30:02.362090Z",
     "iopub.status.idle": "2021-09-07T18:30:02.369512Z",
     "shell.execute_reply": "2021-09-07T18:30:02.370033Z",
     "shell.execute_reply.started": "2021-09-07T17:32:53.221828Z"
    },
    "papermill": {
     "duration": 0.126076,
     "end_time": "2021-09-07T18:30:02.370203",
     "exception": false,
     "start_time": "2021-09-07T18:30:02.244127",
     "status": "completed"
    },
    "tags": []
   },
   "outputs": [],
   "source": [
    "#Function that drwas ROC-curve\n",
    "def roc_auc_curve(y_true, y_pred_prob):\n",
    "    fpr, tpr, _ = roc_curve(y_true, y_pred_prob)\n",
    "    plt.figure()\n",
    "    plt.plot([0, 1], label='Случайный классификатор', linestyle='--')\n",
    "    plt.plot(fpr, tpr, label = 'LightFM')\n",
    "    plt.title('ROC AUC = %0.3f' % roc_auc_score(y_true, y_pred_prob))\n",
    "    plt.ylabel('True Positive Rate')\n",
    "    plt.xlabel('False Positive Rate')\n",
    "    plt.legend(loc = 'lower right')\n",
    "    plt.show()"
   ]
  },
  {
   "cell_type": "code",
   "execution_count": 7,
   "metadata": {
    "execution": {
     "iopub.execute_input": "2021-09-07T18:30:02.600741Z",
     "iopub.status.busy": "2021-09-07T18:30:02.600028Z",
     "iopub.status.idle": "2021-09-07T18:30:02.605181Z",
     "shell.execute_reply": "2021-09-07T18:30:02.605679Z",
     "shell.execute_reply.started": "2021-09-07T17:32:54.986185Z"
    },
    "papermill": {
     "duration": 0.122765,
     "end_time": "2021-09-07T18:30:02.605847",
     "exception": false,
     "start_time": "2021-09-07T18:30:02.483082",
     "status": "completed"
    },
    "tags": []
   },
   "outputs": [],
   "source": [
    "# Function to convert revie date into a number\n",
    "def cat_date(x):\n",
    "    if x <= ts25: x = 1\n",
    "    elif ts25 < x < ts75: x = 2\n",
    "    elif ts75 <= x: x = 3\n",
    "    return x"
   ]
  },
  {
   "cell_type": "markdown",
   "metadata": {
    "papermill": {
     "duration": 0.111504,
     "end_time": "2021-09-07T18:30:02.832054",
     "exception": false,
     "start_time": "2021-09-07T18:30:02.720550",
     "status": "completed"
    },
    "tags": []
   },
   "source": [
    "#### Variables"
   ]
  },
  {
   "cell_type": "code",
   "execution_count": 8,
   "metadata": {
    "execution": {
     "iopub.execute_input": "2021-09-07T18:30:03.068203Z",
     "iopub.status.busy": "2021-09-07T18:30:03.067142Z",
     "iopub.status.idle": "2021-09-07T18:30:03.069713Z",
     "shell.execute_reply": "2021-09-07T18:30:03.070219Z",
     "shell.execute_reply.started": "2021-09-07T17:30:52.297418Z"
    },
    "papermill": {
     "duration": 0.123225,
     "end_time": "2021-09-07T18:30:03.070384",
     "exception": false,
     "start_time": "2021-09-07T18:30:02.947159",
     "status": "completed"
    },
    "tags": []
   },
   "outputs": [],
   "source": [
    "RANDOM_STATE = 34"
   ]
  },
  {
   "cell_type": "code",
   "execution_count": 9,
   "metadata": {
    "_cell_guid": "79c7e3d0-c299-4dcb-8224-4455121ee9b0",
    "_uuid": "d629ff2d2480ee46fbb7e2d37f6b5fab8052498a",
    "execution": {
     "iopub.execute_input": "2021-09-07T18:30:03.303167Z",
     "iopub.status.busy": "2021-09-07T18:30:03.302117Z",
     "iopub.status.idle": "2021-09-07T18:30:12.806587Z",
     "shell.execute_reply": "2021-09-07T18:30:12.807324Z",
     "shell.execute_reply.started": "2021-09-07T17:30:54.330966Z"
    },
    "papermill": {
     "duration": 9.623161,
     "end_time": "2021-09-07T18:30:12.807507",
     "exception": false,
     "start_time": "2021-09-07T18:30:03.184346",
     "status": "completed"
    },
    "tags": []
   },
   "outputs": [
    {
     "name": "stderr",
     "output_type": "stream",
     "text": [
      "/opt/conda/lib/python3.7/site-packages/IPython/core/interactiveshell.py:3063: DtypeWarning: Columns (8) have mixed types.Specify dtype option on import or set low_memory=False.\n",
      "  interactivity=interactivity, compiler=compiler, result=result)\n",
      "/opt/conda/lib/python3.7/site-packages/IPython/core/interactiveshell.py:3063: DtypeWarning: Columns (5) have mixed types.Specify dtype option on import or set low_memory=False.\n",
      "  interactivity=interactivity, compiler=compiler, result=result)\n"
     ]
    }
   ],
   "source": [
    "#Reading files contents\n",
    "train = pd.read_csv('/kaggle/input/recommendationsv4/train.csv')\n",
    "test = pd.read_csv('/kaggle/input/recommendationsv4/test.csv')\n",
    "submission = pd.read_csv('/kaggle/input/recommendationsv4/sample_submission.csv')"
   ]
  },
  {
   "cell_type": "markdown",
   "metadata": {
    "papermill": {
     "duration": 0.112864,
     "end_time": "2021-09-07T18:30:13.035063",
     "exception": false,
     "start_time": "2021-09-07T18:30:12.922199",
     "status": "completed"
    },
    "tags": []
   },
   "source": [
    "## Data Inspection"
   ]
  },
  {
   "cell_type": "code",
   "execution_count": 10,
   "metadata": {
    "execution": {
     "iopub.execute_input": "2021-09-07T18:30:13.319105Z",
     "iopub.status.busy": "2021-09-07T18:30:13.318384Z",
     "iopub.status.idle": "2021-09-07T18:30:13.363595Z",
     "shell.execute_reply": "2021-09-07T18:30:13.362951Z",
     "shell.execute_reply.started": "2021-09-07T17:31:08.042075Z"
    },
    "papermill": {
     "duration": 0.162986,
     "end_time": "2021-09-07T18:30:13.363735",
     "exception": false,
     "start_time": "2021-09-07T18:30:13.200749",
     "status": "completed"
    },
    "tags": []
   },
   "outputs": [
    {
     "name": "stdout",
     "output_type": "stream",
     "text": [
      "Размерность тренировочного датасета:  (857895, 14)\n"
     ]
    },
    {
     "data": {
      "text/html": [
       "<div>\n",
       "<style scoped>\n",
       "    .dataframe tbody tr th:only-of-type {\n",
       "        vertical-align: middle;\n",
       "    }\n",
       "\n",
       "    .dataframe tbody tr th {\n",
       "        vertical-align: top;\n",
       "    }\n",
       "\n",
       "    .dataframe thead th {\n",
       "        text-align: right;\n",
       "    }\n",
       "</style>\n",
       "<table border=\"1\" class=\"dataframe\">\n",
       "  <thead>\n",
       "    <tr style=\"text-align: right;\">\n",
       "      <th></th>\n",
       "      <th>overall</th>\n",
       "      <th>verified</th>\n",
       "      <th>reviewTime</th>\n",
       "      <th>asin</th>\n",
       "      <th>reviewerName</th>\n",
       "      <th>reviewText</th>\n",
       "      <th>summary</th>\n",
       "      <th>unixReviewTime</th>\n",
       "      <th>vote</th>\n",
       "      <th>style</th>\n",
       "      <th>image</th>\n",
       "      <th>userid</th>\n",
       "      <th>itemid</th>\n",
       "      <th>rating</th>\n",
       "    </tr>\n",
       "  </thead>\n",
       "  <tbody>\n",
       "    <tr>\n",
       "      <th>0</th>\n",
       "      <td>5.0</td>\n",
       "      <td>True</td>\n",
       "      <td>10 4, 2016</td>\n",
       "      <td>B01CPNIEQG</td>\n",
       "      <td>Heather</td>\n",
       "      <td>These are my FAVORITE spices in my collection....</td>\n",
       "      <td>Must Add to your Spice kitchen!</td>\n",
       "      <td>1475539200</td>\n",
       "      <td>NaN</td>\n",
       "      <td>NaN</td>\n",
       "      <td>NaN</td>\n",
       "      <td>102179</td>\n",
       "      <td>37138</td>\n",
       "      <td>1.0</td>\n",
       "    </tr>\n",
       "    <tr>\n",
       "      <th>1</th>\n",
       "      <td>5.0</td>\n",
       "      <td>True</td>\n",
       "      <td>03 1, 2016</td>\n",
       "      <td>B006F63M8U</td>\n",
       "      <td>Linda Odom</td>\n",
       "      <td>Add A package to my Coffee and it makes a good...</td>\n",
       "      <td>Milk Chocolate Swiis MIss Hot Cocoa Mix</td>\n",
       "      <td>1456790400</td>\n",
       "      <td>NaN</td>\n",
       "      <td>{'Size:': ' 60-0.73 oz Envelopes'}</td>\n",
       "      <td>NaN</td>\n",
       "      <td>3625</td>\n",
       "      <td>17322</td>\n",
       "      <td>1.0</td>\n",
       "    </tr>\n",
       "    <tr>\n",
       "      <th>2</th>\n",
       "      <td>5.0</td>\n",
       "      <td>True</td>\n",
       "      <td>06 26, 2016</td>\n",
       "      <td>B00112O8NG</td>\n",
       "      <td>DesertBlossom</td>\n",
       "      <td>I love the Torani syrups, but not the prices o...</td>\n",
       "      <td>Love these sugar free syrups, but didn't love ...</td>\n",
       "      <td>1466899200</td>\n",
       "      <td>28</td>\n",
       "      <td>NaN</td>\n",
       "      <td>NaN</td>\n",
       "      <td>39495</td>\n",
       "      <td>5600</td>\n",
       "      <td>1.0</td>\n",
       "    </tr>\n",
       "    <tr>\n",
       "      <th>3</th>\n",
       "      <td>5.0</td>\n",
       "      <td>True</td>\n",
       "      <td>09 5, 2013</td>\n",
       "      <td>B00MRAQUM8</td>\n",
       "      <td>Connie L. Reaves</td>\n",
       "      <td>Very fragrant. The price can't be beat. I do l...</td>\n",
       "      <td>Nice !</td>\n",
       "      <td>1378339200</td>\n",
       "      <td>NaN</td>\n",
       "      <td>NaN</td>\n",
       "      <td>NaN</td>\n",
       "      <td>72854</td>\n",
       "      <td>30249</td>\n",
       "      <td>1.0</td>\n",
       "    </tr>\n",
       "    <tr>\n",
       "      <th>4</th>\n",
       "      <td>5.0</td>\n",
       "      <td>True</td>\n",
       "      <td>09 14, 2016</td>\n",
       "      <td>B000R7RN0G</td>\n",
       "      <td>Mike P.</td>\n",
       "      <td>These are my favorite jalapeno chips so far. T...</td>\n",
       "      <td>These are my favorite jalapeno chips so far</td>\n",
       "      <td>1473811200</td>\n",
       "      <td>NaN</td>\n",
       "      <td>{'Flavor:': ' Jalapeo'}</td>\n",
       "      <td>NaN</td>\n",
       "      <td>74859</td>\n",
       "      <td>4349</td>\n",
       "      <td>1.0</td>\n",
       "    </tr>\n",
       "  </tbody>\n",
       "</table>\n",
       "</div>"
      ],
      "text/plain": [
       "   overall  verified   reviewTime        asin      reviewerName  \\\n",
       "0      5.0      True   10 4, 2016  B01CPNIEQG           Heather   \n",
       "1      5.0      True   03 1, 2016  B006F63M8U        Linda Odom   \n",
       "2      5.0      True  06 26, 2016  B00112O8NG     DesertBlossom   \n",
       "3      5.0      True   09 5, 2013  B00MRAQUM8  Connie L. Reaves   \n",
       "4      5.0      True  09 14, 2016  B000R7RN0G           Mike P.   \n",
       "\n",
       "                                          reviewText  \\\n",
       "0  These are my FAVORITE spices in my collection....   \n",
       "1  Add A package to my Coffee and it makes a good...   \n",
       "2  I love the Torani syrups, but not the prices o...   \n",
       "3  Very fragrant. The price can't be beat. I do l...   \n",
       "4  These are my favorite jalapeno chips so far. T...   \n",
       "\n",
       "                                             summary  unixReviewTime vote  \\\n",
       "0                    Must Add to your Spice kitchen!      1475539200  NaN   \n",
       "1            Milk Chocolate Swiis MIss Hot Cocoa Mix      1456790400  NaN   \n",
       "2  Love these sugar free syrups, but didn't love ...      1466899200   28   \n",
       "3                                             Nice !      1378339200  NaN   \n",
       "4        These are my favorite jalapeno chips so far      1473811200  NaN   \n",
       "\n",
       "                                style image  userid  itemid  rating  \n",
       "0                                 NaN   NaN  102179   37138     1.0  \n",
       "1  {'Size:': ' 60-0.73 oz Envelopes'}   NaN    3625   17322     1.0  \n",
       "2                                 NaN   NaN   39495    5600     1.0  \n",
       "3                                 NaN   NaN   72854   30249     1.0  \n",
       "4             {'Flavor:': ' Jalapeo'}   NaN   74859    4349     1.0  "
      ]
     },
     "metadata": {},
     "output_type": "display_data"
    },
    {
     "name": "stdout",
     "output_type": "stream",
     "text": [
      "Размерность тестового датасета:  (285965, 11)\n"
     ]
    },
    {
     "data": {
      "text/html": [
       "<div>\n",
       "<style scoped>\n",
       "    .dataframe tbody tr th:only-of-type {\n",
       "        vertical-align: middle;\n",
       "    }\n",
       "\n",
       "    .dataframe tbody tr th {\n",
       "        vertical-align: top;\n",
       "    }\n",
       "\n",
       "    .dataframe thead th {\n",
       "        text-align: right;\n",
       "    }\n",
       "</style>\n",
       "<table border=\"1\" class=\"dataframe\">\n",
       "  <thead>\n",
       "    <tr style=\"text-align: right;\">\n",
       "      <th></th>\n",
       "      <th>verified</th>\n",
       "      <th>reviewTime</th>\n",
       "      <th>asin</th>\n",
       "      <th>reviewerName</th>\n",
       "      <th>unixReviewTime</th>\n",
       "      <th>vote</th>\n",
       "      <th>style</th>\n",
       "      <th>image</th>\n",
       "      <th>userid</th>\n",
       "      <th>itemid</th>\n",
       "      <th>Id</th>\n",
       "    </tr>\n",
       "  </thead>\n",
       "  <tbody>\n",
       "    <tr>\n",
       "      <th>0</th>\n",
       "      <td>True</td>\n",
       "      <td>10 1, 2016</td>\n",
       "      <td>B001E5E3X0</td>\n",
       "      <td>Rudys Mom</td>\n",
       "      <td>1475280000</td>\n",
       "      <td>NaN</td>\n",
       "      <td>NaN</td>\n",
       "      <td>NaN</td>\n",
       "      <td>68877</td>\n",
       "      <td>7506</td>\n",
       "      <td>0</td>\n",
       "    </tr>\n",
       "    <tr>\n",
       "      <th>1</th>\n",
       "      <td>True</td>\n",
       "      <td>06 29, 2014</td>\n",
       "      <td>B005BYXX5E</td>\n",
       "      <td>pharg</td>\n",
       "      <td>1404000000</td>\n",
       "      <td>2</td>\n",
       "      <td>NaN</td>\n",
       "      <td>NaN</td>\n",
       "      <td>50442</td>\n",
       "      <td>15530</td>\n",
       "      <td>1</td>\n",
       "    </tr>\n",
       "    <tr>\n",
       "      <th>2</th>\n",
       "      <td>True</td>\n",
       "      <td>05 19, 2015</td>\n",
       "      <td>B0052OK6OO</td>\n",
       "      <td>dhalex</td>\n",
       "      <td>1431993600</td>\n",
       "      <td>NaN</td>\n",
       "      <td>NaN</td>\n",
       "      <td>NaN</td>\n",
       "      <td>64349</td>\n",
       "      <td>15049</td>\n",
       "      <td>2</td>\n",
       "    </tr>\n",
       "    <tr>\n",
       "      <th>3</th>\n",
       "      <td>True</td>\n",
       "      <td>10 5, 2014</td>\n",
       "      <td>B003SO8HGE</td>\n",
       "      <td>Vanessa</td>\n",
       "      <td>1412467200</td>\n",
       "      <td>NaN</td>\n",
       "      <td>{'Flavor:': ' Sweet Rose'}</td>\n",
       "      <td>NaN</td>\n",
       "      <td>26206</td>\n",
       "      <td>11957</td>\n",
       "      <td>3</td>\n",
       "    </tr>\n",
       "    <tr>\n",
       "      <th>4</th>\n",
       "      <td>True</td>\n",
       "      <td>11 11, 2013</td>\n",
       "      <td>B003XUJ564</td>\n",
       "      <td>R Mohrman</td>\n",
       "      <td>1384128000</td>\n",
       "      <td>3</td>\n",
       "      <td>{'Size:': ' 15 Ounce (Pack of 12)', 'Flavor:':...</td>\n",
       "      <td>NaN</td>\n",
       "      <td>59366</td>\n",
       "      <td>12173</td>\n",
       "      <td>4</td>\n",
       "    </tr>\n",
       "  </tbody>\n",
       "</table>\n",
       "</div>"
      ],
      "text/plain": [
       "   verified   reviewTime        asin reviewerName  unixReviewTime vote  \\\n",
       "0      True   10 1, 2016  B001E5E3X0    Rudys Mom      1475280000  NaN   \n",
       "1      True  06 29, 2014  B005BYXX5E        pharg      1404000000    2   \n",
       "2      True  05 19, 2015  B0052OK6OO       dhalex      1431993600  NaN   \n",
       "3      True   10 5, 2014  B003SO8HGE      Vanessa      1412467200  NaN   \n",
       "4      True  11 11, 2013  B003XUJ564    R Mohrman      1384128000    3   \n",
       "\n",
       "                                               style image  userid  itemid  Id  \n",
       "0                                                NaN   NaN   68877    7506   0  \n",
       "1                                                NaN   NaN   50442   15530   1  \n",
       "2                                                NaN   NaN   64349   15049   2  \n",
       "3                         {'Flavor:': ' Sweet Rose'}   NaN   26206   11957   3  \n",
       "4  {'Size:': ' 15 Ounce (Pack of 12)', 'Flavor:':...   NaN   59366   12173   4  "
      ]
     },
     "metadata": {},
     "output_type": "display_data"
    }
   ],
   "source": [
    "# Initial Data Inspection\n",
    "pd.set_option('display.max_columns', None)\n",
    "print('Размерность тренировочного датасета: ', train.shape)\n",
    "display(train.head(5))\n",
    "print('Размерность тестового датасета: ', test.shape)\n",
    "display(test.head(5))\n",
    "#print('Размерность мета датасета: ', meta.shape)\n",
    "#display(meta.head(5))"
   ]
  },
  {
   "cell_type": "code",
   "execution_count": 11,
   "metadata": {
    "execution": {
     "iopub.execute_input": "2021-09-07T18:30:13.603528Z",
     "iopub.status.busy": "2021-09-07T18:30:13.602740Z",
     "iopub.status.idle": "2021-09-07T18:30:14.265672Z",
     "shell.execute_reply": "2021-09-07T18:30:14.266206Z",
     "shell.execute_reply.started": "2021-09-07T17:31:10.769282Z"
    },
    "papermill": {
     "duration": 0.784686,
     "end_time": "2021-09-07T18:30:14.266377",
     "exception": false,
     "start_time": "2021-09-07T18:30:13.481691",
     "status": "completed"
    },
    "tags": []
   },
   "outputs": [
    {
     "name": "stdout",
     "output_type": "stream",
     "text": [
      "<class 'pandas.core.frame.DataFrame'>\n",
      "RangeIndex: 857895 entries, 0 to 857894\n",
      "Data columns (total 14 columns):\n",
      " #   Column          Non-Null Count   Dtype  \n",
      "---  ------          --------------   -----  \n",
      " 0   overall         857895 non-null  float64\n",
      " 1   verified        857895 non-null  bool   \n",
      " 2   reviewTime      857895 non-null  object \n",
      " 3   asin            857895 non-null  object \n",
      " 4   reviewerName    857719 non-null  object \n",
      " 5   reviewText      857616 non-null  object \n",
      " 6   summary         857725 non-null  object \n",
      " 7   unixReviewTime  857895 non-null  int64  \n",
      " 8   vote            118740 non-null  object \n",
      " 9   style           444406 non-null  object \n",
      " 10  image           7142 non-null    object \n",
      " 11  userid          857895 non-null  int64  \n",
      " 12  itemid          857895 non-null  int64  \n",
      " 13  rating          857895 non-null  float64\n",
      "dtypes: bool(1), float64(2), int64(3), object(8)\n",
      "memory usage: 85.9+ MB\n"
     ]
    }
   ],
   "source": [
    "train.info()"
   ]
  },
  {
   "cell_type": "code",
   "execution_count": 12,
   "metadata": {
    "execution": {
     "iopub.execute_input": "2021-09-07T18:30:14.503452Z",
     "iopub.status.busy": "2021-09-07T18:30:14.502777Z",
     "iopub.status.idle": "2021-09-07T18:30:14.656548Z",
     "shell.execute_reply": "2021-09-07T18:30:14.655966Z",
     "shell.execute_reply.started": "2021-09-07T17:31:13.928084Z"
    },
    "papermill": {
     "duration": 0.272732,
     "end_time": "2021-09-07T18:30:14.656673",
     "exception": false,
     "start_time": "2021-09-07T18:30:14.383941",
     "status": "completed"
    },
    "tags": []
   },
   "outputs": [
    {
     "name": "stdout",
     "output_type": "stream",
     "text": [
      "<class 'pandas.core.frame.DataFrame'>\n",
      "RangeIndex: 285965 entries, 0 to 285964\n",
      "Data columns (total 11 columns):\n",
      " #   Column          Non-Null Count   Dtype \n",
      "---  ------          --------------   ----- \n",
      " 0   verified        285965 non-null  bool  \n",
      " 1   reviewTime      285965 non-null  object\n",
      " 2   asin            285965 non-null  object\n",
      " 3   reviewerName    285918 non-null  object\n",
      " 4   unixReviewTime  285965 non-null  int64 \n",
      " 5   vote            39462 non-null   object\n",
      " 6   style           147680 non-null  object\n",
      " 7   image           2368 non-null    object\n",
      " 8   userid          285965 non-null  int64 \n",
      " 9   itemid          285965 non-null  int64 \n",
      " 10  Id              285965 non-null  int64 \n",
      "dtypes: bool(1), int64(4), object(6)\n",
      "memory usage: 22.1+ MB\n"
     ]
    }
   ],
   "source": [
    "test.info()"
   ]
  },
  {
   "cell_type": "markdown",
   "metadata": {
    "papermill": {
     "duration": 0.115648,
     "end_time": "2021-09-07T18:30:14.888471",
     "exception": false,
     "start_time": "2021-09-07T18:30:14.772823",
     "status": "completed"
    },
    "tags": []
   },
   "source": [
    "## Exploratory Data Analysis"
   ]
  },
  {
   "cell_type": "markdown",
   "metadata": {
    "papermill": {
     "duration": 0.115673,
     "end_time": "2021-09-07T18:30:15.120398",
     "exception": false,
     "start_time": "2021-09-07T18:30:15.004725",
     "status": "completed"
    },
    "tags": []
   },
   "source": [
    "First of all let's check if our training dataset has duplicated pairs userid-itemid, and if it has, let's get rid of them"
   ]
  },
  {
   "cell_type": "code",
   "execution_count": 13,
   "metadata": {
    "execution": {
     "iopub.execute_input": "2021-09-07T18:30:15.364566Z",
     "iopub.status.busy": "2021-09-07T18:30:15.363806Z",
     "iopub.status.idle": "2021-09-07T18:30:15.585219Z",
     "shell.execute_reply": "2021-09-07T18:30:15.585781Z",
     "shell.execute_reply.started": "2021-09-07T17:31:17.098937Z"
    },
    "papermill": {
     "duration": 0.346666,
     "end_time": "2021-09-07T18:30:15.585938",
     "exception": false,
     "start_time": "2021-09-07T18:30:15.239272",
     "status": "completed"
    },
    "tags": []
   },
   "outputs": [
    {
     "data": {
      "text/html": [
       "<div>\n",
       "<style scoped>\n",
       "    .dataframe tbody tr th:only-of-type {\n",
       "        vertical-align: middle;\n",
       "    }\n",
       "\n",
       "    .dataframe tbody tr th {\n",
       "        vertical-align: top;\n",
       "    }\n",
       "\n",
       "    .dataframe thead th {\n",
       "        text-align: right;\n",
       "    }\n",
       "</style>\n",
       "<table border=\"1\" class=\"dataframe\">\n",
       "  <thead>\n",
       "    <tr style=\"text-align: right;\">\n",
       "      <th></th>\n",
       "      <th>overall</th>\n",
       "      <th>verified</th>\n",
       "      <th>reviewTime</th>\n",
       "      <th>asin</th>\n",
       "      <th>reviewerName</th>\n",
       "      <th>reviewText</th>\n",
       "      <th>summary</th>\n",
       "      <th>unixReviewTime</th>\n",
       "      <th>vote</th>\n",
       "      <th>style</th>\n",
       "      <th>image</th>\n",
       "      <th>userid</th>\n",
       "      <th>itemid</th>\n",
       "      <th>rating</th>\n",
       "    </tr>\n",
       "  </thead>\n",
       "  <tbody>\n",
       "    <tr>\n",
       "      <th>142161</th>\n",
       "      <td>5.0</td>\n",
       "      <td>True</td>\n",
       "      <td>08 4, 2016</td>\n",
       "      <td>B00ZW60PCA</td>\n",
       "      <td>EuiTaek, Y.</td>\n",
       "      <td>Good</td>\n",
       "      <td>Five Stars</td>\n",
       "      <td>1470268800</td>\n",
       "      <td>NaN</td>\n",
       "      <td>{'Style:': ' Cranberry'}</td>\n",
       "      <td>NaN</td>\n",
       "      <td>127495</td>\n",
       "      <td>41097</td>\n",
       "      <td>1.0</td>\n",
       "    </tr>\n",
       "    <tr>\n",
       "      <th>797847</th>\n",
       "      <td>5.0</td>\n",
       "      <td>True</td>\n",
       "      <td>08 4, 2016</td>\n",
       "      <td>B00ZW60PCA</td>\n",
       "      <td>EuiTaek, Y.</td>\n",
       "      <td>Taste so good</td>\n",
       "      <td>Five Stars</td>\n",
       "      <td>1470268800</td>\n",
       "      <td>NaN</td>\n",
       "      <td>{'Style:': ' Acai Berry'}</td>\n",
       "      <td>NaN</td>\n",
       "      <td>127495</td>\n",
       "      <td>41097</td>\n",
       "      <td>1.0</td>\n",
       "    </tr>\n",
       "    <tr>\n",
       "      <th>190592</th>\n",
       "      <td>2.0</td>\n",
       "      <td>True</td>\n",
       "      <td>01 5, 2017</td>\n",
       "      <td>B017LXVT12</td>\n",
       "      <td>Earl J. Byard</td>\n",
       "      <td>not for me bad taste , soap</td>\n",
       "      <td>not again</td>\n",
       "      <td>1483574400</td>\n",
       "      <td>NaN</td>\n",
       "      <td>{'Flavor:': ' Elk Roasted Garlic Cheddar'}</td>\n",
       "      <td>NaN</td>\n",
       "      <td>127437</td>\n",
       "      <td>35950</td>\n",
       "      <td>0.0</td>\n",
       "    </tr>\n",
       "    <tr>\n",
       "      <th>546500</th>\n",
       "      <td>2.0</td>\n",
       "      <td>True</td>\n",
       "      <td>01 5, 2017</td>\n",
       "      <td>B017LXVT12</td>\n",
       "      <td>Earl J. Byard</td>\n",
       "      <td>not for me bad taste like soap</td>\n",
       "      <td>no</td>\n",
       "      <td>1483574400</td>\n",
       "      <td>NaN</td>\n",
       "      <td>{'Flavor:': ' Bison Chipotle Cheddar'}</td>\n",
       "      <td>NaN</td>\n",
       "      <td>127437</td>\n",
       "      <td>35950</td>\n",
       "      <td>0.0</td>\n",
       "    </tr>\n",
       "    <tr>\n",
       "      <th>560085</th>\n",
       "      <td>2.0</td>\n",
       "      <td>True</td>\n",
       "      <td>01 5, 2017</td>\n",
       "      <td>B017LXVT12</td>\n",
       "      <td>Earl J. Byard</td>\n",
       "      <td>not for me bad taste like soap</td>\n",
       "      <td>no</td>\n",
       "      <td>1483574400</td>\n",
       "      <td>NaN</td>\n",
       "      <td>{'Flavor:': ' Pheasant Smoked  Gouda'}</td>\n",
       "      <td>NaN</td>\n",
       "      <td>127437</td>\n",
       "      <td>35950</td>\n",
       "      <td>0.0</td>\n",
       "    </tr>\n",
       "    <tr>\n",
       "      <th>...</th>\n",
       "      <td>...</td>\n",
       "      <td>...</td>\n",
       "      <td>...</td>\n",
       "      <td>...</td>\n",
       "      <td>...</td>\n",
       "      <td>...</td>\n",
       "      <td>...</td>\n",
       "      <td>...</td>\n",
       "      <td>...</td>\n",
       "      <td>...</td>\n",
       "      <td>...</td>\n",
       "      <td>...</td>\n",
       "      <td>...</td>\n",
       "      <td>...</td>\n",
       "    </tr>\n",
       "    <tr>\n",
       "      <th>717734</th>\n",
       "      <td>5.0</td>\n",
       "      <td>True</td>\n",
       "      <td>06 23, 2016</td>\n",
       "      <td>B00136MKEO</td>\n",
       "      <td>ALFRED W</td>\n",
       "      <td>GOOD</td>\n",
       "      <td>GOOD</td>\n",
       "      <td>1466640000</td>\n",
       "      <td>NaN</td>\n",
       "      <td>{'Flavor:': ' Special Blend'}</td>\n",
       "      <td>NaN</td>\n",
       "      <td>20</td>\n",
       "      <td>5895</td>\n",
       "      <td>1.0</td>\n",
       "    </tr>\n",
       "    <tr>\n",
       "      <th>720963</th>\n",
       "      <td>5.0</td>\n",
       "      <td>True</td>\n",
       "      <td>06 23, 2016</td>\n",
       "      <td>B00136MKEO</td>\n",
       "      <td>ALFRED W</td>\n",
       "      <td>GOOD</td>\n",
       "      <td>GOOD</td>\n",
       "      <td>1466640000</td>\n",
       "      <td>NaN</td>\n",
       "      <td>{'Flavor:': ' Cardamom'}</td>\n",
       "      <td>NaN</td>\n",
       "      <td>20</td>\n",
       "      <td>5895</td>\n",
       "      <td>1.0</td>\n",
       "    </tr>\n",
       "    <tr>\n",
       "      <th>593422</th>\n",
       "      <td>5.0</td>\n",
       "      <td>True</td>\n",
       "      <td>03 4, 2017</td>\n",
       "      <td>B000YF4PZW</td>\n",
       "      <td>Kindle Customer</td>\n",
       "      <td>Wow, I've never had Mince pie before now. I'm ...</td>\n",
       "      <td>Sweet and fresh</td>\n",
       "      <td>1488585600</td>\n",
       "      <td>NaN</td>\n",
       "      <td>NaN</td>\n",
       "      <td>NaN</td>\n",
       "      <td>14</td>\n",
       "      <td>5298</td>\n",
       "      <td>1.0</td>\n",
       "    </tr>\n",
       "    <tr>\n",
       "      <th>458488</th>\n",
       "      <td>5.0</td>\n",
       "      <td>True</td>\n",
       "      <td>11 3, 2015</td>\n",
       "      <td>B0016BFR4G</td>\n",
       "      <td>Metajohn</td>\n",
       "      <td>This is a high quality green tea.  Price also ...</td>\n",
       "      <td>Drink every day!</td>\n",
       "      <td>1446508800</td>\n",
       "      <td>NaN</td>\n",
       "      <td>{'Size:': ' Pack of 1'}</td>\n",
       "      <td>NaN</td>\n",
       "      <td>7</td>\n",
       "      <td>6473</td>\n",
       "      <td>1.0</td>\n",
       "    </tr>\n",
       "    <tr>\n",
       "      <th>493141</th>\n",
       "      <td>4.0</td>\n",
       "      <td>True</td>\n",
       "      <td>12 14, 2015</td>\n",
       "      <td>B000VK2KWK</td>\n",
       "      <td>Krystal Clifton</td>\n",
       "      <td>I am a big fan of these, however, the 4 stars ...</td>\n",
       "      <td>its okay.</td>\n",
       "      <td>1450051200</td>\n",
       "      <td>NaN</td>\n",
       "      <td>NaN</td>\n",
       "      <td>NaN</td>\n",
       "      <td>2</td>\n",
       "      <td>4919</td>\n",
       "      <td>1.0</td>\n",
       "    </tr>\n",
       "  </tbody>\n",
       "</table>\n",
       "<p>45197 rows × 14 columns</p>\n",
       "</div>"
      ],
      "text/plain": [
       "        overall  verified   reviewTime        asin     reviewerName  \\\n",
       "142161      5.0      True   08 4, 2016  B00ZW60PCA      EuiTaek, Y.   \n",
       "797847      5.0      True   08 4, 2016  B00ZW60PCA      EuiTaek, Y.   \n",
       "190592      2.0      True   01 5, 2017  B017LXVT12    Earl J. Byard   \n",
       "546500      2.0      True   01 5, 2017  B017LXVT12    Earl J. Byard   \n",
       "560085      2.0      True   01 5, 2017  B017LXVT12    Earl J. Byard   \n",
       "...         ...       ...          ...         ...              ...   \n",
       "717734      5.0      True  06 23, 2016  B00136MKEO         ALFRED W   \n",
       "720963      5.0      True  06 23, 2016  B00136MKEO         ALFRED W   \n",
       "593422      5.0      True   03 4, 2017  B000YF4PZW  Kindle Customer   \n",
       "458488      5.0      True   11 3, 2015  B0016BFR4G         Metajohn   \n",
       "493141      4.0      True  12 14, 2015  B000VK2KWK  Krystal Clifton   \n",
       "\n",
       "                                               reviewText           summary  \\\n",
       "142161                                               Good        Five Stars   \n",
       "797847                                      Taste so good        Five Stars   \n",
       "190592                        not for me bad taste , soap         not again   \n",
       "546500                     not for me bad taste like soap                no   \n",
       "560085                     not for me bad taste like soap                no   \n",
       "...                                                   ...               ...   \n",
       "717734                                               GOOD              GOOD   \n",
       "720963                                               GOOD              GOOD   \n",
       "593422  Wow, I've never had Mince pie before now. I'm ...   Sweet and fresh   \n",
       "458488  This is a high quality green tea.  Price also ...  Drink every day!   \n",
       "493141  I am a big fan of these, however, the 4 stars ...         its okay.   \n",
       "\n",
       "        unixReviewTime vote                                       style image  \\\n",
       "142161      1470268800  NaN                    {'Style:': ' Cranberry'}   NaN   \n",
       "797847      1470268800  NaN                   {'Style:': ' Acai Berry'}   NaN   \n",
       "190592      1483574400  NaN  {'Flavor:': ' Elk Roasted Garlic Cheddar'}   NaN   \n",
       "546500      1483574400  NaN      {'Flavor:': ' Bison Chipotle Cheddar'}   NaN   \n",
       "560085      1483574400  NaN      {'Flavor:': ' Pheasant Smoked  Gouda'}   NaN   \n",
       "...                ...  ...                                         ...   ...   \n",
       "717734      1466640000  NaN               {'Flavor:': ' Special Blend'}   NaN   \n",
       "720963      1466640000  NaN                    {'Flavor:': ' Cardamom'}   NaN   \n",
       "593422      1488585600  NaN                                         NaN   NaN   \n",
       "458488      1446508800  NaN                     {'Size:': ' Pack of 1'}   NaN   \n",
       "493141      1450051200  NaN                                         NaN   NaN   \n",
       "\n",
       "        userid  itemid  rating  \n",
       "142161  127495   41097     1.0  \n",
       "797847  127495   41097     1.0  \n",
       "190592  127437   35950     0.0  \n",
       "546500  127437   35950     0.0  \n",
       "560085  127437   35950     0.0  \n",
       "...        ...     ...     ...  \n",
       "717734      20    5895     1.0  \n",
       "720963      20    5895     1.0  \n",
       "593422      14    5298     1.0  \n",
       "458488       7    6473     1.0  \n",
       "493141       2    4919     1.0  \n",
       "\n",
       "[45197 rows x 14 columns]"
      ]
     },
     "execution_count": 13,
     "metadata": {},
     "output_type": "execute_result"
    }
   ],
   "source": [
    "train[train.duplicated(subset=['userid', 'itemid'])].sort_values(['userid', 'itemid'], ascending = (False, True))"
   ]
  },
  {
   "cell_type": "markdown",
   "metadata": {
    "papermill": {
     "duration": 0.117333,
     "end_time": "2021-09-07T18:30:15.819421",
     "exception": false,
     "start_time": "2021-09-07T18:30:15.702088",
     "status": "completed"
    },
    "tags": []
   },
   "source": [
    "#### As we can see there is a lot of duplicated records in the reviews dataset. Let's get rid of them"
   ]
  },
  {
   "cell_type": "code",
   "execution_count": 14,
   "metadata": {
    "execution": {
     "iopub.execute_input": "2021-09-07T18:30:16.059392Z",
     "iopub.status.busy": "2021-09-07T18:30:16.058715Z",
     "iopub.status.idle": "2021-09-07T18:30:18.649340Z",
     "shell.execute_reply": "2021-09-07T18:30:18.648376Z",
     "shell.execute_reply.started": "2021-09-07T17:31:20.083341Z"
    },
    "papermill": {
     "duration": 2.712331,
     "end_time": "2021-09-07T18:30:18.649499",
     "exception": false,
     "start_time": "2021-09-07T18:30:15.937168",
     "status": "completed"
    },
    "tags": []
   },
   "outputs": [],
   "source": [
    "train.drop_duplicates(inplace = True)"
   ]
  },
  {
   "cell_type": "code",
   "execution_count": 15,
   "metadata": {
    "execution": {
     "iopub.execute_input": "2021-09-07T18:30:18.892937Z",
     "iopub.status.busy": "2021-09-07T18:30:18.891811Z",
     "iopub.status.idle": "2021-09-07T18:30:19.520935Z",
     "shell.execute_reply": "2021-09-07T18:30:19.520365Z",
     "shell.execute_reply.started": "2021-09-07T17:31:24.307923Z"
    },
    "papermill": {
     "duration": 0.752163,
     "end_time": "2021-09-07T18:30:19.521082",
     "exception": false,
     "start_time": "2021-09-07T18:30:18.768919",
     "status": "completed"
    },
    "tags": []
   },
   "outputs": [
    {
     "name": "stdout",
     "output_type": "stream",
     "text": [
      "<class 'pandas.core.frame.DataFrame'>\n",
      "Int64Index: 828935 entries, 0 to 857894\n",
      "Data columns (total 14 columns):\n",
      " #   Column          Non-Null Count   Dtype  \n",
      "---  ------          --------------   -----  \n",
      " 0   overall         828935 non-null  float64\n",
      " 1   verified        828935 non-null  bool   \n",
      " 2   reviewTime      828935 non-null  object \n",
      " 3   asin            828935 non-null  object \n",
      " 4   reviewerName    828771 non-null  object \n",
      " 5   reviewText      828661 non-null  object \n",
      " 6   summary         828769 non-null  object \n",
      " 7   unixReviewTime  828935 non-null  int64  \n",
      " 8   vote            115991 non-null  object \n",
      " 9   style           429265 non-null  object \n",
      " 10  image           7026 non-null    object \n",
      " 11  userid          828935 non-null  int64  \n",
      " 12  itemid          828935 non-null  int64  \n",
      " 13  rating          828935 non-null  float64\n",
      "dtypes: bool(1), float64(2), int64(3), object(8)\n",
      "memory usage: 89.3+ MB\n"
     ]
    }
   ],
   "source": [
    "train.info()"
   ]
  },
  {
   "cell_type": "markdown",
   "metadata": {
    "papermill": {
     "duration": 0.119779,
     "end_time": "2021-09-07T18:30:19.765619",
     "exception": false,
     "start_time": "2021-09-07T18:30:19.645840",
     "status": "completed"
    },
    "tags": []
   },
   "source": [
    "#### Let's look at the data and see which feature we will use in our model and which - not. Also, let's see if we need to manipulate on some features and if it's possible to engineer new features."
   ]
  },
  {
   "cell_type": "markdown",
   "metadata": {
    "papermill": {
     "duration": 0.118831,
     "end_time": "2021-09-07T18:30:20.003626",
     "exception": false,
     "start_time": "2021-09-07T18:30:19.884795",
     "status": "completed"
    },
    "tags": []
   },
   "source": [
    "#### Let's first create a list to store those features that we will remove"
   ]
  },
  {
   "cell_type": "code",
   "execution_count": 16,
   "metadata": {
    "execution": {
     "iopub.execute_input": "2021-09-07T18:30:20.252821Z",
     "iopub.status.busy": "2021-09-07T18:30:20.251745Z",
     "iopub.status.idle": "2021-09-07T18:30:20.254952Z",
     "shell.execute_reply": "2021-09-07T18:30:20.254333Z",
     "shell.execute_reply.started": "2021-09-07T17:31:27.360089Z"
    },
    "papermill": {
     "duration": 0.129605,
     "end_time": "2021-09-07T18:30:20.255103",
     "exception": false,
     "start_time": "2021-09-07T18:30:20.125498",
     "status": "completed"
    },
    "tags": []
   },
   "outputs": [],
   "source": [
    "train_to_remove = []"
   ]
  },
  {
   "cell_type": "markdown",
   "metadata": {
    "papermill": {
     "duration": 0.118493,
     "end_time": "2021-09-07T18:30:20.490613",
     "exception": false,
     "start_time": "2021-09-07T18:30:20.372120",
     "status": "completed"
    },
    "tags": []
   },
   "source": [
    "#### From the first glance it is obvious that dataset contains features that can not be useful for building the model. The first one is **reviewerName**. There should not be any dependency between reviewer name and his or her review. Also, it seems that we have two features that mean the time of the review, they just have a different format. Though it is a contraversial question, I would keep the Unix-time format in the dataset and remove the daye format"
   ]
  },
  {
   "cell_type": "code",
   "execution_count": 17,
   "metadata": {
    "execution": {
     "iopub.execute_input": "2021-09-07T18:30:20.729666Z",
     "iopub.status.busy": "2021-09-07T18:30:20.728689Z",
     "iopub.status.idle": "2021-09-07T18:30:20.731949Z",
     "shell.execute_reply": "2021-09-07T18:30:20.731456Z",
     "shell.execute_reply.started": "2021-09-07T17:31:29.283663Z"
    },
    "papermill": {
     "duration": 0.124765,
     "end_time": "2021-09-07T18:30:20.732105",
     "exception": false,
     "start_time": "2021-09-07T18:30:20.607340",
     "status": "completed"
    },
    "tags": []
   },
   "outputs": [],
   "source": [
    "train_to_remove.append('reviewerName')\n",
    "train_to_remove.append('reviewTime')"
   ]
  },
  {
   "cell_type": "markdown",
   "metadata": {
    "papermill": {
     "duration": 0.119426,
     "end_time": "2021-09-07T18:30:20.972780",
     "exception": false,
     "start_time": "2021-09-07T18:30:20.853354",
     "status": "completed"
    },
    "tags": []
   },
   "source": [
    "#### Also I suggest to remove **overall** feature from the dataset as long as we have a derivative feature from **overall**, namely **rating**"
   ]
  },
  {
   "cell_type": "code",
   "execution_count": 18,
   "metadata": {
    "execution": {
     "iopub.execute_input": "2021-09-07T18:30:21.216679Z",
     "iopub.status.busy": "2021-09-07T18:30:21.215779Z",
     "iopub.status.idle": "2021-09-07T18:30:21.219115Z",
     "shell.execute_reply": "2021-09-07T18:30:21.218393Z",
     "shell.execute_reply.started": "2021-09-07T17:31:32.054416Z"
    },
    "papermill": {
     "duration": 0.126723,
     "end_time": "2021-09-07T18:30:21.219247",
     "exception": false,
     "start_time": "2021-09-07T18:30:21.092524",
     "status": "completed"
    },
    "tags": []
   },
   "outputs": [],
   "source": [
    "train_to_remove.append('overall')"
   ]
  },
  {
   "cell_type": "code",
   "execution_count": 19,
   "metadata": {
    "execution": {
     "iopub.execute_input": "2021-09-07T18:30:21.470657Z",
     "iopub.status.busy": "2021-09-07T18:30:21.469618Z",
     "iopub.status.idle": "2021-09-07T18:30:21.474277Z",
     "shell.execute_reply": "2021-09-07T18:30:21.473656Z",
     "shell.execute_reply.started": "2021-09-07T17:31:33.692010Z"
    },
    "papermill": {
     "duration": 0.131226,
     "end_time": "2021-09-07T18:30:21.474410",
     "exception": false,
     "start_time": "2021-09-07T18:30:21.343184",
     "status": "completed"
    },
    "tags": []
   },
   "outputs": [
    {
     "data": {
      "text/plain": [
       "['reviewerName', 'reviewTime', 'overall']"
      ]
     },
     "execution_count": 19,
     "metadata": {},
     "output_type": "execute_result"
    }
   ],
   "source": [
    "train_to_remove"
   ]
  },
  {
   "cell_type": "markdown",
   "metadata": {
    "papermill": {
     "duration": 0.117625,
     "end_time": "2021-09-07T18:30:21.713034",
     "exception": false,
     "start_time": "2021-09-07T18:30:21.595409",
     "status": "completed"
    },
    "tags": []
   },
   "source": [
    "#### Let's look at other features"
   ]
  },
  {
   "cell_type": "code",
   "execution_count": 20,
   "metadata": {
    "execution": {
     "iopub.execute_input": "2021-09-07T18:30:21.953385Z",
     "iopub.status.busy": "2021-09-07T18:30:21.952663Z",
     "iopub.status.idle": "2021-09-07T18:30:22.579245Z",
     "shell.execute_reply": "2021-09-07T18:30:22.578642Z",
     "shell.execute_reply.started": "2021-09-07T17:31:35.690698Z"
    },
    "papermill": {
     "duration": 0.748943,
     "end_time": "2021-09-07T18:30:22.579387",
     "exception": false,
     "start_time": "2021-09-07T18:30:21.830444",
     "status": "completed"
    },
    "tags": []
   },
   "outputs": [
    {
     "name": "stdout",
     "output_type": "stream",
     "text": [
      "<class 'pandas.core.frame.DataFrame'>\n",
      "Int64Index: 828935 entries, 0 to 857894\n",
      "Data columns (total 14 columns):\n",
      " #   Column          Non-Null Count   Dtype  \n",
      "---  ------          --------------   -----  \n",
      " 0   overall         828935 non-null  float64\n",
      " 1   verified        828935 non-null  bool   \n",
      " 2   reviewTime      828935 non-null  object \n",
      " 3   asin            828935 non-null  object \n",
      " 4   reviewerName    828771 non-null  object \n",
      " 5   reviewText      828661 non-null  object \n",
      " 6   summary         828769 non-null  object \n",
      " 7   unixReviewTime  828935 non-null  int64  \n",
      " 8   vote            115991 non-null  object \n",
      " 9   style           429265 non-null  object \n",
      " 10  image           7026 non-null    object \n",
      " 11  userid          828935 non-null  int64  \n",
      " 12  itemid          828935 non-null  int64  \n",
      " 13  rating          828935 non-null  float64\n",
      "dtypes: bool(1), float64(2), int64(3), object(8)\n",
      "memory usage: 89.3+ MB\n"
     ]
    }
   ],
   "source": [
    "train.info()"
   ]
  },
  {
   "cell_type": "code",
   "execution_count": 21,
   "metadata": {
    "execution": {
     "iopub.execute_input": "2021-09-07T18:30:22.825570Z",
     "iopub.status.busy": "2021-09-07T18:30:22.824822Z",
     "iopub.status.idle": "2021-09-07T18:30:22.859386Z",
     "shell.execute_reply": "2021-09-07T18:30:22.859874Z",
     "shell.execute_reply.started": "2021-09-07T17:31:39.214506Z"
    },
    "papermill": {
     "duration": 0.161773,
     "end_time": "2021-09-07T18:30:22.860074",
     "exception": false,
     "start_time": "2021-09-07T18:30:22.698301",
     "status": "completed"
    },
    "tags": []
   },
   "outputs": [
    {
     "data": {
      "text/plain": [
       "True     0.868378\n",
       "False    0.131622\n",
       "Name: verified, dtype: float64"
      ]
     },
     "execution_count": 21,
     "metadata": {},
     "output_type": "execute_result"
    }
   ],
   "source": [
    "train.verified.value_counts(normalize=True)"
   ]
  },
  {
   "cell_type": "markdown",
   "metadata": {
    "papermill": {
     "duration": 0.118064,
     "end_time": "2021-09-07T18:30:23.097836",
     "exception": false,
     "start_time": "2021-09-07T18:30:22.979772",
     "status": "completed"
    },
    "tags": []
   },
   "source": [
    "#### We see that 13% of the reviews are not verified and all the rest were verified. When building a model we can use only verified reviews or keep all the reviews. We Will try both approaches."
   ]
  },
  {
   "cell_type": "code",
   "execution_count": 22,
   "metadata": {
    "execution": {
     "iopub.execute_input": "2021-09-07T18:30:23.340193Z",
     "iopub.status.busy": "2021-09-07T18:30:23.339148Z",
     "iopub.status.idle": "2021-09-07T18:30:23.708478Z",
     "shell.execute_reply": "2021-09-07T18:30:23.709048Z",
     "shell.execute_reply.started": "2021-09-07T17:31:43.397014Z"
    },
    "papermill": {
     "duration": 0.493464,
     "end_time": "2021-09-07T18:30:23.709236",
     "exception": false,
     "start_time": "2021-09-07T18:30:23.215772",
     "status": "completed"
    },
    "tags": []
   },
   "outputs": [
    {
     "data": {
      "text/plain": [
       "B00BUKL666    5430\n",
       "B00D3M2QP4    4733\n",
       "B008QMX2SG    4611\n",
       "B00R7PWK7W    2449\n",
       "B000F4DKAI    2166\n",
       "              ... \n",
       "B001682U6M       1\n",
       "B00F9WMZO8       1\n",
       "B00TH3N6KM       1\n",
       "B001EO5KJM       1\n",
       "B007PEHCFK       1\n",
       "Name: asin, Length: 41302, dtype: int64"
      ]
     },
     "execution_count": 22,
     "metadata": {},
     "output_type": "execute_result"
    }
   ],
   "source": [
    "train.asin.value_counts()"
   ]
  },
  {
   "cell_type": "markdown",
   "metadata": {
    "papermill": {
     "duration": 0.124327,
     "end_time": "2021-09-07T18:30:23.955551",
     "exception": false,
     "start_time": "2021-09-07T18:30:23.831224",
     "status": "completed"
    },
    "tags": []
   },
   "source": [
    "#### Asin Feature looks like an item identifier, I don't see any practical use of it for now. However, it may be useful for merging our train dataset with the dataset with extra data. Let's think of it later. But for now let's get rid of this feature"
   ]
  },
  {
   "cell_type": "code",
   "execution_count": 23,
   "metadata": {
    "execution": {
     "iopub.execute_input": "2021-09-07T18:30:24.200112Z",
     "iopub.status.busy": "2021-09-07T18:30:24.199148Z",
     "iopub.status.idle": "2021-09-07T18:30:24.201948Z",
     "shell.execute_reply": "2021-09-07T18:30:24.201417Z",
     "shell.execute_reply.started": "2021-09-07T17:31:46.739619Z"
    },
    "papermill": {
     "duration": 0.127133,
     "end_time": "2021-09-07T18:30:24.202079",
     "exception": false,
     "start_time": "2021-09-07T18:30:24.074946",
     "status": "completed"
    },
    "tags": []
   },
   "outputs": [],
   "source": [
    "train_to_remove.append('asin')"
   ]
  },
  {
   "cell_type": "code",
   "execution_count": 24,
   "metadata": {
    "execution": {
     "iopub.execute_input": "2021-09-07T18:30:24.443633Z",
     "iopub.status.busy": "2021-09-07T18:30:24.442876Z",
     "iopub.status.idle": "2021-09-07T18:30:25.569665Z",
     "shell.execute_reply": "2021-09-07T18:30:25.569029Z",
     "shell.execute_reply.started": "2021-09-07T17:31:49.130624Z"
    },
    "papermill": {
     "duration": 1.248595,
     "end_time": "2021-09-07T18:30:25.569792",
     "exception": false,
     "start_time": "2021-09-07T18:30:24.321197",
     "status": "completed"
    },
    "tags": []
   },
   "outputs": [
    {
     "data": {
      "text/plain": [
       "good                                                                                                                        3019\n",
       "great                                                                                                                       2525\n",
       "Great                                                                                                                       2002\n",
       "Good                                                                                                                        1977\n",
       "ok                                                                                                                          1278\n",
       "                                                                                                                            ... \n",
       "Bob's Red Mill 10Grain Bread Mix , I realy like this product. Easy to make and never fails ,also like the tast.                1\n",
       "Best habanero hot sauce I've ever had.  I know they are more known for their tobasco type peppers but this is fantastic.       1\n",
       "My gluten/soy free kid doesn't enjoy the taste of much but really liked this one.                                              1\n",
       "LOVED this product... Use this in medicinal salves and other medicinal products I make.. Would recommend this                  1\n",
       "I love this stuff. So delicious                                                                                                1\n",
       "Name: reviewText, Length: 686739, dtype: int64"
      ]
     },
     "execution_count": 24,
     "metadata": {},
     "output_type": "execute_result"
    }
   ],
   "source": [
    "train.reviewText.value_counts()"
   ]
  },
  {
   "cell_type": "code",
   "execution_count": 25,
   "metadata": {
    "execution": {
     "iopub.execute_input": "2021-09-07T18:30:25.930028Z",
     "iopub.status.busy": "2021-09-07T18:30:25.929004Z",
     "iopub.status.idle": "2021-09-07T18:30:25.934872Z",
     "shell.execute_reply": "2021-09-07T18:30:25.935416Z",
     "shell.execute_reply.started": "2021-09-07T17:31:53.041923Z"
    },
    "papermill": {
     "duration": 0.243818,
     "end_time": "2021-09-07T18:30:25.935565",
     "exception": false,
     "start_time": "2021-09-07T18:30:25.691747",
     "status": "completed"
    },
    "tags": []
   },
   "outputs": [
    {
     "data": {
      "text/plain": [
       "274"
      ]
     },
     "execution_count": 25,
     "metadata": {},
     "output_type": "execute_result"
    }
   ],
   "source": [
    "train.reviewText.isna().sum()"
   ]
  },
  {
   "cell_type": "markdown",
   "metadata": {
    "papermill": {
     "duration": 0.119495,
     "end_time": "2021-09-07T18:30:26.174704",
     "exception": false,
     "start_time": "2021-09-07T18:30:26.055209",
     "status": "completed"
    },
    "tags": []
   },
   "source": [
    "Feature **reviewText** is basically the full review of the product. As we can see quite often the review contains just one word. I suggest to drop this feature. Though the deep analysis of the large reviews may be useful, I think it is not worth effirts spent on it. Probably we can get the same information from **summary** feature, because in reality what really matters here is whether the review was positive or negative."
   ]
  },
  {
   "cell_type": "code",
   "execution_count": 26,
   "metadata": {
    "execution": {
     "iopub.execute_input": "2021-09-07T18:30:26.418128Z",
     "iopub.status.busy": "2021-09-07T18:30:26.417089Z",
     "iopub.status.idle": "2021-09-07T18:30:26.421283Z",
     "shell.execute_reply": "2021-09-07T18:30:26.421756Z",
     "shell.execute_reply.started": "2021-09-07T17:32:13.232443Z"
    },
    "papermill": {
     "duration": 0.126668,
     "end_time": "2021-09-07T18:30:26.421920",
     "exception": false,
     "start_time": "2021-09-07T18:30:26.295252",
     "status": "completed"
    },
    "tags": []
   },
   "outputs": [],
   "source": [
    "train_to_remove.append('reviewText')"
   ]
  },
  {
   "cell_type": "code",
   "execution_count": 27,
   "metadata": {
    "execution": {
     "iopub.execute_input": "2021-09-07T18:30:26.664630Z",
     "iopub.status.busy": "2021-09-07T18:30:26.663615Z",
     "iopub.status.idle": "2021-09-07T18:30:27.544802Z",
     "shell.execute_reply": "2021-09-07T18:30:27.545298Z",
     "shell.execute_reply.started": "2021-09-07T17:32:15.612884Z"
    },
    "papermill": {
     "duration": 1.00334,
     "end_time": "2021-09-07T18:30:27.545453",
     "exception": false,
     "start_time": "2021-09-07T18:30:26.542113",
     "status": "completed"
    },
    "tags": []
   },
   "outputs": [
    {
     "data": {
      "text/plain": [
       "Five Stars                                                  167474\n",
       "Four Stars                                                   26017\n",
       "Three Stars                                                  11686\n",
       "One Star                                                      5213\n",
       "Two Stars                                                     4831\n",
       "                                                             ...  \n",
       "The Longer It Stays . . .                                        1\n",
       "LOVE these !!!!                                                  1\n",
       "Very useful for the period.                                      1\n",
       "Great on finger sandwiches!                                      1\n",
       "Arrived promptly. When I got them I immediately made ...         1\n",
       "Name: summary, Length: 411451, dtype: int64"
      ]
     },
     "execution_count": 27,
     "metadata": {},
     "output_type": "execute_result"
    }
   ],
   "source": [
    "train.summary.value_counts()"
   ]
  },
  {
   "cell_type": "code",
   "execution_count": 28,
   "metadata": {
    "execution": {
     "iopub.execute_input": "2021-09-07T18:30:27.787439Z",
     "iopub.status.busy": "2021-09-07T18:30:27.786388Z",
     "iopub.status.idle": "2021-09-07T18:30:27.880297Z",
     "shell.execute_reply": "2021-09-07T18:30:27.879659Z",
     "shell.execute_reply.started": "2021-09-07T17:32:20.263481Z"
    },
    "papermill": {
     "duration": 0.215851,
     "end_time": "2021-09-07T18:30:27.880423",
     "exception": false,
     "start_time": "2021-09-07T18:30:27.664572",
     "status": "completed"
    },
    "tags": []
   },
   "outputs": [
    {
     "data": {
      "text/plain": [
       "166"
      ]
     },
     "execution_count": 28,
     "metadata": {},
     "output_type": "execute_result"
    }
   ],
   "source": [
    "train.summary.isna().sum()"
   ]
  },
  {
   "cell_type": "markdown",
   "metadata": {
    "papermill": {
     "duration": 0.11952,
     "end_time": "2021-09-07T18:30:28.119212",
     "exception": false,
     "start_time": "2021-09-07T18:30:27.999692",
     "status": "completed"
    },
    "tags": []
   },
   "source": [
    "I guess we can use **summary** feature as an parameters for the model, however, we need to work on it in order to adjust in different representation. Also, as there are 170 missing values we will nedd to fill these missing values with some value"
   ]
  },
  {
   "cell_type": "code",
   "execution_count": 29,
   "metadata": {
    "execution": {
     "iopub.execute_input": "2021-09-07T18:30:28.439668Z",
     "iopub.status.busy": "2021-09-07T18:30:28.402655Z",
     "iopub.status.idle": "2021-09-07T18:30:28.448543Z",
     "shell.execute_reply": "2021-09-07T18:30:28.447847Z",
     "shell.execute_reply.started": "2021-09-07T17:32:23.339943Z"
    },
    "papermill": {
     "duration": 0.209632,
     "end_time": "2021-09-07T18:30:28.448664",
     "exception": false,
     "start_time": "2021-09-07T18:30:28.239032",
     "status": "completed"
    },
    "tags": []
   },
   "outputs": [
    {
     "data": {
      "text/plain": [
       "2.0      30083\n",
       "3.0      15036\n",
       "2        13464\n",
       "4.0       8670\n",
       "3         6806\n",
       "         ...  \n",
       "507.0        1\n",
       "576.0        1\n",
       "122.0        1\n",
       "577.0        1\n",
       "152          1\n",
       "Name: vote, Length: 477, dtype: int64"
      ]
     },
     "execution_count": 29,
     "metadata": {},
     "output_type": "execute_result"
    }
   ],
   "source": [
    "train.vote.value_counts()"
   ]
  },
  {
   "cell_type": "code",
   "execution_count": 30,
   "metadata": {
    "execution": {
     "iopub.execute_input": "2021-09-07T18:30:28.738480Z",
     "iopub.status.busy": "2021-09-07T18:30:28.731349Z",
     "iopub.status.idle": "2021-09-07T18:30:28.743108Z",
     "shell.execute_reply": "2021-09-07T18:30:28.742433Z",
     "shell.execute_reply.started": "2021-09-07T17:32:26.012214Z"
    },
    "papermill": {
     "duration": 0.173846,
     "end_time": "2021-09-07T18:30:28.743233",
     "exception": false,
     "start_time": "2021-09-07T18:30:28.569387",
     "status": "completed"
    },
    "tags": []
   },
   "outputs": [
    {
     "data": {
      "text/html": [
       "<div>\n",
       "<style scoped>\n",
       "    .dataframe tbody tr th:only-of-type {\n",
       "        vertical-align: middle;\n",
       "    }\n",
       "\n",
       "    .dataframe tbody tr th {\n",
       "        vertical-align: top;\n",
       "    }\n",
       "\n",
       "    .dataframe thead th {\n",
       "        text-align: right;\n",
       "    }\n",
       "</style>\n",
       "<table border=\"1\" class=\"dataframe\">\n",
       "  <thead>\n",
       "    <tr style=\"text-align: right;\">\n",
       "      <th></th>\n",
       "      <th>overall</th>\n",
       "      <th>verified</th>\n",
       "      <th>reviewTime</th>\n",
       "      <th>asin</th>\n",
       "      <th>reviewerName</th>\n",
       "      <th>reviewText</th>\n",
       "      <th>summary</th>\n",
       "      <th>unixReviewTime</th>\n",
       "      <th>vote</th>\n",
       "      <th>style</th>\n",
       "      <th>image</th>\n",
       "      <th>userid</th>\n",
       "      <th>itemid</th>\n",
       "      <th>rating</th>\n",
       "    </tr>\n",
       "  </thead>\n",
       "  <tbody>\n",
       "  </tbody>\n",
       "</table>\n",
       "</div>"
      ],
      "text/plain": [
       "Empty DataFrame\n",
       "Columns: [overall, verified, reviewTime, asin, reviewerName, reviewText, summary, unixReviewTime, vote, style, image, userid, itemid, rating]\n",
       "Index: []"
      ]
     },
     "execution_count": 30,
     "metadata": {},
     "output_type": "execute_result"
    }
   ],
   "source": [
    "train[train.vote == 0]"
   ]
  },
  {
   "cell_type": "markdown",
   "metadata": {
    "papermill": {
     "duration": 0.120632,
     "end_time": "2021-09-07T18:30:28.986836",
     "exception": false,
     "start_time": "2021-09-07T18:30:28.866204",
     "status": "completed"
    },
    "tags": []
   },
   "source": [
    "The feature **vote** seems to be quite an important feature because it looks logical that the more votes the review has, the more helpful it is. However, the **vote** feature seems to have a lot of missing values. I suggest to replace missing vote values with 0. As we don't have 0 as a value in the vote column, I believe that the cell is empty when there is no vote i.e. 0 votes"
   ]
  },
  {
   "cell_type": "code",
   "execution_count": 31,
   "metadata": {
    "execution": {
     "iopub.execute_input": "2021-09-07T18:30:29.238494Z",
     "iopub.status.busy": "2021-09-07T18:30:29.237186Z",
     "iopub.status.idle": "2021-09-07T18:30:30.499910Z",
     "shell.execute_reply": "2021-09-07T18:30:30.499245Z",
     "shell.execute_reply.started": "2021-09-07T17:33:14.620087Z"
    },
    "papermill": {
     "duration": 1.391904,
     "end_time": "2021-09-07T18:30:30.500042",
     "exception": false,
     "start_time": "2021-09-07T18:30:29.108138",
     "status": "completed"
    },
    "tags": []
   },
   "outputs": [],
   "source": [
    "# Adjusting \"vote\" feature on train\n",
    "train['vote'] = train['vote'].apply(remove_comma)\n",
    "train['vote'] = train['vote'].apply(lambda x: int(x) if x == x else \"\")\n",
    "train['vote'] = train['vote'].apply(lambda x: x if type(x) == int else 0)"
   ]
  },
  {
   "cell_type": "code",
   "execution_count": 32,
   "metadata": {
    "execution": {
     "iopub.execute_input": "2021-09-07T18:30:30.945955Z",
     "iopub.status.busy": "2021-09-07T18:30:30.872240Z",
     "iopub.status.idle": "2021-09-07T18:30:30.968209Z",
     "shell.execute_reply": "2021-09-07T18:30:30.967517Z",
     "shell.execute_reply.started": "2021-09-07T17:33:18.499112Z"
    },
    "papermill": {
     "duration": 0.346361,
     "end_time": "2021-09-07T18:30:30.968327",
     "exception": false,
     "start_time": "2021-09-07T18:30:30.621966",
     "status": "completed"
    },
    "tags": []
   },
   "outputs": [
    {
     "data": {
      "text/plain": [
       "{'Size:': ' Pack of 1'}                                                         4582\n",
       "{'Package Quantity:': ' 1'}                                                     4470\n",
       "{'Package Type:': ' Standard Packaging'}                                        3880\n",
       "{'Size:': ' 1 Pack'}                                                            3707\n",
       "{'Size:': ' 24 Count'}                                                          3615\n",
       "                                                                                ... \n",
       "{'Size:': ' 5.8 ounce  (Pack of 12)', 'Flavor:': ' Cardomom Chai'}                 1\n",
       "{'Size:': ' 12.75 Ounce (Pack of 8)', 'Flavor:': ' Cinnamon Toast Crunch'}         1\n",
       "{'Size:': ' 3.5 oz (6 count)', 'Flavor:': ' Almond Blueberry Lemon'}               1\n",
       "{'Size:': ' 1.5-Ounce Bags (Pack of 10)', 'Flavor:': ' Jalapeno Carne Seca'}       1\n",
       "{'Size:': ' 9-Ounce (Pack of 6)', 'Flavor:': ' Toasted Asiago'}                    1\n",
       "Name: style, Length: 25892, dtype: int64"
      ]
     },
     "execution_count": 32,
     "metadata": {},
     "output_type": "execute_result"
    }
   ],
   "source": [
    "train['style'].value_counts()"
   ]
  },
  {
   "cell_type": "markdown",
   "metadata": {
    "papermill": {
     "duration": 0.123468,
     "end_time": "2021-09-07T18:30:31.215846",
     "exception": false,
     "start_time": "2021-09-07T18:30:31.092378",
     "status": "completed"
    },
    "tags": []
   },
   "source": [
    "It looks like the **style** feature is just a certain characteristics of the product. We see that there a lot of different charactersitics, but in most cases the value is missing. So, I suggest to get rid of this feature and not use it for analysis"
   ]
  },
  {
   "cell_type": "code",
   "execution_count": 33,
   "metadata": {
    "execution": {
     "iopub.execute_input": "2021-09-07T18:30:31.467886Z",
     "iopub.status.busy": "2021-09-07T18:30:31.466849Z",
     "iopub.status.idle": "2021-09-07T18:30:31.469949Z",
     "shell.execute_reply": "2021-09-07T18:30:31.469340Z",
     "shell.execute_reply.started": "2021-09-07T17:33:25.313051Z"
    },
    "papermill": {
     "duration": 0.129706,
     "end_time": "2021-09-07T18:30:31.470104",
     "exception": false,
     "start_time": "2021-09-07T18:30:31.340398",
     "status": "completed"
    },
    "tags": []
   },
   "outputs": [],
   "source": [
    "train_to_remove.append('style')"
   ]
  },
  {
   "cell_type": "code",
   "execution_count": 34,
   "metadata": {
    "execution": {
     "iopub.execute_input": "2021-09-07T18:30:31.747317Z",
     "iopub.status.busy": "2021-09-07T18:30:31.746609Z",
     "iopub.status.idle": "2021-09-07T18:30:31.792832Z",
     "shell.execute_reply": "2021-09-07T18:30:31.793373Z",
     "shell.execute_reply.started": "2021-09-07T17:33:27.432238Z"
    },
    "papermill": {
     "duration": 0.20194,
     "end_time": "2021-09-07T18:30:31.793541",
     "exception": false,
     "start_time": "2021-09-07T18:30:31.591601",
     "status": "completed"
    },
    "tags": []
   },
   "outputs": [
    {
     "data": {
      "text/plain": [
       "['https://images-na.ssl-images-amazon.com/images/I/71+Z1TA3eyL._SY88.jpg']                                                                                                                                                                                                                                  6\n",
       "['https://images-na.ssl-images-amazon.com/images/I/712zJIOTV5L._SY88.jpg']                                                                                                                                                                                                                                  6\n",
       "['https://images-na.ssl-images-amazon.com/images/I/81h8Zc+1rzL._SY88.jpg']                                                                                                                                                                                                                                  5\n",
       "['https://images-na.ssl-images-amazon.com/images/I/81kah7EsJtL._SY88.jpg', 'https://images-na.ssl-images-amazon.com/images/I/81YnU7oiOIL._SY88.jpg', 'https://images-na.ssl-images-amazon.com/images/I/81j+y7+3NxL._SY88.jpg', 'https://images-na.ssl-images-amazon.com/images/I/81RV96qYZvL._SY88.jpg']    5\n",
       "['https://images-na.ssl-images-amazon.com/images/I/81ZkT-0FJpL._SY88.jpg']                                                                                                                                                                                                                                  5\n",
       "                                                                                                                                                                                                                                                                                                           ..\n",
       "['https://images-na.ssl-images-amazon.com/images/I/91-uc5TKF0L._SY88.jpg', 'https://images-na.ssl-images-amazon.com/images/I/81mhbUAdnZL._SY88.jpg', 'https://images-na.ssl-images-amazon.com/images/I/71MySIehDZL._SY88.jpg']                                                                              1\n",
       "['https://images-na.ssl-images-amazon.com/images/I/71SusbeffrL._SY88.jpg', 'https://images-na.ssl-images-amazon.com/images/I/71nOg2CgPqL._SY88.jpg']                                                                                                                                                        1\n",
       "['https://images-na.ssl-images-amazon.com/images/I/61LSF0aB1KL._SY88.jpg']                                                                                                                                                                                                                                  1\n",
       "['https://images-na.ssl-images-amazon.com/images/I/51F-UQinRlL._SY88.jpg']                                                                                                                                                                                                                                  1\n",
       "['https://images-na.ssl-images-amazon.com/images/I/61A42uno0bL._SY88.jpg', 'https://images-na.ssl-images-amazon.com/images/I/61TGpk25zeL._SY88.jpg']                                                                                                                                                        1\n",
       "Name: image, Length: 6636, dtype: int64"
      ]
     },
     "execution_count": 34,
     "metadata": {},
     "output_type": "execute_result"
    }
   ],
   "source": [
    "train['image'].value_counts()"
   ]
  },
  {
   "cell_type": "markdown",
   "metadata": {
    "papermill": {
     "duration": 0.123497,
     "end_time": "2021-09-07T18:30:32.039029",
     "exception": false,
     "start_time": "2021-09-07T18:30:31.915532",
     "status": "completed"
    },
    "tags": []
   },
   "source": [
    "Well, the feature **images**, basically contains the url to the image. We can probably convert it into binary feature i.e. image present or not and use it in our analysis, because items with images probably can get more reviews. Let's check that assumption"
   ]
  },
  {
   "cell_type": "code",
   "execution_count": 35,
   "metadata": {
    "execution": {
     "iopub.execute_input": "2021-09-07T18:30:32.290171Z",
     "iopub.status.busy": "2021-09-07T18:30:32.289492Z",
     "iopub.status.idle": "2021-09-07T18:30:32.358353Z",
     "shell.execute_reply": "2021-09-07T18:30:32.358848Z",
     "shell.execute_reply.started": "2021-09-07T17:33:43.481842Z"
    },
    "papermill": {
     "duration": 0.197897,
     "end_time": "2021-09-07T18:30:32.359060",
     "exception": false,
     "start_time": "2021-09-07T18:30:32.161163",
     "status": "completed"
    },
    "tags": []
   },
   "outputs": [],
   "source": [
    "train_with_images = train[train['image'].notnull()]"
   ]
  },
  {
   "cell_type": "code",
   "execution_count": 36,
   "metadata": {
    "execution": {
     "iopub.execute_input": "2021-09-07T18:30:32.608288Z",
     "iopub.status.busy": "2021-09-07T18:30:32.607562Z",
     "iopub.status.idle": "2021-09-07T18:30:32.612290Z",
     "shell.execute_reply": "2021-09-07T18:30:32.612789Z",
     "shell.execute_reply.started": "2021-09-07T17:33:45.086574Z"
    },
    "papermill": {
     "duration": 0.131132,
     "end_time": "2021-09-07T18:30:32.612959",
     "exception": false,
     "start_time": "2021-09-07T18:30:32.481827",
     "status": "completed"
    },
    "tags": []
   },
   "outputs": [
    {
     "data": {
      "text/plain": [
       "(7026, 14)"
      ]
     },
     "execution_count": 36,
     "metadata": {},
     "output_type": "execute_result"
    }
   ],
   "source": [
    "train_with_images.shape"
   ]
  },
  {
   "cell_type": "code",
   "execution_count": 37,
   "metadata": {
    "execution": {
     "iopub.execute_input": "2021-09-07T18:30:32.866182Z",
     "iopub.status.busy": "2021-09-07T18:30:32.865462Z",
     "iopub.status.idle": "2021-09-07T18:30:33.018898Z",
     "shell.execute_reply": "2021-09-07T18:30:33.019437Z",
     "shell.execute_reply.started": "2021-09-07T17:33:47.150133Z"
    },
    "papermill": {
     "duration": 0.281599,
     "end_time": "2021-09-07T18:30:33.019606",
     "exception": false,
     "start_time": "2021-09-07T18:30:32.738007",
     "status": "completed"
    },
    "tags": []
   },
   "outputs": [],
   "source": [
    "train_without_images = train[train['image'].isna()]"
   ]
  },
  {
   "cell_type": "code",
   "execution_count": 38,
   "metadata": {
    "execution": {
     "iopub.execute_input": "2021-09-07T18:30:33.272918Z",
     "iopub.status.busy": "2021-09-07T18:30:33.272216Z",
     "iopub.status.idle": "2021-09-07T18:30:33.279947Z",
     "shell.execute_reply": "2021-09-07T18:30:33.279228Z",
     "shell.execute_reply.started": "2021-09-07T17:33:49.332093Z"
    },
    "papermill": {
     "duration": 0.134974,
     "end_time": "2021-09-07T18:30:33.280088",
     "exception": false,
     "start_time": "2021-09-07T18:30:33.145114",
     "status": "completed"
    },
    "tags": []
   },
   "outputs": [
    {
     "data": {
      "text/plain": [
       "(821909, 14)"
      ]
     },
     "execution_count": 38,
     "metadata": {},
     "output_type": "execute_result"
    }
   ],
   "source": [
    "train_without_images.shape"
   ]
  },
  {
   "cell_type": "code",
   "execution_count": 39,
   "metadata": {
    "execution": {
     "iopub.execute_input": "2021-09-07T18:30:33.539776Z",
     "iopub.status.busy": "2021-09-07T18:30:33.535663Z",
     "iopub.status.idle": "2021-09-07T18:30:33.544632Z",
     "shell.execute_reply": "2021-09-07T18:30:33.543887Z",
     "shell.execute_reply.started": "2021-09-07T17:33:51.286554Z"
    },
    "papermill": {
     "duration": 0.140832,
     "end_time": "2021-09-07T18:30:33.544765",
     "exception": false,
     "start_time": "2021-09-07T18:30:33.403933",
     "status": "completed"
    },
    "tags": []
   },
   "outputs": [
    {
     "data": {
      "text/plain": [
       "1.0    0.755622\n",
       "0.0    0.244378\n",
       "Name: rating, dtype: float64"
      ]
     },
     "execution_count": 39,
     "metadata": {},
     "output_type": "execute_result"
    }
   ],
   "source": [
    "train_with_images.rating.value_counts(normalize=True)"
   ]
  },
  {
   "cell_type": "code",
   "execution_count": 40,
   "metadata": {
    "execution": {
     "iopub.execute_input": "2021-09-07T18:30:33.800362Z",
     "iopub.status.busy": "2021-09-07T18:30:33.799668Z",
     "iopub.status.idle": "2021-09-07T18:30:33.817649Z",
     "shell.execute_reply": "2021-09-07T18:30:33.816998Z",
     "shell.execute_reply.started": "2021-09-07T17:33:53.828915Z"
    },
    "papermill": {
     "duration": 0.145327,
     "end_time": "2021-09-07T18:30:33.817765",
     "exception": false,
     "start_time": "2021-09-07T18:30:33.672438",
     "status": "completed"
    },
    "tags": []
   },
   "outputs": [
    {
     "data": {
      "text/plain": [
       "1.0    0.849067\n",
       "0.0    0.150933\n",
       "Name: rating, dtype: float64"
      ]
     },
     "execution_count": 40,
     "metadata": {},
     "output_type": "execute_result"
    }
   ],
   "source": [
    "train_without_images.rating.value_counts(normalize=True)"
   ]
  },
  {
   "cell_type": "markdown",
   "metadata": {
    "papermill": {
     "duration": 0.12667,
     "end_time": "2021-09-07T18:30:34.067205",
     "exception": false,
     "start_time": "2021-09-07T18:30:33.940535",
     "status": "completed"
    },
    "tags": []
   },
   "source": [
    "The rest of the features which are **userid**, **itemid** and **rating** are the necessary features for building the model. So we should definitely keep them. The only thing which is worth noticing is that any of these features has missing values, so we're fine here."
   ]
  },
  {
   "cell_type": "markdown",
   "metadata": {
    "papermill": {
     "duration": 0.123642,
     "end_time": "2021-09-07T18:30:34.315276",
     "exception": false,
     "start_time": "2021-09-07T18:30:34.191634",
     "status": "completed"
    },
    "tags": []
   },
   "source": [
    "#### Let's now drop those feature that we found unnecessary and see what we got"
   ]
  },
  {
   "cell_type": "code",
   "execution_count": 41,
   "metadata": {
    "execution": {
     "iopub.execute_input": "2021-09-07T18:30:34.568688Z",
     "iopub.status.busy": "2021-09-07T18:30:34.567880Z",
     "iopub.status.idle": "2021-09-07T18:30:34.641379Z",
     "shell.execute_reply": "2021-09-07T18:30:34.640564Z",
     "shell.execute_reply.started": "2021-09-07T17:34:07.312001Z"
    },
    "papermill": {
     "duration": 0.203813,
     "end_time": "2021-09-07T18:30:34.641520",
     "exception": false,
     "start_time": "2021-09-07T18:30:34.437707",
     "status": "completed"
    },
    "tags": []
   },
   "outputs": [],
   "source": [
    "train.drop(columns = train_to_remove, inplace = True)"
   ]
  },
  {
   "cell_type": "code",
   "execution_count": 42,
   "metadata": {
    "execution": {
     "iopub.execute_input": "2021-09-07T18:30:35.027926Z",
     "iopub.status.busy": "2021-09-07T18:30:35.026383Z",
     "iopub.status.idle": "2021-09-07T18:30:35.050291Z",
     "shell.execute_reply": "2021-09-07T18:30:35.050872Z",
     "shell.execute_reply.started": "2021-09-07T17:34:09.467659Z"
    },
    "papermill": {
     "duration": 0.272817,
     "end_time": "2021-09-07T18:30:35.051053",
     "exception": false,
     "start_time": "2021-09-07T18:30:34.778236",
     "status": "completed"
    },
    "tags": []
   },
   "outputs": [
    {
     "name": "stdout",
     "output_type": "stream",
     "text": [
      "<class 'pandas.core.frame.DataFrame'>\n",
      "Int64Index: 828935 entries, 0 to 857894\n",
      "Data columns (total 8 columns):\n",
      " #   Column          Non-Null Count   Dtype  \n",
      "---  ------          --------------   -----  \n",
      " 0   verified        828935 non-null  bool   \n",
      " 1   summary         828769 non-null  object \n",
      " 2   unixReviewTime  828935 non-null  int64  \n",
      " 3   vote            828935 non-null  int64  \n",
      " 4   image           7026 non-null    object \n",
      " 5   userid          828935 non-null  int64  \n",
      " 6   itemid          828935 non-null  int64  \n",
      " 7   rating          828935 non-null  float64\n",
      "dtypes: bool(1), float64(1), int64(4), object(2)\n",
      "memory usage: 51.4+ MB\n"
     ]
    }
   ],
   "source": [
    "train.info()"
   ]
  },
  {
   "cell_type": "markdown",
   "metadata": {
    "papermill": {
     "duration": 0.126893,
     "end_time": "2021-09-07T18:30:35.303039",
     "exception": false,
     "start_time": "2021-09-07T18:30:35.176146",
     "status": "completed"
    },
    "tags": []
   },
   "source": [
    "## Feature Engineering"
   ]
  },
  {
   "cell_type": "markdown",
   "metadata": {
    "papermill": {
     "duration": 0.124021,
     "end_time": "2021-09-07T18:30:35.552548",
     "exception": false,
     "start_time": "2021-09-07T18:30:35.428527",
     "status": "completed"
    },
    "tags": []
   },
   "source": [
    "#### Let's now work on the remaining features to convert them into format that we can be used by machine learning algorythms"
   ]
  },
  {
   "cell_type": "markdown",
   "metadata": {
    "papermill": {
     "duration": 0.122268,
     "end_time": "2021-09-07T18:30:35.798912",
     "exception": false,
     "start_time": "2021-09-07T18:30:35.676644",
     "status": "completed"
    },
    "tags": []
   },
   "source": [
    "#### Let's convert **verified** feature into binary format "
   ]
  },
  {
   "cell_type": "code",
   "execution_count": 43,
   "metadata": {
    "execution": {
     "iopub.execute_input": "2021-09-07T18:30:36.052459Z",
     "iopub.status.busy": "2021-09-07T18:30:36.051522Z",
     "iopub.status.idle": "2021-09-07T18:30:36.588500Z",
     "shell.execute_reply": "2021-09-07T18:30:36.587678Z",
     "shell.execute_reply.started": "2021-09-07T17:34:32.867127Z"
    },
    "papermill": {
     "duration": 0.66657,
     "end_time": "2021-09-07T18:30:36.588636",
     "exception": false,
     "start_time": "2021-09-07T18:30:35.922066",
     "status": "completed"
    },
    "tags": []
   },
   "outputs": [],
   "source": [
    "train.verified = train.verified.apply(lambda x : 1 if x == True else 0)"
   ]
  },
  {
   "cell_type": "code",
   "execution_count": 44,
   "metadata": {
    "execution": {
     "iopub.execute_input": "2021-09-07T18:30:36.843318Z",
     "iopub.status.busy": "2021-09-07T18:30:36.842599Z",
     "iopub.status.idle": "2021-09-07T18:30:36.856001Z",
     "shell.execute_reply": "2021-09-07T18:30:36.855283Z",
     "shell.execute_reply.started": "2021-09-07T17:34:35.357923Z"
    },
    "papermill": {
     "duration": 0.143527,
     "end_time": "2021-09-07T18:30:36.856129",
     "exception": false,
     "start_time": "2021-09-07T18:30:36.712602",
     "status": "completed"
    },
    "tags": []
   },
   "outputs": [
    {
     "data": {
      "text/plain": [
       "1    719829\n",
       "0    109106\n",
       "Name: verified, dtype: int64"
      ]
     },
     "execution_count": 44,
     "metadata": {},
     "output_type": "execute_result"
    }
   ],
   "source": [
    "train.verified.value_counts()"
   ]
  },
  {
   "cell_type": "markdown",
   "metadata": {
    "papermill": {
     "duration": 0.123184,
     "end_time": "2021-09-07T18:30:37.102862",
     "exception": false,
     "start_time": "2021-09-07T18:30:36.979678",
     "status": "completed"
    },
    "tags": []
   },
   "source": [
    "#### Let's now try to look what we can do with **unixReviewTime** feature. Let's see what is the period during which the review"
   ]
  },
  {
   "cell_type": "code",
   "execution_count": 45,
   "metadata": {
    "execution": {
     "iopub.execute_input": "2021-09-07T18:30:37.388018Z",
     "iopub.status.busy": "2021-09-07T18:30:37.386931Z",
     "iopub.status.idle": "2021-09-07T18:30:37.398201Z",
     "shell.execute_reply": "2021-09-07T18:30:37.397352Z",
     "shell.execute_reply.started": "2021-09-07T17:34:38.164339Z"
    },
    "papermill": {
     "duration": 0.154406,
     "end_time": "2021-09-07T18:30:37.398399",
     "exception": false,
     "start_time": "2021-09-07T18:30:37.243993",
     "status": "completed"
    },
    "tags": []
   },
   "outputs": [],
   "source": [
    "tsmin = datetime.utcfromtimestamp(train.unixReviewTime.min()).strftime('%Y-%m-%d %H:%M:%S')\n",
    "tsmax = datetime.utcfromtimestamp(train.unixReviewTime.max()).strftime('%Y-%m-%d %H:%M:%S')"
   ]
  },
  {
   "cell_type": "code",
   "execution_count": 46,
   "metadata": {
    "execution": {
     "iopub.execute_input": "2021-09-07T18:30:37.675041Z",
     "iopub.status.busy": "2021-09-07T18:30:37.674294Z",
     "iopub.status.idle": "2021-09-07T18:30:37.678751Z",
     "shell.execute_reply": "2021-09-07T18:30:37.677795Z",
     "shell.execute_reply.started": "2021-09-07T17:34:40.289025Z"
    },
    "papermill": {
     "duration": 0.136962,
     "end_time": "2021-09-07T18:30:37.679151",
     "exception": false,
     "start_time": "2021-09-07T18:30:37.542189",
     "status": "completed"
    },
    "tags": []
   },
   "outputs": [
    {
     "name": "stdout",
     "output_type": "stream",
     "text": [
      "2000-08-09 00:00:00\n",
      "2018-10-02 00:00:00\n"
     ]
    }
   ],
   "source": [
    "print(tsmin)\n",
    "print(tsmax)"
   ]
  },
  {
   "cell_type": "markdown",
   "metadata": {
    "papermill": {
     "duration": 0.127447,
     "end_time": "2021-09-07T18:30:37.933961",
     "exception": false,
     "start_time": "2021-09-07T18:30:37.806514",
     "status": "completed"
    },
    "tags": []
   },
   "source": [
    "#### We can see that the review were collected for quite a long period - 18 years. I guess that the idea here can be to split the overall period into three groups - \"old\", \"new\" and \"middle\", turn it into numeric format and then add it as a separate feature. Let's do this"
   ]
  },
  {
   "cell_type": "code",
   "execution_count": 47,
   "metadata": {
    "execution": {
     "iopub.execute_input": "2021-09-07T18:30:38.189831Z",
     "iopub.status.busy": "2021-09-07T18:30:38.188853Z",
     "iopub.status.idle": "2021-09-07T18:30:38.235782Z",
     "shell.execute_reply": "2021-09-07T18:30:38.235002Z",
     "shell.execute_reply.started": "2021-09-07T17:34:44.482611Z"
    },
    "papermill": {
     "duration": 0.17756,
     "end_time": "2021-09-07T18:30:38.235911",
     "exception": false,
     "start_time": "2021-09-07T18:30:38.058351",
     "status": "completed"
    },
    "tags": []
   },
   "outputs": [],
   "source": [
    "tsmin = train.unixReviewTime.min()\n",
    "ts25 = int(train.unixReviewTime.quantile(0.25))\n",
    "ts50 = int(train.unixReviewTime.quantile(0.50))\n",
    "ts75 = int(train.unixReviewTime.quantile(0.75))\n",
    "tsmax = train.unixReviewTime.max()"
   ]
  },
  {
   "cell_type": "code",
   "execution_count": 48,
   "metadata": {
    "execution": {
     "iopub.execute_input": "2021-09-07T18:30:38.494084Z",
     "iopub.status.busy": "2021-09-07T18:30:38.493183Z",
     "iopub.status.idle": "2021-09-07T18:30:39.303275Z",
     "shell.execute_reply": "2021-09-07T18:30:39.302673Z",
     "shell.execute_reply.started": "2021-09-07T17:34:46.974449Z"
    },
    "papermill": {
     "duration": 0.940922,
     "end_time": "2021-09-07T18:30:39.303399",
     "exception": false,
     "start_time": "2021-09-07T18:30:38.362477",
     "status": "completed"
    },
    "tags": []
   },
   "outputs": [],
   "source": [
    "train['unixReviewTime'] = train['unixReviewTime'].apply(lambda x: cat_date(x))"
   ]
  },
  {
   "cell_type": "code",
   "execution_count": 49,
   "metadata": {
    "execution": {
     "iopub.execute_input": "2021-09-07T18:30:39.572585Z",
     "iopub.status.busy": "2021-09-07T18:30:39.565609Z",
     "iopub.status.idle": "2021-09-07T18:30:39.578812Z",
     "shell.execute_reply": "2021-09-07T18:30:39.578083Z",
     "shell.execute_reply.started": "2021-09-07T17:34:49.600888Z"
    },
    "papermill": {
     "duration": 0.147108,
     "end_time": "2021-09-07T18:30:39.578939",
     "exception": false,
     "start_time": "2021-09-07T18:30:39.431831",
     "status": "completed"
    },
    "tags": []
   },
   "outputs": [
    {
     "data": {
      "text/html": [
       "<div>\n",
       "<style scoped>\n",
       "    .dataframe tbody tr th:only-of-type {\n",
       "        vertical-align: middle;\n",
       "    }\n",
       "\n",
       "    .dataframe tbody tr th {\n",
       "        vertical-align: top;\n",
       "    }\n",
       "\n",
       "    .dataframe thead th {\n",
       "        text-align: right;\n",
       "    }\n",
       "</style>\n",
       "<table border=\"1\" class=\"dataframe\">\n",
       "  <thead>\n",
       "    <tr style=\"text-align: right;\">\n",
       "      <th></th>\n",
       "      <th>verified</th>\n",
       "      <th>summary</th>\n",
       "      <th>unixReviewTime</th>\n",
       "      <th>vote</th>\n",
       "      <th>image</th>\n",
       "      <th>userid</th>\n",
       "      <th>itemid</th>\n",
       "      <th>rating</th>\n",
       "    </tr>\n",
       "  </thead>\n",
       "  <tbody>\n",
       "    <tr>\n",
       "      <th>0</th>\n",
       "      <td>1</td>\n",
       "      <td>Must Add to your Spice kitchen!</td>\n",
       "      <td>2</td>\n",
       "      <td>0</td>\n",
       "      <td>NaN</td>\n",
       "      <td>102179</td>\n",
       "      <td>37138</td>\n",
       "      <td>1.0</td>\n",
       "    </tr>\n",
       "    <tr>\n",
       "      <th>1</th>\n",
       "      <td>1</td>\n",
       "      <td>Milk Chocolate Swiis MIss Hot Cocoa Mix</td>\n",
       "      <td>2</td>\n",
       "      <td>0</td>\n",
       "      <td>NaN</td>\n",
       "      <td>3625</td>\n",
       "      <td>17322</td>\n",
       "      <td>1.0</td>\n",
       "    </tr>\n",
       "    <tr>\n",
       "      <th>2</th>\n",
       "      <td>1</td>\n",
       "      <td>Love these sugar free syrups, but didn't love ...</td>\n",
       "      <td>2</td>\n",
       "      <td>28</td>\n",
       "      <td>NaN</td>\n",
       "      <td>39495</td>\n",
       "      <td>5600</td>\n",
       "      <td>1.0</td>\n",
       "    </tr>\n",
       "    <tr>\n",
       "      <th>3</th>\n",
       "      <td>1</td>\n",
       "      <td>Nice !</td>\n",
       "      <td>1</td>\n",
       "      <td>0</td>\n",
       "      <td>NaN</td>\n",
       "      <td>72854</td>\n",
       "      <td>30249</td>\n",
       "      <td>1.0</td>\n",
       "    </tr>\n",
       "    <tr>\n",
       "      <th>4</th>\n",
       "      <td>1</td>\n",
       "      <td>These are my favorite jalapeno chips so far</td>\n",
       "      <td>2</td>\n",
       "      <td>0</td>\n",
       "      <td>NaN</td>\n",
       "      <td>74859</td>\n",
       "      <td>4349</td>\n",
       "      <td>1.0</td>\n",
       "    </tr>\n",
       "  </tbody>\n",
       "</table>\n",
       "</div>"
      ],
      "text/plain": [
       "   verified                                            summary  \\\n",
       "0         1                    Must Add to your Spice kitchen!   \n",
       "1         1            Milk Chocolate Swiis MIss Hot Cocoa Mix   \n",
       "2         1  Love these sugar free syrups, but didn't love ...   \n",
       "3         1                                             Nice !   \n",
       "4         1        These are my favorite jalapeno chips so far   \n",
       "\n",
       "   unixReviewTime  vote image  userid  itemid  rating  \n",
       "0               2     0   NaN  102179   37138     1.0  \n",
       "1               2     0   NaN    3625   17322     1.0  \n",
       "2               2    28   NaN   39495    5600     1.0  \n",
       "3               1     0   NaN   72854   30249     1.0  \n",
       "4               2     0   NaN   74859    4349     1.0  "
      ]
     },
     "execution_count": 49,
     "metadata": {},
     "output_type": "execute_result"
    }
   ],
   "source": [
    "train.head()"
   ]
  },
  {
   "cell_type": "markdown",
   "metadata": {
    "papermill": {
     "duration": 0.126213,
     "end_time": "2021-09-07T18:30:39.831465",
     "exception": false,
     "start_time": "2021-09-07T18:30:39.705252",
     "status": "completed"
    },
    "tags": []
   },
   "source": [
    "#### Let's now work on the **image** feature. The idea here is to change image into binary feature, where 1 means that image is present and 0 means that the image is absent"
   ]
  },
  {
   "cell_type": "code",
   "execution_count": 50,
   "metadata": {
    "execution": {
     "iopub.execute_input": "2021-09-07T18:30:40.124568Z",
     "iopub.status.busy": "2021-09-07T18:30:40.123821Z",
     "iopub.status.idle": "2021-09-07T18:30:40.652594Z",
     "shell.execute_reply": "2021-09-07T18:30:40.653112Z",
     "shell.execute_reply.started": "2021-09-07T17:34:53.552926Z"
    },
    "papermill": {
     "duration": 0.696175,
     "end_time": "2021-09-07T18:30:40.653286",
     "exception": false,
     "start_time": "2021-09-07T18:30:39.957111",
     "status": "completed"
    },
    "tags": []
   },
   "outputs": [],
   "source": [
    "train.image.fillna(0, inplace = True)\n",
    "train.image = train.image.apply(lambda x : 1 if x !=0 else x)"
   ]
  },
  {
   "cell_type": "code",
   "execution_count": 51,
   "metadata": {
    "execution": {
     "iopub.execute_input": "2021-09-07T18:30:40.909823Z",
     "iopub.status.busy": "2021-09-07T18:30:40.909142Z",
     "iopub.status.idle": "2021-09-07T18:30:40.922331Z",
     "shell.execute_reply": "2021-09-07T18:30:40.921675Z",
     "shell.execute_reply.started": "2021-09-07T17:34:57.916522Z"
    },
    "papermill": {
     "duration": 0.144897,
     "end_time": "2021-09-07T18:30:40.922457",
     "exception": false,
     "start_time": "2021-09-07T18:30:40.777560",
     "status": "completed"
    },
    "tags": []
   },
   "outputs": [
    {
     "data": {
      "text/plain": [
       "0    821909\n",
       "1      7026\n",
       "Name: image, dtype: int64"
      ]
     },
     "execution_count": 51,
     "metadata": {},
     "output_type": "execute_result"
    }
   ],
   "source": [
    "train.image.value_counts()"
   ]
  },
  {
   "cell_type": "code",
   "execution_count": 52,
   "metadata": {
    "execution": {
     "iopub.execute_input": "2021-09-07T18:30:41.185812Z",
     "iopub.status.busy": "2021-09-07T18:30:41.184805Z",
     "iopub.status.idle": "2021-09-07T18:30:41.189313Z",
     "shell.execute_reply": "2021-09-07T18:30:41.188707Z",
     "shell.execute_reply.started": "2021-09-07T17:34:59.841994Z"
    },
    "papermill": {
     "duration": 0.141332,
     "end_time": "2021-09-07T18:30:41.189429",
     "exception": false,
     "start_time": "2021-09-07T18:30:41.048097",
     "status": "completed"
    },
    "tags": []
   },
   "outputs": [
    {
     "data": {
      "text/html": [
       "<div>\n",
       "<style scoped>\n",
       "    .dataframe tbody tr th:only-of-type {\n",
       "        vertical-align: middle;\n",
       "    }\n",
       "\n",
       "    .dataframe tbody tr th {\n",
       "        vertical-align: top;\n",
       "    }\n",
       "\n",
       "    .dataframe thead th {\n",
       "        text-align: right;\n",
       "    }\n",
       "</style>\n",
       "<table border=\"1\" class=\"dataframe\">\n",
       "  <thead>\n",
       "    <tr style=\"text-align: right;\">\n",
       "      <th></th>\n",
       "      <th>verified</th>\n",
       "      <th>summary</th>\n",
       "      <th>unixReviewTime</th>\n",
       "      <th>vote</th>\n",
       "      <th>image</th>\n",
       "      <th>userid</th>\n",
       "      <th>itemid</th>\n",
       "      <th>rating</th>\n",
       "    </tr>\n",
       "  </thead>\n",
       "  <tbody>\n",
       "    <tr>\n",
       "      <th>0</th>\n",
       "      <td>1</td>\n",
       "      <td>Must Add to your Spice kitchen!</td>\n",
       "      <td>2</td>\n",
       "      <td>0</td>\n",
       "      <td>0</td>\n",
       "      <td>102179</td>\n",
       "      <td>37138</td>\n",
       "      <td>1.0</td>\n",
       "    </tr>\n",
       "    <tr>\n",
       "      <th>1</th>\n",
       "      <td>1</td>\n",
       "      <td>Milk Chocolate Swiis MIss Hot Cocoa Mix</td>\n",
       "      <td>2</td>\n",
       "      <td>0</td>\n",
       "      <td>0</td>\n",
       "      <td>3625</td>\n",
       "      <td>17322</td>\n",
       "      <td>1.0</td>\n",
       "    </tr>\n",
       "    <tr>\n",
       "      <th>2</th>\n",
       "      <td>1</td>\n",
       "      <td>Love these sugar free syrups, but didn't love ...</td>\n",
       "      <td>2</td>\n",
       "      <td>28</td>\n",
       "      <td>0</td>\n",
       "      <td>39495</td>\n",
       "      <td>5600</td>\n",
       "      <td>1.0</td>\n",
       "    </tr>\n",
       "    <tr>\n",
       "      <th>3</th>\n",
       "      <td>1</td>\n",
       "      <td>Nice !</td>\n",
       "      <td>1</td>\n",
       "      <td>0</td>\n",
       "      <td>0</td>\n",
       "      <td>72854</td>\n",
       "      <td>30249</td>\n",
       "      <td>1.0</td>\n",
       "    </tr>\n",
       "    <tr>\n",
       "      <th>4</th>\n",
       "      <td>1</td>\n",
       "      <td>These are my favorite jalapeno chips so far</td>\n",
       "      <td>2</td>\n",
       "      <td>0</td>\n",
       "      <td>0</td>\n",
       "      <td>74859</td>\n",
       "      <td>4349</td>\n",
       "      <td>1.0</td>\n",
       "    </tr>\n",
       "  </tbody>\n",
       "</table>\n",
       "</div>"
      ],
      "text/plain": [
       "   verified                                            summary  \\\n",
       "0         1                    Must Add to your Spice kitchen!   \n",
       "1         1            Milk Chocolate Swiis MIss Hot Cocoa Mix   \n",
       "2         1  Love these sugar free syrups, but didn't love ...   \n",
       "3         1                                             Nice !   \n",
       "4         1        These are my favorite jalapeno chips so far   \n",
       "\n",
       "   unixReviewTime  vote  image  userid  itemid  rating  \n",
       "0               2     0      0  102179   37138     1.0  \n",
       "1               2     0      0    3625   17322     1.0  \n",
       "2               2    28      0   39495    5600     1.0  \n",
       "3               1     0      0   72854   30249     1.0  \n",
       "4               2     0      0   74859    4349     1.0  "
      ]
     },
     "execution_count": 52,
     "metadata": {},
     "output_type": "execute_result"
    }
   ],
   "source": [
    "train.head()"
   ]
  },
  {
   "cell_type": "markdown",
   "metadata": {
    "papermill": {
     "duration": 0.124714,
     "end_time": "2021-09-07T18:30:41.440854",
     "exception": false,
     "start_time": "2021-09-07T18:30:41.316140",
     "status": "completed"
    },
    "tags": []
   },
   "source": [
    "#### Let's now try to work on **summary** feature. It will be a little bit tricky. Let's try to extract to figure out the tone of the summary review based on the words included"
   ]
  },
  {
   "cell_type": "code",
   "execution_count": 53,
   "metadata": {
    "execution": {
     "iopub.execute_input": "2021-09-07T18:30:41.695478Z",
     "iopub.status.busy": "2021-09-07T18:30:41.694778Z",
     "iopub.status.idle": "2021-09-07T18:30:41.698596Z",
     "shell.execute_reply": "2021-09-07T18:30:41.698004Z",
     "shell.execute_reply.started": "2021-09-07T17:35:07.558022Z"
    },
    "papermill": {
     "duration": 0.132876,
     "end_time": "2021-09-07T18:30:41.698710",
     "exception": false,
     "start_time": "2021-09-07T18:30:41.565834",
     "status": "completed"
    },
    "tags": []
   },
   "outputs": [],
   "source": [
    "# A dictionary for collecting the words and their counts\n",
    "strdict = {}"
   ]
  },
  {
   "cell_type": "code",
   "execution_count": 54,
   "metadata": {
    "execution": {
     "iopub.execute_input": "2021-09-07T18:30:41.961394Z",
     "iopub.status.busy": "2021-09-07T18:30:41.960359Z",
     "iopub.status.idle": "2021-09-07T18:30:41.963736Z",
     "shell.execute_reply": "2021-09-07T18:30:41.963088Z",
     "shell.execute_reply.started": "2021-09-07T17:35:10.084516Z"
    },
    "papermill": {
     "duration": 0.139414,
     "end_time": "2021-09-07T18:30:41.963864",
     "exception": false,
     "start_time": "2021-09-07T18:30:41.824450",
     "status": "completed"
    },
    "tags": []
   },
   "outputs": [],
   "source": [
    "# Function that fills dictionary with words and their counts from the string\n",
    "def update_strdict(str, strdict):    \n",
    "    str.replace(\",\", \" \")\n",
    "    strs = str.split(\" \")\n",
    "    for onestr in strs:\n",
    "        onestr = onestr.rstrip()\n",
    "        if onestr in strdict:\n",
    "            strdict[onestr] = strdict[onestr] + 1\n",
    "        else:\n",
    "            strdict[onestr] = 1          "
   ]
  },
  {
   "cell_type": "code",
   "execution_count": 55,
   "metadata": {
    "execution": {
     "iopub.execute_input": "2021-09-07T18:30:42.222792Z",
     "iopub.status.busy": "2021-09-07T18:30:42.221671Z",
     "iopub.status.idle": "2021-09-07T18:30:42.224916Z",
     "shell.execute_reply": "2021-09-07T18:30:42.224281Z",
     "shell.execute_reply.started": "2021-09-07T17:35:12.261520Z"
    },
    "papermill": {
     "duration": 0.134031,
     "end_time": "2021-09-07T18:30:42.225052",
     "exception": false,
     "start_time": "2021-09-07T18:30:42.091021",
     "status": "completed"
    },
    "tags": []
   },
   "outputs": [],
   "source": [
    "# Function that forms a dictionary from Series\n",
    "def form_strdict(summary, strdict):\n",
    "    for item in summary:\n",
    "        if type(item) == str:\n",
    "            update_strdict(item, strdict)\n",
    "    return strdict"
   ]
  },
  {
   "cell_type": "code",
   "execution_count": 56,
   "metadata": {
    "execution": {
     "iopub.execute_input": "2021-09-07T18:30:42.506773Z",
     "iopub.status.busy": "2021-09-07T18:30:42.501367Z",
     "iopub.status.idle": "2021-09-07T18:30:44.969393Z",
     "shell.execute_reply": "2021-09-07T18:30:44.968678Z",
     "shell.execute_reply.started": "2021-09-07T17:35:14.676389Z"
    },
    "papermill": {
     "duration": 2.618299,
     "end_time": "2021-09-07T18:30:44.969514",
     "exception": false,
     "start_time": "2021-09-07T18:30:42.351215",
     "status": "completed"
    },
    "tags": []
   },
   "outputs": [],
   "source": [
    "strdict = form_strdict(train.summary, strdict)"
   ]
  },
  {
   "cell_type": "code",
   "execution_count": 57,
   "metadata": {
    "execution": {
     "iopub.execute_input": "2021-09-07T18:30:45.245610Z",
     "iopub.status.busy": "2021-09-07T18:30:45.233828Z",
     "iopub.status.idle": "2021-09-07T18:30:45.267200Z",
     "shell.execute_reply": "2021-09-07T18:30:45.266627Z",
     "shell.execute_reply.started": "2021-09-07T17:35:18.285675Z"
    },
    "papermill": {
     "duration": 0.169559,
     "end_time": "2021-09-07T18:30:45.267325",
     "exception": false,
     "start_time": "2021-09-07T18:30:45.097766",
     "status": "completed"
    },
    "tags": []
   },
   "outputs": [],
   "source": [
    "# Let`s now go through the dictionary and extract the most popular words and form the list of positive and negative words:\n",
    "words = []\n",
    "for key in strdict:\n",
    "    if strdict[key] > 500:\n",
    "        words.append(key)"
   ]
  },
  {
   "cell_type": "code",
   "execution_count": 58,
   "metadata": {
    "execution": {
     "iopub.execute_input": "2021-09-07T18:30:45.527102Z",
     "iopub.status.busy": "2021-09-07T18:30:45.526080Z",
     "iopub.status.idle": "2021-09-07T18:30:45.530029Z",
     "shell.execute_reply": "2021-09-07T18:30:45.530486Z",
     "shell.execute_reply.started": "2021-09-07T17:35:20.633231Z"
    },
    "papermill": {
     "duration": 0.136191,
     "end_time": "2021-09-07T18:30:45.530634",
     "exception": false,
     "start_time": "2021-09-07T18:30:45.394443",
     "status": "completed"
    },
    "tags": []
   },
   "outputs": [
    {
     "data": {
      "text/plain": [
       "737"
      ]
     },
     "execution_count": 58,
     "metadata": {},
     "output_type": "execute_result"
    }
   ],
   "source": [
    "len(words)"
   ]
  },
  {
   "cell_type": "code",
   "execution_count": 59,
   "metadata": {
    "execution": {
     "iopub.execute_input": "2021-09-07T18:30:45.812104Z",
     "iopub.status.busy": "2021-09-07T18:30:45.811063Z",
     "iopub.status.idle": "2021-09-07T18:30:45.832193Z",
     "shell.execute_reply": "2021-09-07T18:30:45.832704Z",
     "shell.execute_reply.started": "2021-09-07T17:35:22.290192Z"
    },
    "papermill": {
     "duration": 0.151409,
     "end_time": "2021-09-07T18:30:45.832880",
     "exception": false,
     "start_time": "2021-09-07T18:30:45.681471",
     "status": "completed"
    },
    "tags": []
   },
   "outputs": [
    {
     "data": {
      "text/plain": [
       "['Must',\n",
       " 'to',\n",
       " 'your',\n",
       " 'Spice',\n",
       " 'Milk',\n",
       " 'Chocolate',\n",
       " 'Hot',\n",
       " 'Mix',\n",
       " 'Love',\n",
       " 'these',\n",
       " 'sugar',\n",
       " 'free',\n",
       " 'but',\n",
       " \"didn't\",\n",
       " 'love',\n",
       " 'the',\n",
       " 'price!',\n",
       " 'Nice',\n",
       " '!',\n",
       " 'These',\n",
       " 'are',\n",
       " 'my',\n",
       " 'favorite',\n",
       " 'chips',\n",
       " 'so',\n",
       " 'far',\n",
       " 'best',\n",
       " 'tea',\n",
       " 'taste',\n",
       " 'Five',\n",
       " 'Stars',\n",
       " 'low',\n",
       " 'carb',\n",
       " 'Tasty,',\n",
       " 'a',\n",
       " 'better',\n",
       " 'it!',\n",
       " 'in',\n",
       " 'pretty',\n",
       " 'Two',\n",
       " 'I',\n",
       " 'drink',\n",
       " 'lot',\n",
       " 'of',\n",
       " 'instant',\n",
       " 'coffee',\n",
       " 'and',\n",
       " 'this',\n",
       " 'stuff',\n",
       " 'good.',\n",
       " 'No',\n",
       " 'different',\n",
       " 'than',\n",
       " 'good',\n",
       " 'flavor,',\n",
       " 'more',\n",
       " 'store',\n",
       " 'blend',\n",
       " 'Four',\n",
       " 'THIS',\n",
       " 'IS',\n",
       " 'Great',\n",
       " 'Tea',\n",
       " 'Blend',\n",
       " 'with',\n",
       " 'This',\n",
       " 'The',\n",
       " 'We',\n",
       " 'really',\n",
       " 'get',\n",
       " 'they',\n",
       " 'VERY',\n",
       " 'Do',\n",
       " 'not',\n",
       " '1',\n",
       " 'out',\n",
       " '5',\n",
       " 'did',\n",
       " '...',\n",
       " 'one',\n",
       " 'use',\n",
       " 'oatmeal',\n",
       " 'Amazing',\n",
       " 'is',\n",
       " 'taste!',\n",
       " 'delicious',\n",
       " 'Excellent',\n",
       " 'flavor',\n",
       " 'quality',\n",
       " 'snack',\n",
       " 'best!',\n",
       " 'Fantastic',\n",
       " 'taste.',\n",
       " 'My',\n",
       " 'kids',\n",
       " '&',\n",
       " 'it,',\n",
       " 'it',\n",
       " 'Perfect',\n",
       " 'for',\n",
       " 'Good',\n",
       " 'dark',\n",
       " 'roast',\n",
       " 'Quick',\n",
       " 'chocolate',\n",
       " 'make',\n",
       " 'me',\n",
       " 'wish',\n",
       " 'were',\n",
       " 'Coffee',\n",
       " 'Keurig',\n",
       " 'Decaf',\n",
       " 'Delicious',\n",
       " 'candy',\n",
       " 'Wonderful',\n",
       " 'smell',\n",
       " 'TO',\n",
       " 'Tasty',\n",
       " 'Too',\n",
       " 'spice',\n",
       " 'Flavor',\n",
       " 'Yum',\n",
       " 'OF',\n",
       " 'ok',\n",
       " 'works',\n",
       " 'milk',\n",
       " 'made',\n",
       " 'tastes',\n",
       " 'great!',\n",
       " 'nuts',\n",
       " 'buy',\n",
       " 'organic',\n",
       " 'coconut',\n",
       " 'oil',\n",
       " 'try',\n",
       " \"It's\",\n",
       " 'Big',\n",
       " 'Product',\n",
       " 'Old',\n",
       " 'product',\n",
       " 'stuff!',\n",
       " 'Tastes',\n",
       " 'Just',\n",
       " 'As',\n",
       " 'You',\n",
       " 'can',\n",
       " 'hot',\n",
       " 'or',\n",
       " 'that',\n",
       " 'IT',\n",
       " 'GOOD',\n",
       " 'rich',\n",
       " 'bread',\n",
       " 'Taste',\n",
       " \"I'll\",\n",
       " 'recommend',\n",
       " 'would',\n",
       " 'have',\n",
       " 'had',\n",
       " 'order',\n",
       " 'before',\n",
       " 'loved',\n",
       " 'treat',\n",
       " 'Three',\n",
       " 'company',\n",
       " 'products',\n",
       " 'health',\n",
       " 'very',\n",
       " 'sauce',\n",
       " 'Vanilla',\n",
       " 'great',\n",
       " 'Expensive',\n",
       " 'But',\n",
       " 'Not',\n",
       " 'Like',\n",
       " 'other',\n",
       " 'best.',\n",
       " 'BEST',\n",
       " 'bars',\n",
       " 'convenient',\n",
       " 'So',\n",
       " 'Very',\n",
       " 'tasty',\n",
       " 'great,',\n",
       " 'home',\n",
       " 'To',\n",
       " 'was',\n",
       " 'nothing',\n",
       " 'like',\n",
       " 'flavors',\n",
       " 'deal',\n",
       " 'Gluten',\n",
       " 'Free',\n",
       " \"doesn't\",\n",
       " 'last',\n",
       " 'too',\n",
       " 'Always',\n",
       " 'A',\n",
       " 'If',\n",
       " 'tasty!',\n",
       " 'Much',\n",
       " 'Better',\n",
       " 'give',\n",
       " 'nice',\n",
       " 'texture',\n",
       " 'from',\n",
       " 'Best',\n",
       " 'on',\n",
       " 'if',\n",
       " 'you',\n",
       " ':)',\n",
       " 'bad',\n",
       " 'new',\n",
       " 'favorite!',\n",
       " 'Black',\n",
       " 'gluten',\n",
       " 'product.',\n",
       " 'It',\n",
       " 'what',\n",
       " 'expected',\n",
       " 'Yummy',\n",
       " 'little',\n",
       " 'perfect',\n",
       " 'as',\n",
       " '--',\n",
       " 'especially',\n",
       " 'price',\n",
       " 'always',\n",
       " 'Tasting',\n",
       " 'Honey',\n",
       " \"isn't\",\n",
       " 'substitute',\n",
       " 'Whole',\n",
       " 'favorite.',\n",
       " '.',\n",
       " 'lots',\n",
       " 'Some',\n",
       " 'What',\n",
       " 'ones',\n",
       " 'much',\n",
       " 'been',\n",
       " 'using',\n",
       " 'all',\n",
       " 'brands',\n",
       " 'tried',\n",
       " 'regular',\n",
       " '',\n",
       " 'morning',\n",
       " 'disappointed',\n",
       " 'be',\n",
       " 'at',\n",
       " 'price.',\n",
       " 'tasting',\n",
       " 'amount',\n",
       " \"don't\",\n",
       " 'Use',\n",
       " 'those',\n",
       " 'whole',\n",
       " 'Star',\n",
       " 'coffee.',\n",
       " 'And',\n",
       " 'Kind',\n",
       " 'bar',\n",
       " 'fresh',\n",
       " 'Delicious!',\n",
       " 'One',\n",
       " 'who',\n",
       " 'never',\n",
       " 'olive',\n",
       " 'hard',\n",
       " 'its',\n",
       " 'only',\n",
       " 'peanut',\n",
       " 'butter',\n",
       " 'there',\n",
       " '4',\n",
       " 'mix',\n",
       " 'Green',\n",
       " '-',\n",
       " 'value',\n",
       " 'cookies',\n",
       " 'because',\n",
       " 'enjoy',\n",
       " 'Favorite',\n",
       " 'bag',\n",
       " 'arrived',\n",
       " 'stale',\n",
       " 'by',\n",
       " 'even',\n",
       " 'Great,',\n",
       " \"I've\",\n",
       " 'Tasty!',\n",
       " 'less',\n",
       " 'Sweet',\n",
       " 'needs',\n",
       " 'no',\n",
       " 'high',\n",
       " 'Yum!',\n",
       " 'Salt',\n",
       " 'rice',\n",
       " 'came',\n",
       " 'ice',\n",
       " 'way',\n",
       " 'still',\n",
       " 'it.',\n",
       " 'take',\n",
       " 'Try',\n",
       " 'Healthy',\n",
       " 'Oil',\n",
       " 'wonderful',\n",
       " 'day',\n",
       " \"it's\",\n",
       " 'good,',\n",
       " 'just',\n",
       " 'water',\n",
       " 'Great!',\n",
       " 'making',\n",
       " 'real',\n",
       " 'smooth',\n",
       " 'enjoyed',\n",
       " 'GREAT',\n",
       " 'dried',\n",
       " 'think',\n",
       " 'SO',\n",
       " 'things',\n",
       " 'Ginger',\n",
       " 'Price',\n",
       " 'these.',\n",
       " 'Low',\n",
       " '2',\n",
       " 'easy',\n",
       " 'yummy!',\n",
       " 'coffee!',\n",
       " 'kind',\n",
       " 'cup',\n",
       " 'smoothies',\n",
       " 'awesome',\n",
       " 'Pretty',\n",
       " 'Hard',\n",
       " 'decaf',\n",
       " 'go',\n",
       " 'snack!',\n",
       " 'them.',\n",
       " 'salty',\n",
       " 'DELICIOUS',\n",
       " 'Really',\n",
       " 'something',\n",
       " 'found',\n",
       " 'every',\n",
       " \"Doesn't\",\n",
       " 'when',\n",
       " 'Only',\n",
       " 'price,',\n",
       " 'cereal',\n",
       " 'need',\n",
       " 'say',\n",
       " 'Nuts',\n",
       " 'them!',\n",
       " 'snack.',\n",
       " 'amazing',\n",
       " 'Snack',\n",
       " 'Yummy!',\n",
       " 'snacks',\n",
       " 'Will',\n",
       " 'again.',\n",
       " 'Fresh',\n",
       " 'am',\n",
       " 'first',\n",
       " 'Strong',\n",
       " 'Does',\n",
       " 'breakfast',\n",
       " 'Spicy',\n",
       " 'flavor.',\n",
       " 'Absolutely',\n",
       " 'product,',\n",
       " 'cooking',\n",
       " 'may',\n",
       " 'Ever',\n",
       " 'option',\n",
       " 'cups',\n",
       " 'Was',\n",
       " '100%',\n",
       " 'All',\n",
       " 'Natural',\n",
       " 'Almond',\n",
       " 'An',\n",
       " 'pasta',\n",
       " 'Smooth',\n",
       " 'brand',\n",
       " 'There',\n",
       " 'purchased',\n",
       " 'dry',\n",
       " 'some',\n",
       " 'Peanut',\n",
       " 'Butter',\n",
       " 'box',\n",
       " 'Little',\n",
       " 'Way',\n",
       " 'Would',\n",
       " 'cold',\n",
       " 'Decent',\n",
       " 'me.',\n",
       " 'now',\n",
       " 'crunchy',\n",
       " 'soup',\n",
       " 'LOVE',\n",
       " 'Have',\n",
       " 'happy',\n",
       " 'has',\n",
       " 'ingredients',\n",
       " 'up',\n",
       " 'cheaper',\n",
       " 'Amazon',\n",
       " 'Good,',\n",
       " 'worth',\n",
       " 'energy',\n",
       " 'corn',\n",
       " 'everything',\n",
       " 'Go',\n",
       " \"Can't\",\n",
       " 'super',\n",
       " 'delicious!',\n",
       " 'fan',\n",
       " 'which',\n",
       " 'does',\n",
       " 'wrong',\n",
       " 'people',\n",
       " 'Treat',\n",
       " 'makes',\n",
       " 'feel',\n",
       " 'sweet,',\n",
       " 'Dark',\n",
       " 'how',\n",
       " 'protein',\n",
       " 'find',\n",
       " 'after',\n",
       " 'years',\n",
       " 'They',\n",
       " 'liked',\n",
       " 'we',\n",
       " 'cheese',\n",
       " 'will',\n",
       " 'eat',\n",
       " 'Easy',\n",
       " 'but...',\n",
       " 'our',\n",
       " 'them',\n",
       " 'loves',\n",
       " 'an',\n",
       " 'Pure',\n",
       " 'Super',\n",
       " 'meal',\n",
       " 'NO',\n",
       " 'also',\n",
       " 'i',\n",
       " 'Surprisingly',\n",
       " 'Cinnamon',\n",
       " 'salt',\n",
       " 'coffee,',\n",
       " 'well',\n",
       " 'market',\n",
       " 'Loved',\n",
       " 'strong',\n",
       " 'their',\n",
       " 'own',\n",
       " 'flavored',\n",
       " \"can't\",\n",
       " 'actually',\n",
       " 'great.',\n",
       " 'again',\n",
       " 'stars',\n",
       " 'better.',\n",
       " 'Raw',\n",
       " 'AND',\n",
       " 'bags',\n",
       " 'highly',\n",
       " 'fast',\n",
       " 'shipping',\n",
       " 'White',\n",
       " \"Bob's\",\n",
       " 'Red',\n",
       " 'Okay',\n",
       " 'OK',\n",
       " 'bought',\n",
       " 'sweet',\n",
       " 'fine',\n",
       " 'aroma',\n",
       " 'bitter',\n",
       " 'gift',\n",
       " 'expensive',\n",
       " 'work',\n",
       " 'peanuts',\n",
       " 'Bold',\n",
       " 'two',\n",
       " 'about',\n",
       " 'purchase',\n",
       " 'Recommended',\n",
       " 'honey',\n",
       " 'ever',\n",
       " 'used',\n",
       " 'tasty,',\n",
       " 'healthy',\n",
       " 'For',\n",
       " 'buying',\n",
       " 'mild',\n",
       " 'large',\n",
       " 'size',\n",
       " 'staple',\n",
       " 'Quality',\n",
       " 'good!',\n",
       " 'item',\n",
       " 'pantry',\n",
       " 'choice',\n",
       " 'excellent',\n",
       " 'packaging',\n",
       " 'Cookies',\n",
       " \"I'm\",\n",
       " 'this!',\n",
       " 'FOR',\n",
       " 'In',\n",
       " 'Variety',\n",
       " 'More',\n",
       " 'ginger',\n",
       " 'quality,',\n",
       " 'Stuff',\n",
       " 'tasted',\n",
       " 'down',\n",
       " 'do',\n",
       " 'anything',\n",
       " 'family',\n",
       " 'flour',\n",
       " \"you're\",\n",
       " 'chicken',\n",
       " 'any',\n",
       " 'product!',\n",
       " 'add',\n",
       " 'soft',\n",
       " 'cookie',\n",
       " 'Bad',\n",
       " 'without',\n",
       " 'Worth',\n",
       " 'pricey',\n",
       " 'variety',\n",
       " 'alternative',\n",
       " 'Lovely',\n",
       " 'Candy',\n",
       " 'Highly',\n",
       " 'tasty.',\n",
       " 'Bars',\n",
       " 'time',\n",
       " 'Delicious,',\n",
       " 'old',\n",
       " 'tea!',\n",
       " 'thing',\n",
       " 'lemon',\n",
       " 'food',\n",
       " 'small',\n",
       " 'Organic',\n",
       " 'could',\n",
       " 'though',\n",
       " 'must',\n",
       " 'got',\n",
       " 'decent',\n",
       " 'pepper',\n",
       " 'Awesome',\n",
       " 'few',\n",
       " 'taste,',\n",
       " 'Works',\n",
       " 'syrup',\n",
       " 'iced',\n",
       " 'these!',\n",
       " 'many',\n",
       " 'Rice',\n",
       " 'sure',\n",
       " 'husband',\n",
       " 'package',\n",
       " 'NOT',\n",
       " 'Fun',\n",
       " 'vanilla',\n",
       " 'quality.',\n",
       " 'popcorn',\n",
       " 'money',\n",
       " 'Light',\n",
       " 'right',\n",
       " 'value.',\n",
       " 'Cup',\n",
       " 'Can',\n",
       " 'absolutely',\n",
       " 'YUM',\n",
       " 'Convenient',\n",
       " 'Made',\n",
       " '3',\n",
       " 'Sugar',\n",
       " 'spicy',\n",
       " 'tea.',\n",
       " 'Is',\n",
       " 'With',\n",
       " 'Stevia',\n",
       " 'sweetener',\n",
       " 'jerky',\n",
       " 'GF',\n",
       " 'want',\n",
       " 'almond',\n",
       " 'quite',\n",
       " 'Coconut',\n",
       " 'glad',\n",
       " 'calories',\n",
       " 'Still',\n",
       " 'looking',\n",
       " 'flavor!',\n",
       " 'THE',\n",
       " 'ever!',\n",
       " 'okay',\n",
       " 'Sauce',\n",
       " 'thought',\n",
       " 'long',\n",
       " 'over',\n",
       " 'High',\n",
       " 'being',\n",
       " 'enough',\n",
       " \"Didn't\",\n",
       " 'Nothing',\n",
       " 'bit',\n",
       " 'Arrived',\n",
       " 'big',\n",
       " 'Makes',\n",
       " 'Breakfast',\n",
       " 'again!',\n",
       " 'Your',\n",
       " '!!',\n",
       " 'around',\n",
       " 'light',\n",
       " \"Don't\",\n",
       " 'yum',\n",
       " 'stuff.',\n",
       " 'black',\n",
       " 'almost',\n",
       " 'Buy',\n",
       " 'Kids',\n",
       " 'Food',\n",
       " 'added',\n",
       " 'natural',\n",
       " 'back',\n",
       " 'Bar',\n",
       " 'Popcorn',\n",
       " 'Another',\n",
       " 'know',\n",
       " 'same',\n",
       " 'bottle',\n",
       " \"won't\",\n",
       " 'Roast',\n",
       " 'Real',\n",
       " 'weak',\n",
       " 'juice',\n",
       " 'extra',\n",
       " 'cocoa',\n",
       " 'powder',\n",
       " 'put',\n",
       " 'Disappointed',\n",
       " 'bold',\n",
       " 'Oh',\n",
       " 'baking',\n",
       " 'green',\n",
       " 'diet',\n",
       " 'going',\n",
       " 'Fruit',\n",
       " 'pack',\n",
       " 'yummy',\n",
       " 'eating',\n",
       " 'cinnamon',\n",
       " 'teas',\n",
       " 'seeds',\n",
       " 'Be',\n",
       " 'New',\n",
       " 'keep',\n",
       " 'white',\n",
       " 'quick',\n",
       " 'fruit',\n",
       " 'Its',\n",
       " '!!!',\n",
       " 'artificial',\n",
       " 'flavorful',\n",
       " \"I'd\",\n",
       " 'another',\n",
       " 'available',\n",
       " 'Happy',\n",
       " 'off',\n",
       " 'trying',\n",
       " 'should',\n",
       " 'beans',\n",
       " 'seasoning',\n",
       " 'prefer',\n",
       " 'Has',\n",
       " 'French',\n",
       " 'noodles',\n",
       " 'Simply',\n",
       " 'delivery',\n",
       " 'Smells',\n",
       " 'this.',\n",
       " 'Ok',\n",
       " 'sweet.',\n",
       " 'YUM!',\n",
       " 'delicious.',\n",
       " 'getting',\n",
       " 'here',\n",
       " 'Good!',\n",
       " 'YUMMY',\n",
       " 'addition',\n",
       " 'Excellent!',\n",
       " 'Rich',\n",
       " 'full',\n",
       " 'Flavorful',\n",
       " 'Lots',\n",
       " 'tea,',\n",
       " 'then',\n",
       " 'yet',\n",
       " 'definitely',\n",
       " 'since',\n",
       " 'Thank',\n",
       " 'Chips',\n",
       " 'wanted',\n",
       " 'Get',\n",
       " 'raw',\n",
       " 'most',\n",
       " 'Value',\n",
       " 'Our',\n",
       " 'gum',\n",
       " 'smells',\n",
       " 'replacement',\n",
       " 'cream',\n",
       " 'pleased',\n",
       " 'into',\n",
       " 'crackers',\n",
       " 'Soup',\n",
       " 'fun',\n",
       " 'ordered',\n",
       " 'Fast']"
      ]
     },
     "execution_count": 59,
     "metadata": {},
     "output_type": "execute_result"
    }
   ],
   "source": [
    "words"
   ]
  },
  {
   "cell_type": "code",
   "execution_count": 60,
   "metadata": {
    "execution": {
     "iopub.execute_input": "2021-09-07T18:30:46.097225Z",
     "iopub.status.busy": "2021-09-07T18:30:46.096476Z",
     "iopub.status.idle": "2021-09-07T18:30:46.098994Z",
     "shell.execute_reply": "2021-09-07T18:30:46.099462Z",
     "shell.execute_reply.started": "2021-09-07T17:35:31.311100Z"
    },
    "papermill": {
     "duration": 0.139091,
     "end_time": "2021-09-07T18:30:46.099630",
     "exception": false,
     "start_time": "2021-09-07T18:30:45.960539",
     "status": "completed"
    },
    "tags": []
   },
   "outputs": [],
   "source": [
    "# These list of positive word and negative words were formed manually under the human supervision\n",
    "positives = [\n",
    "    \"best\",\n",
    "    \"good\",\n",
    "    \"great\",\n",
    "    \"love\",\n",
    "    \"delicious\",\n",
    "    \"nice\",\n",
    "    \"favorite\",\n",
    "    \"tasty\",\n",
    "    \"perfect\",\n",
    "    \"excellent\",\n",
    "    \"wonderful\",\n",
    "    \"enjoy\",\n",
    "    \"yummy\",\n",
    "    \"happy\",\n",
    "    \"loves\",\n",
    "    \"loved\",\n",
    "    \"amazing\",\n",
    "    \"awesome\",\n",
    "    \"yum\",\n",
    "    \"enjoyed\",\n",
    "    \"fantastic\",\n",
    "    \"perfectly\",\n",
    "    \"wow\",\n",
    "    \"lovely\",\n",
    "    \"beautiful\",\n",
    "    \"terrific\",\n",
    "    \"enjoyable\"\n",
    "]\n",
    "\n",
    "negatives = [\n",
    "    \"awful\",\n",
    "    \"bad\",\n",
    "    \"disappointed\",\n",
    "    \"unfortunate\",\n",
    "    \"waste\",\n",
    "    \"weird\",\n",
    "    \"difficult\",\n",
    "    \"terrible\",\n",
    "    \"horrible\",\n",
    "    \"complaint\",\n",
    "    \"gross\",\n",
    "    \"worst\",\n",
    "    \"strange\",\n",
    "    \"fake\",\n",
    "    \"disappointing\",\n",
    "    \"complaints\",\n",
    "    \"poor\",\n",
    "    \"sucks\"\n",
    "]"
   ]
  },
  {
   "cell_type": "code",
   "execution_count": 61,
   "metadata": {
    "execution": {
     "iopub.execute_input": "2021-09-07T18:30:46.363502Z",
     "iopub.status.busy": "2021-09-07T18:30:46.362725Z",
     "iopub.status.idle": "2021-09-07T18:30:46.366317Z",
     "shell.execute_reply": "2021-09-07T18:30:46.365720Z",
     "shell.execute_reply.started": "2021-09-07T17:35:43.436245Z"
    },
    "papermill": {
     "duration": 0.137415,
     "end_time": "2021-09-07T18:30:46.366449",
     "exception": false,
     "start_time": "2021-09-07T18:30:46.229034",
     "status": "completed"
    },
    "tags": []
   },
   "outputs": [],
   "source": [
    "# Let's create an extra feature summary_tone that will take 1 if the tone of the review is positive, -1 if it is negative and 0 if it is neutral \n",
    "# (the summary text doesn`t contain any of the words from the list)\n",
    "def summary_tone(text):\n",
    "    for item in positives:\n",
    "        if item in text:\n",
    "            return 1\n",
    "    for item in negatives:\n",
    "        if item in text:\n",
    "            return -1\n",
    "    return 0"
   ]
  },
  {
   "cell_type": "code",
   "execution_count": 62,
   "metadata": {
    "execution": {
     "iopub.execute_input": "2021-09-07T18:30:46.630211Z",
     "iopub.status.busy": "2021-09-07T18:30:46.629468Z",
     "iopub.status.idle": "2021-09-07T18:30:46.727843Z",
     "shell.execute_reply": "2021-09-07T18:30:46.728463Z",
     "shell.execute_reply.started": "2021-09-07T17:35:45.706497Z"
    },
    "papermill": {
     "duration": 0.231915,
     "end_time": "2021-09-07T18:30:46.728647",
     "exception": false,
     "start_time": "2021-09-07T18:30:46.496732",
     "status": "completed"
    },
    "tags": []
   },
   "outputs": [],
   "source": [
    "# Filling NA values with string of \"0\" for better processing\n",
    "train['summary'].fillna(\"0\", inplace = True)"
   ]
  },
  {
   "cell_type": "code",
   "execution_count": 63,
   "metadata": {
    "execution": {
     "iopub.execute_input": "2021-09-07T18:30:46.988311Z",
     "iopub.status.busy": "2021-09-07T18:30:46.987598Z",
     "iopub.status.idle": "2021-09-07T18:30:49.812609Z",
     "shell.execute_reply": "2021-09-07T18:30:49.813162Z",
     "shell.execute_reply.started": "2021-09-07T17:35:47.354869Z"
    },
    "papermill": {
     "duration": 2.954915,
     "end_time": "2021-09-07T18:30:49.813345",
     "exception": false,
     "start_time": "2021-09-07T18:30:46.858430",
     "status": "completed"
    },
    "tags": []
   },
   "outputs": [],
   "source": [
    "train['summary_tone'] = train['summary'].apply(summary_tone)"
   ]
  },
  {
   "cell_type": "code",
   "execution_count": 64,
   "metadata": {
    "execution": {
     "iopub.execute_input": "2021-09-07T18:30:50.073898Z",
     "iopub.status.busy": "2021-09-07T18:30:50.073217Z",
     "iopub.status.idle": "2021-09-07T18:30:50.088368Z",
     "shell.execute_reply": "2021-09-07T18:30:50.087664Z",
     "shell.execute_reply.started": "2021-09-07T17:35:52.137560Z"
    },
    "papermill": {
     "duration": 0.146752,
     "end_time": "2021-09-07T18:30:50.088495",
     "exception": false,
     "start_time": "2021-09-07T18:30:49.941743",
     "status": "completed"
    },
    "tags": []
   },
   "outputs": [
    {
     "data": {
      "text/html": [
       "<div>\n",
       "<style scoped>\n",
       "    .dataframe tbody tr th:only-of-type {\n",
       "        vertical-align: middle;\n",
       "    }\n",
       "\n",
       "    .dataframe tbody tr th {\n",
       "        vertical-align: top;\n",
       "    }\n",
       "\n",
       "    .dataframe thead th {\n",
       "        text-align: right;\n",
       "    }\n",
       "</style>\n",
       "<table border=\"1\" class=\"dataframe\">\n",
       "  <thead>\n",
       "    <tr style=\"text-align: right;\">\n",
       "      <th></th>\n",
       "      <th>verified</th>\n",
       "      <th>summary</th>\n",
       "      <th>unixReviewTime</th>\n",
       "      <th>vote</th>\n",
       "      <th>image</th>\n",
       "      <th>userid</th>\n",
       "      <th>itemid</th>\n",
       "      <th>rating</th>\n",
       "      <th>summary_tone</th>\n",
       "    </tr>\n",
       "  </thead>\n",
       "  <tbody>\n",
       "    <tr>\n",
       "      <th>0</th>\n",
       "      <td>1</td>\n",
       "      <td>Must Add to your Spice kitchen!</td>\n",
       "      <td>2</td>\n",
       "      <td>0</td>\n",
       "      <td>0</td>\n",
       "      <td>102179</td>\n",
       "      <td>37138</td>\n",
       "      <td>1.0</td>\n",
       "      <td>0</td>\n",
       "    </tr>\n",
       "    <tr>\n",
       "      <th>1</th>\n",
       "      <td>1</td>\n",
       "      <td>Milk Chocolate Swiis MIss Hot Cocoa Mix</td>\n",
       "      <td>2</td>\n",
       "      <td>0</td>\n",
       "      <td>0</td>\n",
       "      <td>3625</td>\n",
       "      <td>17322</td>\n",
       "      <td>1.0</td>\n",
       "      <td>0</td>\n",
       "    </tr>\n",
       "    <tr>\n",
       "      <th>2</th>\n",
       "      <td>1</td>\n",
       "      <td>Love these sugar free syrups, but didn't love ...</td>\n",
       "      <td>2</td>\n",
       "      <td>28</td>\n",
       "      <td>0</td>\n",
       "      <td>39495</td>\n",
       "      <td>5600</td>\n",
       "      <td>1.0</td>\n",
       "      <td>1</td>\n",
       "    </tr>\n",
       "    <tr>\n",
       "      <th>3</th>\n",
       "      <td>1</td>\n",
       "      <td>Nice !</td>\n",
       "      <td>1</td>\n",
       "      <td>0</td>\n",
       "      <td>0</td>\n",
       "      <td>72854</td>\n",
       "      <td>30249</td>\n",
       "      <td>1.0</td>\n",
       "      <td>0</td>\n",
       "    </tr>\n",
       "    <tr>\n",
       "      <th>4</th>\n",
       "      <td>1</td>\n",
       "      <td>These are my favorite jalapeno chips so far</td>\n",
       "      <td>2</td>\n",
       "      <td>0</td>\n",
       "      <td>0</td>\n",
       "      <td>74859</td>\n",
       "      <td>4349</td>\n",
       "      <td>1.0</td>\n",
       "      <td>1</td>\n",
       "    </tr>\n",
       "  </tbody>\n",
       "</table>\n",
       "</div>"
      ],
      "text/plain": [
       "   verified                                            summary  \\\n",
       "0         1                    Must Add to your Spice kitchen!   \n",
       "1         1            Milk Chocolate Swiis MIss Hot Cocoa Mix   \n",
       "2         1  Love these sugar free syrups, but didn't love ...   \n",
       "3         1                                             Nice !   \n",
       "4         1        These are my favorite jalapeno chips so far   \n",
       "\n",
       "   unixReviewTime  vote  image  userid  itemid  rating  summary_tone  \n",
       "0               2     0      0  102179   37138     1.0             0  \n",
       "1               2     0      0    3625   17322     1.0             0  \n",
       "2               2    28      0   39495    5600     1.0             1  \n",
       "3               1     0      0   72854   30249     1.0             0  \n",
       "4               2     0      0   74859    4349     1.0             1  "
      ]
     },
     "execution_count": 64,
     "metadata": {},
     "output_type": "execute_result"
    }
   ],
   "source": [
    "train.head()"
   ]
  },
  {
   "cell_type": "code",
   "execution_count": 65,
   "metadata": {
    "execution": {
     "iopub.execute_input": "2021-09-07T18:30:50.354030Z",
     "iopub.status.busy": "2021-09-07T18:30:50.352882Z",
     "iopub.status.idle": "2021-09-07T18:30:50.367260Z",
     "shell.execute_reply": "2021-09-07T18:30:50.366557Z",
     "shell.execute_reply.started": "2021-09-07T17:35:55.093689Z"
    },
    "papermill": {
     "duration": 0.147877,
     "end_time": "2021-09-07T18:30:50.367384",
     "exception": false,
     "start_time": "2021-09-07T18:30:50.219507",
     "status": "completed"
    },
    "tags": []
   },
   "outputs": [
    {
     "data": {
      "text/plain": [
       " 0    667976\n",
       " 1    152916\n",
       "-1      8043\n",
       "Name: summary_tone, dtype: int64"
      ]
     },
     "execution_count": 65,
     "metadata": {},
     "output_type": "execute_result"
    }
   ],
   "source": [
    "train.summary_tone.value_counts()"
   ]
  },
  {
   "cell_type": "code",
   "execution_count": 66,
   "metadata": {
    "execution": {
     "iopub.execute_input": "2021-09-07T18:30:50.634091Z",
     "iopub.status.busy": "2021-09-07T18:30:50.633386Z",
     "iopub.status.idle": "2021-09-07T18:30:50.687033Z",
     "shell.execute_reply": "2021-09-07T18:30:50.686444Z",
     "shell.execute_reply.started": "2021-09-07T17:35:58.043428Z"
    },
    "papermill": {
     "duration": 0.189236,
     "end_time": "2021-09-07T18:30:50.687164",
     "exception": false,
     "start_time": "2021-09-07T18:30:50.497928",
     "status": "completed"
    },
    "tags": []
   },
   "outputs": [],
   "source": [
    "train.drop(columns = ['summary'], inplace = True)"
   ]
  },
  {
   "cell_type": "code",
   "execution_count": 67,
   "metadata": {
    "execution": {
     "iopub.execute_input": "2021-09-07T18:30:50.957231Z",
     "iopub.status.busy": "2021-09-07T18:30:50.956117Z",
     "iopub.status.idle": "2021-09-07T18:30:50.960208Z",
     "shell.execute_reply": "2021-09-07T18:30:50.959651Z",
     "shell.execute_reply.started": "2021-09-07T17:36:01.290727Z"
    },
    "papermill": {
     "duration": 0.144846,
     "end_time": "2021-09-07T18:30:50.960325",
     "exception": false,
     "start_time": "2021-09-07T18:30:50.815479",
     "status": "completed"
    },
    "tags": []
   },
   "outputs": [
    {
     "data": {
      "text/html": [
       "<div>\n",
       "<style scoped>\n",
       "    .dataframe tbody tr th:only-of-type {\n",
       "        vertical-align: middle;\n",
       "    }\n",
       "\n",
       "    .dataframe tbody tr th {\n",
       "        vertical-align: top;\n",
       "    }\n",
       "\n",
       "    .dataframe thead th {\n",
       "        text-align: right;\n",
       "    }\n",
       "</style>\n",
       "<table border=\"1\" class=\"dataframe\">\n",
       "  <thead>\n",
       "    <tr style=\"text-align: right;\">\n",
       "      <th></th>\n",
       "      <th>verified</th>\n",
       "      <th>unixReviewTime</th>\n",
       "      <th>vote</th>\n",
       "      <th>image</th>\n",
       "      <th>userid</th>\n",
       "      <th>itemid</th>\n",
       "      <th>rating</th>\n",
       "      <th>summary_tone</th>\n",
       "    </tr>\n",
       "  </thead>\n",
       "  <tbody>\n",
       "    <tr>\n",
       "      <th>0</th>\n",
       "      <td>1</td>\n",
       "      <td>2</td>\n",
       "      <td>0</td>\n",
       "      <td>0</td>\n",
       "      <td>102179</td>\n",
       "      <td>37138</td>\n",
       "      <td>1.0</td>\n",
       "      <td>0</td>\n",
       "    </tr>\n",
       "    <tr>\n",
       "      <th>1</th>\n",
       "      <td>1</td>\n",
       "      <td>2</td>\n",
       "      <td>0</td>\n",
       "      <td>0</td>\n",
       "      <td>3625</td>\n",
       "      <td>17322</td>\n",
       "      <td>1.0</td>\n",
       "      <td>0</td>\n",
       "    </tr>\n",
       "    <tr>\n",
       "      <th>2</th>\n",
       "      <td>1</td>\n",
       "      <td>2</td>\n",
       "      <td>28</td>\n",
       "      <td>0</td>\n",
       "      <td>39495</td>\n",
       "      <td>5600</td>\n",
       "      <td>1.0</td>\n",
       "      <td>1</td>\n",
       "    </tr>\n",
       "    <tr>\n",
       "      <th>3</th>\n",
       "      <td>1</td>\n",
       "      <td>1</td>\n",
       "      <td>0</td>\n",
       "      <td>0</td>\n",
       "      <td>72854</td>\n",
       "      <td>30249</td>\n",
       "      <td>1.0</td>\n",
       "      <td>0</td>\n",
       "    </tr>\n",
       "    <tr>\n",
       "      <th>4</th>\n",
       "      <td>1</td>\n",
       "      <td>2</td>\n",
       "      <td>0</td>\n",
       "      <td>0</td>\n",
       "      <td>74859</td>\n",
       "      <td>4349</td>\n",
       "      <td>1.0</td>\n",
       "      <td>1</td>\n",
       "    </tr>\n",
       "  </tbody>\n",
       "</table>\n",
       "</div>"
      ],
      "text/plain": [
       "   verified  unixReviewTime  vote  image  userid  itemid  rating  summary_tone\n",
       "0         1               2     0      0  102179   37138     1.0             0\n",
       "1         1               2     0      0    3625   17322     1.0             0\n",
       "2         1               2    28      0   39495    5600     1.0             1\n",
       "3         1               1     0      0   72854   30249     1.0             0\n",
       "4         1               2     0      0   74859    4349     1.0             1"
      ]
     },
     "execution_count": 67,
     "metadata": {},
     "output_type": "execute_result"
    }
   ],
   "source": [
    "train.head()"
   ]
  },
  {
   "cell_type": "code",
   "execution_count": 68,
   "metadata": {
    "execution": {
     "iopub.execute_input": "2021-09-07T18:30:51.223267Z",
     "iopub.status.busy": "2021-09-07T18:30:51.221939Z",
     "iopub.status.idle": "2021-09-07T18:30:51.244282Z",
     "shell.execute_reply": "2021-09-07T18:30:51.244779Z",
     "shell.execute_reply.started": "2021-09-07T17:46:57.211436Z"
    },
    "papermill": {
     "duration": 0.156636,
     "end_time": "2021-09-07T18:30:51.244937",
     "exception": false,
     "start_time": "2021-09-07T18:30:51.088301",
     "status": "completed"
    },
    "tags": []
   },
   "outputs": [
    {
     "name": "stdout",
     "output_type": "stream",
     "text": [
      "<class 'pandas.core.frame.DataFrame'>\n",
      "Int64Index: 828935 entries, 0 to 857894\n",
      "Data columns (total 8 columns):\n",
      " #   Column          Non-Null Count   Dtype  \n",
      "---  ------          --------------   -----  \n",
      " 0   verified        828935 non-null  int64  \n",
      " 1   unixReviewTime  828935 non-null  int64  \n",
      " 2   vote            828935 non-null  int64  \n",
      " 3   image           828935 non-null  int64  \n",
      " 4   userid          828935 non-null  int64  \n",
      " 5   itemid          828935 non-null  int64  \n",
      " 6   rating          828935 non-null  float64\n",
      " 7   summary_tone    828935 non-null  int64  \n",
      "dtypes: float64(1), int64(7)\n",
      "memory usage: 56.9 MB\n"
     ]
    }
   ],
   "source": [
    "train.info()"
   ]
  },
  {
   "cell_type": "markdown",
   "metadata": {
    "papermill": {
     "duration": 0.12801,
     "end_time": "2021-09-07T18:30:51.502258",
     "exception": false,
     "start_time": "2021-09-07T18:30:51.374248",
     "status": "completed"
    },
    "tags": []
   },
   "source": [
    "#### We can see that, besides the **userid** and **itemid** features we have just one aditional feature that is nominal. It is **vote**. Also we have two binary features - **image** and **verified**, and two ordinal features **unixReviewTime** and **summary_tone**. Let,s split tem into separate lists of features"
   ]
  },
  {
   "cell_type": "code",
   "execution_count": 69,
   "metadata": {
    "execution": {
     "iopub.execute_input": "2021-09-07T18:30:51.764831Z",
     "iopub.status.busy": "2021-09-07T18:30:51.762365Z",
     "iopub.status.idle": "2021-09-07T18:30:51.767741Z",
     "shell.execute_reply": "2021-09-07T18:30:51.768287Z",
     "shell.execute_reply.started": "2021-09-07T17:48:43.011769Z"
    },
    "papermill": {
     "duration": 0.137181,
     "end_time": "2021-09-07T18:30:51.768458",
     "exception": false,
     "start_time": "2021-09-07T18:30:51.631277",
     "status": "completed"
    },
    "tags": []
   },
   "outputs": [],
   "source": [
    "bin_cols = ['verified', 'image']\n",
    "ord_cols = ['unixReviewTime', 'summary_tone']"
   ]
  },
  {
   "cell_type": "markdown",
   "metadata": {
    "papermill": {
     "duration": 0.128864,
     "end_time": "2021-09-07T18:30:52.025591",
     "exception": false,
     "start_time": "2021-09-07T18:30:51.896727",
     "status": "completed"
    },
    "tags": []
   },
   "source": [
    "#### Let's try to figure out the importance of each feature"
   ]
  },
  {
   "cell_type": "code",
   "execution_count": 70,
   "metadata": {
    "execution": {
     "iopub.execute_input": "2021-09-07T18:30:52.292962Z",
     "iopub.status.busy": "2021-09-07T18:30:52.292133Z",
     "iopub.status.idle": "2021-09-07T18:30:53.038683Z",
     "shell.execute_reply": "2021-09-07T18:30:53.038082Z",
     "shell.execute_reply.started": "2021-09-07T17:48:45.489194Z"
    },
    "papermill": {
     "duration": 0.883441,
     "end_time": "2021-09-07T18:30:53.038801",
     "exception": false,
     "start_time": "2021-09-07T18:30:52.155360",
     "status": "completed"
    },
    "tags": []
   },
   "outputs": [
    {
     "data": {
      "text/plain": [
       "<matplotlib.axes._subplots.AxesSubplot at 0x7f29d8a56950>"
      ]
     },
     "execution_count": 70,
     "metadata": {},
     "output_type": "execute_result"
    },
    {
     "data": {
      "image/png": "[encoded data removed]",
      "text/plain": [
       "<Figure size 432x288 with 1 Axes>"
      ]
     },
     "metadata": {
      "needs_background": "light"
     },
     "output_type": "display_data"
    }
   ],
   "source": [
    "#Figuring out importance of binary features\n",
    "imp_cat = pd.Series(mutual_info_classif(train[bin_cols + ord_cols], train['rating'],\n",
    "                                     discrete_features =True), index = bin_cols + ord_cols)\n",
    "imp_cat.sort_values(inplace = True)\n",
    "imp_cat.plot(kind = 'barh')"
   ]
  },
  {
   "cell_type": "markdown",
   "metadata": {
    "papermill": {
     "duration": 0.129539,
     "end_time": "2021-09-07T18:30:53.303412",
     "exception": false,
     "start_time": "2021-09-07T18:30:53.173873",
     "status": "completed"
    },
    "tags": []
   },
   "source": [
    "#### As we can see the features **summary_tone** and **verified** are more important than **unixReviewTime** and **image**, so we could probably use them first of all as item_features"
   ]
  },
  {
   "cell_type": "markdown",
   "metadata": {
    "papermill": {
     "duration": 0.13061,
     "end_time": "2021-09-07T18:30:53.564434",
     "exception": false,
     "start_time": "2021-09-07T18:30:53.433824",
     "status": "completed"
    },
    "tags": []
   },
   "source": [
    "#### But first let's build a default model. "
   ]
  },
  {
   "cell_type": "markdown",
   "metadata": {
    "papermill": {
     "duration": 0.131532,
     "end_time": "2021-09-07T18:30:53.825696",
     "exception": false,
     "start_time": "2021-09-07T18:30:53.694164",
     "status": "completed"
    },
    "tags": []
   },
   "source": [
    "## Building a Model"
   ]
  },
  {
   "cell_type": "markdown",
   "metadata": {
    "papermill": {
     "duration": 0.130408,
     "end_time": "2021-09-07T18:30:54.087369",
     "exception": false,
     "start_time": "2021-09-07T18:30:53.956961",
     "status": "completed"
    },
    "tags": []
   },
   "source": [
    "### Let's start with building a default model"
   ]
  },
  {
   "cell_type": "code",
   "execution_count": 71,
   "metadata": {
    "execution": {
     "iopub.execute_input": "2021-09-07T18:30:54.349313Z",
     "iopub.status.busy": "2021-09-07T18:30:54.348282Z",
     "iopub.status.idle": "2021-09-07T18:30:54.477385Z",
     "shell.execute_reply": "2021-09-07T18:30:54.476603Z",
     "shell.execute_reply.started": "2021-09-07T17:51:21.766507Z"
    },
    "papermill": {
     "duration": 0.261076,
     "end_time": "2021-09-07T18:30:54.477513",
     "exception": false,
     "start_time": "2021-09-07T18:30:54.216437",
     "status": "completed"
    },
    "tags": []
   },
   "outputs": [],
   "source": [
    "# Let`s split dataset into training and validation part\n",
    "train_data, test_data = train_test_split(train,random_state=32, shuffle=True)"
   ]
  },
  {
   "cell_type": "code",
   "execution_count": 72,
   "metadata": {
    "execution": {
     "iopub.execute_input": "2021-09-07T18:30:54.742335Z",
     "iopub.status.busy": "2021-09-07T18:30:54.741311Z",
     "iopub.status.idle": "2021-09-07T18:30:54.754371Z",
     "shell.execute_reply": "2021-09-07T18:30:54.754914Z",
     "shell.execute_reply.started": "2021-09-07T17:51:24.046396Z"
    },
    "papermill": {
     "duration": 0.147574,
     "end_time": "2021-09-07T18:30:54.755088",
     "exception": false,
     "start_time": "2021-09-07T18:30:54.607514",
     "status": "completed"
    },
    "tags": []
   },
   "outputs": [],
   "source": [
    "ratings_coo = sparse.coo_matrix((train_data['rating'].astype(int),\n",
    "                                 (train_data['userid'],\n",
    "                                  train_data['itemid'])))"
   ]
  },
  {
   "cell_type": "code",
   "execution_count": 73,
   "metadata": {
    "execution": {
     "iopub.execute_input": "2021-09-07T18:30:55.022012Z",
     "iopub.status.busy": "2021-09-07T18:30:55.021204Z",
     "iopub.status.idle": "2021-09-07T18:30:55.709344Z",
     "shell.execute_reply": "2021-09-07T18:30:55.708758Z",
     "shell.execute_reply.started": "2021-09-07T17:51:26.427755Z"
    },
    "papermill": {
     "duration": 0.824968,
     "end_time": "2021-09-07T18:30:55.709476",
     "exception": false,
     "start_time": "2021-09-07T18:30:54.884508",
     "status": "completed"
    },
    "tags": []
   },
   "outputs": [],
   "source": [
    "#Default model without user_features. All parameters - by default\n",
    "\n",
    "model0 = LightFM()\n",
    "model0 = model0.fit(ratings_coo)"
   ]
  },
  {
   "cell_type": "code",
   "execution_count": 74,
   "metadata": {
    "execution": {
     "iopub.execute_input": "2021-09-07T18:30:55.977097Z",
     "iopub.status.busy": "2021-09-07T18:30:55.976409Z",
     "iopub.status.idle": "2021-09-07T18:30:56.032384Z",
     "shell.execute_reply": "2021-09-07T18:30:56.031766Z",
     "shell.execute_reply.started": "2021-09-07T17:51:28.588249Z"
    },
    "papermill": {
     "duration": 0.191735,
     "end_time": "2021-09-07T18:30:56.032521",
     "exception": false,
     "start_time": "2021-09-07T18:30:55.840786",
     "status": "completed"
    },
    "tags": []
   },
   "outputs": [],
   "source": [
    "#Preds for ROC AUC\n",
    "preds0 = model0.predict(test_data.userid.values,\n",
    "                      test_data.itemid.values)"
   ]
  },
  {
   "cell_type": "code",
   "execution_count": 75,
   "metadata": {
    "execution": {
     "iopub.execute_input": "2021-09-07T18:30:56.298481Z",
     "iopub.status.busy": "2021-09-07T18:30:56.297794Z",
     "iopub.status.idle": "2021-09-07T18:30:56.381202Z",
     "shell.execute_reply": "2021-09-07T18:30:56.381725Z",
     "shell.execute_reply.started": "2021-09-07T17:51:31.101155Z"
    },
    "papermill": {
     "duration": 0.218706,
     "end_time": "2021-09-07T18:30:56.381872",
     "exception": false,
     "start_time": "2021-09-07T18:30:56.163166",
     "status": "completed"
    },
    "tags": []
   },
   "outputs": [
    {
     "data": {
      "text/plain": [
       "0.610340511241432"
      ]
     },
     "execution_count": 75,
     "metadata": {},
     "output_type": "execute_result"
    }
   ],
   "source": [
    "sklearn.metrics.roc_auc_score(test_data.rating,preds0)"
   ]
  },
  {
   "cell_type": "code",
   "execution_count": 76,
   "metadata": {
    "execution": {
     "iopub.execute_input": "2021-09-07T18:30:56.671892Z",
     "iopub.status.busy": "2021-09-07T18:30:56.670898Z",
     "iopub.status.idle": "2021-09-07T18:30:56.987295Z",
     "shell.execute_reply": "2021-09-07T18:30:56.986613Z",
     "shell.execute_reply.started": "2021-09-07T17:51:33.176779Z"
    },
    "papermill": {
     "duration": 0.475453,
     "end_time": "2021-09-07T18:30:56.987414",
     "exception": false,
     "start_time": "2021-09-07T18:30:56.511961",
     "status": "completed"
    },
    "tags": []
   },
   "outputs": [
    {
     "data": {
      "image/png": "[encoded data removed]",
      "text/plain": [
       "<Figure size 432x288 with 1 Axes>"
      ]
     },
     "metadata": {
      "needs_background": "light"
     },
     "output_type": "display_data"
    }
   ],
   "source": [
    "roc_auc_curve(test_data.rating,preds0)"
   ]
  },
  {
   "cell_type": "markdown",
   "metadata": {
    "papermill": {
     "duration": 0.13017,
     "end_time": "2021-09-07T18:30:57.249844",
     "exception": false,
     "start_time": "2021-09-07T18:30:57.119674",
     "status": "completed"
    },
    "tags": []
   },
   "source": [
    "#### As you can see the result of naive model is not quite good. Let's try other options"
   ]
  },
  {
   "cell_type": "markdown",
   "metadata": {
    "papermill": {
     "duration": 0.132427,
     "end_time": "2021-09-07T18:30:57.515149",
     "exception": false,
     "start_time": "2021-09-07T18:30:57.382722",
     "status": "completed"
    },
    "tags": []
   },
   "source": [
    "### Hyperparameters tuning"
   ]
  },
  {
   "cell_type": "markdown",
   "metadata": {
    "papermill": {
     "duration": 0.132313,
     "end_time": "2021-09-07T18:30:57.779508",
     "exception": false,
     "start_time": "2021-09-07T18:30:57.647195",
     "status": "completed"
    },
    "tags": []
   },
   "source": [
    "#### Let's try to find the best hyperparameters for the model with Random Search method"
   ]
  },
  {
   "cell_type": "code",
   "execution_count": 77,
   "metadata": {
    "execution": {
     "iopub.execute_input": "2021-09-07T18:30:58.052580Z",
     "iopub.status.busy": "2021-09-07T18:30:58.051418Z",
     "iopub.status.idle": "2021-09-07T18:30:58.238016Z",
     "shell.execute_reply": "2021-09-07T18:30:58.237357Z",
     "shell.execute_reply.started": "2021-09-05T16:05:46.444041Z"
    },
    "papermill": {
     "duration": 0.325128,
     "end_time": "2021-09-07T18:30:58.238138",
     "exception": false,
     "start_time": "2021-09-07T18:30:57.913010",
     "status": "completed"
    },
    "tags": []
   },
   "outputs": [],
   "source": [
    "train_hyper = train.drop_duplicates(subset = ['userid', 'itemid'])"
   ]
  },
  {
   "cell_type": "code",
   "execution_count": 78,
   "metadata": {
    "execution": {
     "iopub.execute_input": "2021-09-07T18:30:58.507857Z",
     "iopub.status.busy": "2021-09-07T18:30:58.506746Z",
     "iopub.status.idle": "2021-09-07T18:30:58.511495Z",
     "shell.execute_reply": "2021-09-07T18:30:58.512056Z",
     "shell.execute_reply.started": "2021-09-05T16:05:53.059772Z"
    },
    "papermill": {
     "duration": 0.143673,
     "end_time": "2021-09-07T18:30:58.512229",
     "exception": false,
     "start_time": "2021-09-07T18:30:58.368556",
     "status": "completed"
    },
    "tags": []
   },
   "outputs": [
    {
     "data": {
      "text/plain": [
       "'#Hyperparameters tuning\\ntrain_coo = sparse.coo_matrix((train_hyper[\\'rating\\'].astype(int),\\n                                 (train_hyper[\\'userid\\'],\\n                                  train_hyper[\\'itemid\\'])))\\n\\ntrain_data, test_data = random_train_test_split(train_coo)\\n\\n\\n(score, hyperparams, model) = max(random_search(train_data, test_data, num_threads=2), key=lambda x: x[0])\\nprint(\"Best score {} at {}\".format(score, hyperparams))'"
      ]
     },
     "execution_count": 78,
     "metadata": {},
     "output_type": "execute_result"
    }
   ],
   "source": [
    "'''#Hyperparameters tuning\n",
    "train_coo = sparse.coo_matrix((train_hyper['rating'].astype(int),\n",
    "                                 (train_hyper['userid'],\n",
    "                                  train_hyper['itemid'])))\n",
    "\n",
    "train_data, test_data = random_train_test_split(train_coo)\n",
    "\n",
    "\n",
    "(score, hyperparams, model) = max(random_search(train_data, test_data, num_threads=2), key=lambda x: x[0])\n",
    "print(\"Best score {} at {}\".format(score, hyperparams))'''"
   ]
  },
  {
   "cell_type": "markdown",
   "metadata": {
    "papermill": {
     "duration": 0.131516,
     "end_time": "2021-09-07T18:30:58.776405",
     "exception": false,
     "start_time": "2021-09-07T18:30:58.644889",
     "status": "completed"
    },
    "tags": []
   },
   "source": [
    "The Random Search returned the following list of the best hyperparameters: </br> **Best score** 0.7920857071876526 at {'no_components': 17, 'learning_schedule': 'adagrad', 'loss': 'warp-kos', 'learning_rate': 0.004423426860837156, 'item_alpha': 2.5674404927572075e-09, 'user_alpha': 1.2670628332738299e-08, 'max_sampled': 9, 'num_epochs': 34}"
   ]
  },
  {
   "cell_type": "markdown",
   "metadata": {
    "execution": {
     "iopub.execute_input": "2021-09-04T09:33:40.908632Z",
     "iopub.status.busy": "2021-09-04T09:33:40.90823Z",
     "iopub.status.idle": "2021-09-04T09:33:40.913656Z",
     "shell.execute_reply": "2021-09-04T09:33:40.912247Z",
     "shell.execute_reply.started": "2021-09-04T09:33:40.908601Z"
    },
    "papermill": {
     "duration": 0.132639,
     "end_time": "2021-09-07T18:30:59.041917",
     "exception": false,
     "start_time": "2021-09-07T18:30:58.909278",
     "status": "completed"
    },
    "tags": []
   },
   "source": [
    "#### Building a model with hyperparameters tuning"
   ]
  },
  {
   "cell_type": "code",
   "execution_count": 79,
   "metadata": {
    "execution": {
     "iopub.execute_input": "2021-09-07T18:30:59.317562Z",
     "iopub.status.busy": "2021-09-07T18:30:59.316343Z",
     "iopub.status.idle": "2021-09-07T18:31:05.690868Z",
     "shell.execute_reply": "2021-09-07T18:31:05.691554Z",
     "shell.execute_reply.started": "2021-09-05T16:56:34.18187Z"
    },
    "papermill": {
     "duration": 6.515346,
     "end_time": "2021-09-07T18:31:05.691737",
     "exception": false,
     "start_time": "2021-09-07T18:30:59.176391",
     "status": "completed"
    },
    "tags": []
   },
   "outputs": [],
   "source": [
    "#Model with hyperparameters tuning\n",
    "# In this model we`re using hyperparameters that were output by Random Search method as the best ones\n",
    "NUM_THREADS = 4 #number of threads\n",
    "NUM_COMPONENTS = 49 #number of vector parameters \n",
    "NUM_EPOCHS = 7 #number of learning epochs\n",
    "\n",
    "model1 = LightFM(no_components=NUM_COMPONENTS, learning_schedule='adadelta', loss='warp', learning_rate=0.08776734614810176, item_alpha=8.408720578950281e-09, user_alpha=1.3887071811080675e-08, max_sampled=9, random_state=RANDOM_STATE)\n",
    "model1 = model1.fit(ratings_coo, epochs=NUM_EPOCHS,num_threads=NUM_THREADS)"
   ]
  },
  {
   "cell_type": "code",
   "execution_count": 80,
   "metadata": {
    "execution": {
     "iopub.execute_input": "2021-09-07T18:31:06.006029Z",
     "iopub.status.busy": "2021-09-07T18:31:06.004940Z",
     "iopub.status.idle": "2021-09-07T18:31:06.088173Z",
     "shell.execute_reply": "2021-09-07T18:31:06.087605Z",
     "shell.execute_reply.started": "2021-09-05T16:56:45.433691Z"
    },
    "papermill": {
     "duration": 0.222741,
     "end_time": "2021-09-07T18:31:06.088309",
     "exception": false,
     "start_time": "2021-09-07T18:31:05.865568",
     "status": "completed"
    },
    "tags": []
   },
   "outputs": [],
   "source": [
    "#Preds for ROC AUC\n",
    "preds1 = model1.predict(test_data.userid.values,\n",
    "                      test_data.itemid.values)"
   ]
  },
  {
   "cell_type": "code",
   "execution_count": 81,
   "metadata": {
    "execution": {
     "iopub.execute_input": "2021-09-07T18:31:06.357533Z",
     "iopub.status.busy": "2021-09-07T18:31:06.356526Z",
     "iopub.status.idle": "2021-09-07T18:31:06.441949Z",
     "shell.execute_reply": "2021-09-07T18:31:06.441159Z",
     "shell.execute_reply.started": "2021-09-05T16:56:51.206829Z"
    },
    "papermill": {
     "duration": 0.222219,
     "end_time": "2021-09-07T18:31:06.442111",
     "exception": false,
     "start_time": "2021-09-07T18:31:06.219892",
     "status": "completed"
    },
    "tags": []
   },
   "outputs": [
    {
     "data": {
      "text/plain": [
       "0.5568036186275962"
      ]
     },
     "execution_count": 81,
     "metadata": {},
     "output_type": "execute_result"
    }
   ],
   "source": [
    "sklearn.metrics.roc_auc_score(test_data.rating,preds1)"
   ]
  },
  {
   "cell_type": "code",
   "execution_count": 82,
   "metadata": {
    "execution": {
     "iopub.execute_input": "2021-09-07T18:31:06.718305Z",
     "iopub.status.busy": "2021-09-07T18:31:06.717645Z",
     "iopub.status.idle": "2021-09-07T18:31:07.018683Z",
     "shell.execute_reply": "2021-09-07T18:31:07.018009Z",
     "shell.execute_reply.started": "2021-09-05T16:56:53.944006Z"
    },
    "papermill": {
     "duration": 0.437908,
     "end_time": "2021-09-07T18:31:07.018801",
     "exception": false,
     "start_time": "2021-09-07T18:31:06.580893",
     "status": "completed"
    },
    "tags": []
   },
   "outputs": [
    {
     "data": {
      "image/png": "[encoded data removed]",
      "text/plain": [
       "<Figure size 432x288 with 1 Axes>"
      ]
     },
     "metadata": {
      "needs_background": "light"
     },
     "output_type": "display_data"
    }
   ],
   "source": [
    "roc_auc_curve(test_data.rating,preds1)"
   ]
  },
  {
   "cell_type": "markdown",
   "metadata": {
    "papermill": {
     "duration": 0.132921,
     "end_time": "2021-09-07T18:31:07.288873",
     "exception": false,
     "start_time": "2021-09-07T18:31:07.155952",
     "status": "completed"
    },
    "tags": []
   },
   "source": [
    "#### We can see that the model with the best hyperparameters works worse than deafult model, so let's proceed with looking for the set hyperparameters in an empirical way (by trials and errors)"
   ]
  },
  {
   "cell_type": "markdown",
   "metadata": {
    "papermill": {
     "duration": 0.139401,
     "end_time": "2021-09-07T18:31:07.566950",
     "exception": false,
     "start_time": "2021-09-07T18:31:07.427549",
     "status": "completed"
    },
    "tags": []
   },
   "source": [
    "### Let's build a default model with item_features"
   ]
  },
  {
   "cell_type": "code",
   "execution_count": 83,
   "metadata": {
    "execution": {
     "iopub.execute_input": "2021-09-07T18:31:07.880625Z",
     "iopub.status.busy": "2021-09-07T18:31:07.879542Z",
     "iopub.status.idle": "2021-09-07T18:31:07.888050Z",
     "shell.execute_reply": "2021-09-07T18:31:07.888561Z",
     "shell.execute_reply.started": "2021-09-07T17:52:18.515351Z"
    },
    "papermill": {
     "duration": 0.149461,
     "end_time": "2021-09-07T18:31:07.888727",
     "exception": false,
     "start_time": "2021-09-07T18:31:07.739266",
     "status": "completed"
    },
    "tags": []
   },
   "outputs": [],
   "source": [
    "#Adding item features. For now we`re adding just **vote**\n",
    "total_items = max(train_data['itemid'].max(), test_data['itemid'].max()) + 1\n",
    "identity_matrix = sparse.identity(total_items)\n",
    "item_features = sparse.coo_matrix(identity_matrix, train_data[['vote']])"
   ]
  },
  {
   "cell_type": "code",
   "execution_count": 84,
   "metadata": {
    "execution": {
     "iopub.execute_input": "2021-09-07T18:31:08.164647Z",
     "iopub.status.busy": "2021-09-07T18:31:08.163388Z",
     "iopub.status.idle": "2021-09-07T18:31:08.857402Z",
     "shell.execute_reply": "2021-09-07T18:31:08.856660Z",
     "shell.execute_reply.started": "2021-09-07T17:52:20.004719Z"
    },
    "papermill": {
     "duration": 0.832926,
     "end_time": "2021-09-07T18:31:08.857532",
     "exception": false,
     "start_time": "2021-09-07T18:31:08.024606",
     "status": "completed"
    },
    "tags": []
   },
   "outputs": [],
   "source": [
    "# Default model with user_features\n",
    "model2 = LightFM()\n",
    "model2 = model2.fit(ratings_coo)"
   ]
  },
  {
   "cell_type": "code",
   "execution_count": 85,
   "metadata": {
    "execution": {
     "iopub.execute_input": "2021-09-07T18:31:09.133424Z",
     "iopub.status.busy": "2021-09-07T18:31:09.132358Z",
     "iopub.status.idle": "2021-09-07T18:31:09.193729Z",
     "shell.execute_reply": "2021-09-07T18:31:09.194303Z",
     "shell.execute_reply.started": "2021-09-07T17:52:22.028285Z"
    },
    "papermill": {
     "duration": 0.20099,
     "end_time": "2021-09-07T18:31:09.194484",
     "exception": false,
     "start_time": "2021-09-07T18:31:08.993494",
     "status": "completed"
    },
    "tags": []
   },
   "outputs": [],
   "source": [
    "#Preds for ROC AUC\n",
    "preds2 = model2.predict(test_data.userid.values,\n",
    "                      test_data.itemid.values)"
   ]
  },
  {
   "cell_type": "code",
   "execution_count": 86,
   "metadata": {
    "execution": {
     "iopub.execute_input": "2021-09-07T18:31:09.471180Z",
     "iopub.status.busy": "2021-09-07T18:31:09.470145Z",
     "iopub.status.idle": "2021-09-07T18:31:09.555330Z",
     "shell.execute_reply": "2021-09-07T18:31:09.554719Z",
     "shell.execute_reply.started": "2021-09-07T17:52:24.308583Z"
    },
    "papermill": {
     "duration": 0.225762,
     "end_time": "2021-09-07T18:31:09.555456",
     "exception": false,
     "start_time": "2021-09-07T18:31:09.329694",
     "status": "completed"
    },
    "tags": []
   },
   "outputs": [
    {
     "data": {
      "text/plain": [
       "0.6103342103253341"
      ]
     },
     "execution_count": 86,
     "metadata": {},
     "output_type": "execute_result"
    }
   ],
   "source": [
    "sklearn.metrics.roc_auc_score(test_data.rating,preds2)"
   ]
  },
  {
   "cell_type": "code",
   "execution_count": 87,
   "metadata": {
    "execution": {
     "iopub.execute_input": "2021-09-07T18:31:09.836606Z",
     "iopub.status.busy": "2021-09-07T18:31:09.835544Z",
     "iopub.status.idle": "2021-09-07T18:31:10.146184Z",
     "shell.execute_reply": "2021-09-07T18:31:10.145458Z",
     "shell.execute_reply.started": "2021-09-07T17:52:25.849176Z"
    },
    "papermill": {
     "duration": 0.449645,
     "end_time": "2021-09-07T18:31:10.146313",
     "exception": false,
     "start_time": "2021-09-07T18:31:09.696668",
     "status": "completed"
    },
    "tags": []
   },
   "outputs": [
    {
     "data": {
      "image/png": "[encoded data removed]",
      "text/plain": [
       "<Figure size 432x288 with 1 Axes>"
      ]
     },
     "metadata": {
      "needs_background": "light"
     },
     "output_type": "display_data"
    }
   ],
   "source": [
    "roc_auc_curve(test_data.rating,preds2)"
   ]
  },
  {
   "cell_type": "markdown",
   "metadata": {
    "papermill": {
     "duration": 0.152733,
     "end_time": "2021-09-07T18:31:10.452855",
     "exception": false,
     "start_time": "2021-09-07T18:31:10.300122",
     "status": "completed"
    },
    "tags": []
   },
   "source": [
    "#### As we can see the model with user_features but without hyperparameters also works not well. Let's try to find good hyperparameters"
   ]
  },
  {
   "cell_type": "markdown",
   "metadata": {
    "papermill": {
     "duration": 0.141556,
     "end_time": "2021-09-07T18:31:10.742416",
     "exception": false,
     "start_time": "2021-09-07T18:31:10.600860",
     "status": "completed"
    },
    "tags": []
   },
   "source": [
    "#### Building a model with hyperparameters tuned empirically and only **vote** as item_features"
   ]
  },
  {
   "cell_type": "code",
   "execution_count": 88,
   "metadata": {
    "execution": {
     "iopub.execute_input": "2021-09-07T18:31:11.035561Z",
     "iopub.status.busy": "2021-09-07T18:31:11.034353Z",
     "iopub.status.idle": "2021-09-07T18:31:42.954136Z",
     "shell.execute_reply": "2021-09-07T18:31:42.954866Z",
     "shell.execute_reply.started": "2021-09-07T17:52:50.263725Z"
    },
    "papermill": {
     "duration": 32.069648,
     "end_time": "2021-09-07T18:31:42.955064",
     "exception": false,
     "start_time": "2021-09-07T18:31:10.885416",
     "status": "completed"
    },
    "tags": []
   },
   "outputs": [],
   "source": [
    "# Here in this model we use hyperparameters that were chosen by the trial and error method\n",
    "NUM_THREADS = 4 #число потоков\n",
    "NUM_COMPONENTS = 160 #число параметров вектора \n",
    "NUM_EPOCHS = 20 #число эпох обучения\n",
    "\n",
    "model3 = LightFM(learning_rate=0.09, loss='logistic',\n",
    "                no_components=NUM_COMPONENTS)\n",
    "model3 = model3.fit(ratings_coo, epochs=NUM_EPOCHS,item_features=item_features,num_threads=NUM_THREADS)"
   ]
  },
  {
   "cell_type": "code",
   "execution_count": 89,
   "metadata": {
    "execution": {
     "iopub.execute_input": "2021-09-07T18:31:43.295938Z",
     "iopub.status.busy": "2021-09-07T18:31:43.294863Z",
     "iopub.status.idle": "2021-09-07T18:31:43.420758Z",
     "shell.execute_reply": "2021-09-07T18:31:43.420187Z",
     "shell.execute_reply.started": "2021-09-07T17:53:23.556805Z"
    },
    "papermill": {
     "duration": 0.293452,
     "end_time": "2021-09-07T18:31:43.420904",
     "exception": false,
     "start_time": "2021-09-07T18:31:43.127452",
     "status": "completed"
    },
    "tags": []
   },
   "outputs": [],
   "source": [
    "#Preds for ROC AUC\n",
    "preds3 = model3.predict(test_data.userid.values,\n",
    "                      test_data.itemid.values,\n",
    "                     item_features=item_features)"
   ]
  },
  {
   "cell_type": "code",
   "execution_count": 90,
   "metadata": {
    "execution": {
     "iopub.execute_input": "2021-09-07T18:31:43.729260Z",
     "iopub.status.busy": "2021-09-07T18:31:43.728201Z",
     "iopub.status.idle": "2021-09-07T18:31:43.817350Z",
     "shell.execute_reply": "2021-09-07T18:31:43.817902Z",
     "shell.execute_reply.started": "2021-09-07T17:53:25.541221Z"
    },
    "papermill": {
     "duration": 0.231995,
     "end_time": "2021-09-07T18:31:43.818095",
     "exception": false,
     "start_time": "2021-09-07T18:31:43.586100",
     "status": "completed"
    },
    "tags": []
   },
   "outputs": [
    {
     "data": {
      "text/plain": [
       "0.7311713934096272"
      ]
     },
     "execution_count": 90,
     "metadata": {},
     "output_type": "execute_result"
    }
   ],
   "source": [
    "sklearn.metrics.roc_auc_score(test_data.rating,preds3)"
   ]
  },
  {
   "cell_type": "code",
   "execution_count": 91,
   "metadata": {
    "execution": {
     "iopub.execute_input": "2021-09-07T18:31:44.096420Z",
     "iopub.status.busy": "2021-09-07T18:31:44.095310Z",
     "iopub.status.idle": "2021-09-07T18:31:44.391504Z",
     "shell.execute_reply": "2021-09-07T18:31:44.391974Z",
     "shell.execute_reply.started": "2021-09-07T17:53:27.644328Z"
    },
    "papermill": {
     "duration": 0.434272,
     "end_time": "2021-09-07T18:31:44.392149",
     "exception": false,
     "start_time": "2021-09-07T18:31:43.957877",
     "status": "completed"
    },
    "tags": []
   },
   "outputs": [
    {
     "data": {
      "image/png": "[encoded data removed]",
      "text/plain": [
       "<Figure size 432x288 with 1 Axes>"
      ]
     },
     "metadata": {
      "needs_background": "light"
     },
     "output_type": "display_data"
    }
   ],
   "source": [
    "roc_auc_curve(test_data.rating,preds3)"
   ]
  },
  {
   "cell_type": "markdown",
   "metadata": {
    "papermill": {
     "duration": 0.134883,
     "end_time": "2021-09-07T18:31:44.665203",
     "exception": false,
     "start_time": "2021-09-07T18:31:44.530320",
     "status": "completed"
    },
    "tags": []
   },
   "source": [
    "#### As we can see the model with empirically tuned hyperparameters and the **vote** feature as a item_feature, works much better than default model"
   ]
  },
  {
   "cell_type": "markdown",
   "metadata": {
    "papermill": {
     "duration": 0.135141,
     "end_time": "2021-09-07T18:31:44.977070",
     "exception": false,
     "start_time": "2021-09-07T18:31:44.841929",
     "status": "completed"
    },
    "tags": []
   },
   "source": [
    "#### Let's now building a model with hyperparameters tuned empirically and all available item_features"
   ]
  },
  {
   "cell_type": "code",
   "execution_count": 92,
   "metadata": {
    "execution": {
     "iopub.execute_input": "2021-09-07T18:31:45.254271Z",
     "iopub.status.busy": "2021-09-07T18:31:45.253216Z",
     "iopub.status.idle": "2021-09-07T18:31:45.267831Z",
     "shell.execute_reply": "2021-09-07T18:31:45.267283Z",
     "shell.execute_reply.started": "2021-09-07T17:55:07.017011Z"
    },
    "papermill": {
     "duration": 0.15426,
     "end_time": "2021-09-07T18:31:45.267954",
     "exception": false,
     "start_time": "2021-09-07T18:31:45.113694",
     "status": "completed"
    },
    "tags": []
   },
   "outputs": [
    {
     "data": {
      "text/html": [
       "<div>\n",
       "<style scoped>\n",
       "    .dataframe tbody tr th:only-of-type {\n",
       "        vertical-align: middle;\n",
       "    }\n",
       "\n",
       "    .dataframe tbody tr th {\n",
       "        vertical-align: top;\n",
       "    }\n",
       "\n",
       "    .dataframe thead th {\n",
       "        text-align: right;\n",
       "    }\n",
       "</style>\n",
       "<table border=\"1\" class=\"dataframe\">\n",
       "  <thead>\n",
       "    <tr style=\"text-align: right;\">\n",
       "      <th></th>\n",
       "      <th>verified</th>\n",
       "      <th>unixReviewTime</th>\n",
       "      <th>vote</th>\n",
       "      <th>image</th>\n",
       "      <th>userid</th>\n",
       "      <th>itemid</th>\n",
       "      <th>rating</th>\n",
       "      <th>summary_tone</th>\n",
       "    </tr>\n",
       "  </thead>\n",
       "  <tbody>\n",
       "    <tr>\n",
       "      <th>0</th>\n",
       "      <td>1</td>\n",
       "      <td>2</td>\n",
       "      <td>0</td>\n",
       "      <td>0</td>\n",
       "      <td>102179</td>\n",
       "      <td>37138</td>\n",
       "      <td>1.0</td>\n",
       "      <td>0</td>\n",
       "    </tr>\n",
       "    <tr>\n",
       "      <th>1</th>\n",
       "      <td>1</td>\n",
       "      <td>2</td>\n",
       "      <td>0</td>\n",
       "      <td>0</td>\n",
       "      <td>3625</td>\n",
       "      <td>17322</td>\n",
       "      <td>1.0</td>\n",
       "      <td>0</td>\n",
       "    </tr>\n",
       "    <tr>\n",
       "      <th>2</th>\n",
       "      <td>1</td>\n",
       "      <td>2</td>\n",
       "      <td>28</td>\n",
       "      <td>0</td>\n",
       "      <td>39495</td>\n",
       "      <td>5600</td>\n",
       "      <td>1.0</td>\n",
       "      <td>1</td>\n",
       "    </tr>\n",
       "    <tr>\n",
       "      <th>3</th>\n",
       "      <td>1</td>\n",
       "      <td>1</td>\n",
       "      <td>0</td>\n",
       "      <td>0</td>\n",
       "      <td>72854</td>\n",
       "      <td>30249</td>\n",
       "      <td>1.0</td>\n",
       "      <td>0</td>\n",
       "    </tr>\n",
       "    <tr>\n",
       "      <th>4</th>\n",
       "      <td>1</td>\n",
       "      <td>2</td>\n",
       "      <td>0</td>\n",
       "      <td>0</td>\n",
       "      <td>74859</td>\n",
       "      <td>4349</td>\n",
       "      <td>1.0</td>\n",
       "      <td>1</td>\n",
       "    </tr>\n",
       "  </tbody>\n",
       "</table>\n",
       "</div>"
      ],
      "text/plain": [
       "   verified  unixReviewTime  vote  image  userid  itemid  rating  summary_tone\n",
       "0         1               2     0      0  102179   37138     1.0             0\n",
       "1         1               2     0      0    3625   17322     1.0             0\n",
       "2         1               2    28      0   39495    5600     1.0             1\n",
       "3         1               1     0      0   72854   30249     1.0             0\n",
       "4         1               2     0      0   74859    4349     1.0             1"
      ]
     },
     "execution_count": 92,
     "metadata": {},
     "output_type": "execute_result"
    }
   ],
   "source": [
    "train.head()"
   ]
  },
  {
   "cell_type": "code",
   "execution_count": 93,
   "metadata": {
    "execution": {
     "iopub.execute_input": "2021-09-07T18:31:45.562235Z",
     "iopub.status.busy": "2021-09-07T18:31:45.561254Z",
     "iopub.status.idle": "2021-09-07T18:31:45.566642Z",
     "shell.execute_reply": "2021-09-07T18:31:45.566020Z",
     "shell.execute_reply.started": "2021-09-07T17:55:11.310710Z"
    },
    "papermill": {
     "duration": 0.161816,
     "end_time": "2021-09-07T18:31:45.566766",
     "exception": false,
     "start_time": "2021-09-07T18:31:45.404950",
     "status": "completed"
    },
    "tags": []
   },
   "outputs": [],
   "source": [
    "item_features = sparse.coo_matrix(identity_matrix, train_data[['vote', 'verified', 'unixReviewTime', 'image', 'summary_tone']])"
   ]
  },
  {
   "cell_type": "code",
   "execution_count": 94,
   "metadata": {
    "execution": {
     "iopub.execute_input": "2021-09-07T18:31:45.854658Z",
     "iopub.status.busy": "2021-09-07T18:31:45.853259Z",
     "iopub.status.idle": "2021-09-07T18:32:18.686324Z",
     "shell.execute_reply": "2021-09-07T18:32:18.684966Z",
     "shell.execute_reply.started": "2021-09-07T17:55:13.927397Z"
    },
    "papermill": {
     "duration": 32.981013,
     "end_time": "2021-09-07T18:32:18.686522",
     "exception": false,
     "start_time": "2021-09-07T18:31:45.705509",
     "status": "completed"
    },
    "tags": []
   },
   "outputs": [],
   "source": [
    "# Here in this model we use hyperparameters that are chosen by the trial and error method\n",
    "NUM_THREADS = 4 #число потоков\n",
    "NUM_COMPONENTS = 160 #число параметров вектора \n",
    "NUM_EPOCHS = 20 #число эпох обучения\n",
    "\n",
    "model4 = LightFM(learning_rate=0.09, loss='logistic',\n",
    "                no_components=NUM_COMPONENTS)\n",
    "model4 = model4.fit(ratings_coo, epochs=NUM_EPOCHS,item_features=item_features,num_threads=NUM_THREADS)"
   ]
  },
  {
   "cell_type": "code",
   "execution_count": 95,
   "metadata": {
    "execution": {
     "iopub.execute_input": "2021-09-07T18:32:19.004713Z",
     "iopub.status.busy": "2021-09-07T18:32:19.003961Z",
     "iopub.status.idle": "2021-09-07T18:32:19.134186Z",
     "shell.execute_reply": "2021-09-07T18:32:19.133438Z",
     "shell.execute_reply.started": "2021-09-07T17:55:47.180963Z"
    },
    "papermill": {
     "duration": 0.272772,
     "end_time": "2021-09-07T18:32:19.134315",
     "exception": false,
     "start_time": "2021-09-07T18:32:18.861543",
     "status": "completed"
    },
    "tags": []
   },
   "outputs": [],
   "source": [
    "#Preds for ROC AUC\n",
    "preds4 = model4.predict(test_data.userid.values,\n",
    "                      test_data.itemid.values,\n",
    "                     item_features=item_features)"
   ]
  },
  {
   "cell_type": "code",
   "execution_count": 96,
   "metadata": {
    "execution": {
     "iopub.execute_input": "2021-09-07T18:32:19.416816Z",
     "iopub.status.busy": "2021-09-07T18:32:19.416060Z",
     "iopub.status.idle": "2021-09-07T18:32:19.505430Z",
     "shell.execute_reply": "2021-09-07T18:32:19.505946Z",
     "shell.execute_reply.started": "2021-09-07T17:55:49.654898Z"
    },
    "papermill": {
     "duration": 0.233908,
     "end_time": "2021-09-07T18:32:19.506125",
     "exception": false,
     "start_time": "2021-09-07T18:32:19.272217",
     "status": "completed"
    },
    "tags": []
   },
   "outputs": [
    {
     "data": {
      "text/plain": [
       "0.7315062225228067"
      ]
     },
     "execution_count": 96,
     "metadata": {},
     "output_type": "execute_result"
    }
   ],
   "source": [
    "sklearn.metrics.roc_auc_score(test_data.rating,preds4)"
   ]
  },
  {
   "cell_type": "code",
   "execution_count": 97,
   "metadata": {
    "execution": {
     "iopub.execute_input": "2021-09-07T18:32:19.796593Z",
     "iopub.status.busy": "2021-09-07T18:32:19.795559Z",
     "iopub.status.idle": "2021-09-07T18:32:20.193854Z",
     "shell.execute_reply": "2021-09-07T18:32:20.192921Z",
     "shell.execute_reply.started": "2021-09-07T17:55:53.018262Z"
    },
    "papermill": {
     "duration": 0.543187,
     "end_time": "2021-09-07T18:32:20.194023",
     "exception": false,
     "start_time": "2021-09-07T18:32:19.650836",
     "status": "completed"
    },
    "tags": []
   },
   "outputs": [
    {
     "data": {
      "image/png": "[encoded data removed]",
      "text/plain": [
       "<Figure size 432x288 with 1 Axes>"
      ]
     },
     "metadata": {
      "needs_background": "light"
     },
     "output_type": "display_data"
    }
   ],
   "source": [
    "roc_auc_curve(test_data.rating,preds4)"
   ]
  },
  {
   "cell_type": "markdown",
   "metadata": {
    "papermill": {
     "duration": 0.142725,
     "end_time": "2021-09-07T18:32:20.477781",
     "exception": false,
     "start_time": "2021-09-07T18:32:20.335056",
     "status": "completed"
    },
    "tags": []
   },
   "source": [
    "#### As we can see the model with all available item_features works not better than the model with only **vote** as item feature"
   ]
  },
  {
   "cell_type": "markdown",
   "metadata": {
    "papermill": {
     "duration": 0.138532,
     "end_time": "2021-09-07T18:32:20.754211",
     "exception": false,
     "start_time": "2021-09-07T18:32:20.615679",
     "status": "completed"
    },
    "tags": []
   },
   "source": [
    "#### Let's try to build a model with the most important item features only"
   ]
  },
  {
   "cell_type": "code",
   "execution_count": 98,
   "metadata": {
    "execution": {
     "iopub.execute_input": "2021-09-07T18:32:21.051156Z",
     "iopub.status.busy": "2021-09-07T18:32:21.050420Z",
     "iopub.status.idle": "2021-09-07T18:32:21.055282Z",
     "shell.execute_reply": "2021-09-07T18:32:21.054574Z",
     "shell.execute_reply.started": "2021-09-07T17:58:23.235716Z"
    },
    "papermill": {
     "duration": 0.156677,
     "end_time": "2021-09-07T18:32:21.055409",
     "exception": false,
     "start_time": "2021-09-07T18:32:20.898732",
     "status": "completed"
    },
    "tags": []
   },
   "outputs": [],
   "source": [
    "item_features = sparse.coo_matrix(identity_matrix, train_data[['vote', 'verified', 'summary_tone']])"
   ]
  },
  {
   "cell_type": "code",
   "execution_count": 99,
   "metadata": {
    "execution": {
     "iopub.execute_input": "2021-09-07T18:32:21.341109Z",
     "iopub.status.busy": "2021-09-07T18:32:21.340388Z",
     "iopub.status.idle": "2021-09-07T18:32:53.983629Z",
     "shell.execute_reply": "2021-09-07T18:32:53.984359Z",
     "shell.execute_reply.started": "2021-09-07T17:58:45.975961Z"
    },
    "papermill": {
     "duration": 32.791504,
     "end_time": "2021-09-07T18:32:53.984553",
     "exception": false,
     "start_time": "2021-09-07T18:32:21.193049",
     "status": "completed"
    },
    "tags": []
   },
   "outputs": [],
   "source": [
    "# Here in this model we use hyperparameters that are chosen by the trial and error method\n",
    "NUM_THREADS = 4 #число потоков\n",
    "NUM_COMPONENTS = 160 #число параметров вектора \n",
    "NUM_EPOCHS = 20 #число эпох обучения\n",
    "\n",
    "model5 = LightFM(learning_rate=0.09, loss='logistic',\n",
    "                no_components=NUM_COMPONENTS)\n",
    "model5 = model5.fit(ratings_coo, epochs=NUM_EPOCHS,item_features=item_features,num_threads=NUM_THREADS)"
   ]
  },
  {
   "cell_type": "code",
   "execution_count": 100,
   "metadata": {
    "execution": {
     "iopub.execute_input": "2021-09-07T18:32:54.303691Z",
     "iopub.status.busy": "2021-09-07T18:32:54.302968Z",
     "iopub.status.idle": "2021-09-07T18:32:54.419401Z",
     "shell.execute_reply": "2021-09-07T18:32:54.418831Z",
     "shell.execute_reply.started": "2021-09-07T17:59:23.791847Z"
    },
    "papermill": {
     "duration": 0.260338,
     "end_time": "2021-09-07T18:32:54.419527",
     "exception": false,
     "start_time": "2021-09-07T18:32:54.159189",
     "status": "completed"
    },
    "tags": []
   },
   "outputs": [],
   "source": [
    "#Preds for ROC AUC\n",
    "preds5 = model5.predict(test_data.userid.values,\n",
    "                      test_data.itemid.values,\n",
    "                     item_features=item_features)"
   ]
  },
  {
   "cell_type": "code",
   "execution_count": 101,
   "metadata": {
    "execution": {
     "iopub.execute_input": "2021-09-07T18:32:54.702397Z",
     "iopub.status.busy": "2021-09-07T18:32:54.701703Z",
     "iopub.status.idle": "2021-09-07T18:32:54.790009Z",
     "shell.execute_reply": "2021-09-07T18:32:54.789321Z",
     "shell.execute_reply.started": "2021-09-07T17:59:25.971359Z"
    },
    "papermill": {
     "duration": 0.232113,
     "end_time": "2021-09-07T18:32:54.790134",
     "exception": false,
     "start_time": "2021-09-07T18:32:54.558021",
     "status": "completed"
    },
    "tags": []
   },
   "outputs": [
    {
     "data": {
      "text/plain": [
       "0.731636793588947"
      ]
     },
     "execution_count": 101,
     "metadata": {},
     "output_type": "execute_result"
    }
   ],
   "source": [
    "sklearn.metrics.roc_auc_score(test_data.rating,preds5)"
   ]
  },
  {
   "cell_type": "code",
   "execution_count": 102,
   "metadata": {
    "execution": {
     "iopub.execute_input": "2021-09-07T18:32:55.077361Z",
     "iopub.status.busy": "2021-09-07T18:32:55.076347Z",
     "iopub.status.idle": "2021-09-07T18:32:55.376972Z",
     "shell.execute_reply": "2021-09-07T18:32:55.375756Z",
     "shell.execute_reply.started": "2021-09-07T17:59:28.467928Z"
    },
    "papermill": {
     "duration": 0.44681,
     "end_time": "2021-09-07T18:32:55.377131",
     "exception": false,
     "start_time": "2021-09-07T18:32:54.930321",
     "status": "completed"
    },
    "tags": []
   },
   "outputs": [
    {
     "data": {
      "image/png": "[encoded data removed]",
      "text/plain": [
       "<Figure size 432x288 with 1 Axes>"
      ]
     },
     "metadata": {
      "needs_background": "light"
     },
     "output_type": "display_data"
    }
   ],
   "source": [
    "roc_auc_curve(test_data.rating,preds5)"
   ]
  },
  {
   "cell_type": "markdown",
   "metadata": {
    "papermill": {
     "duration": 0.138274,
     "end_time": "2021-09-07T18:32:55.656804",
     "exception": false,
     "start_time": "2021-09-07T18:32:55.518530",
     "status": "completed"
    },
    "tags": []
   },
   "source": [
    "#### The model with the best item_features as an additional features works slightly better, than with **vote** item_feature only. However, Kaggle Leaderboard didn't show any improvements on the results"
   ]
  },
  {
   "cell_type": "markdown",
   "metadata": {
    "papermill": {
     "duration": 0.139056,
     "end_time": "2021-09-07T18:32:55.935528",
     "exception": false,
     "start_time": "2021-09-07T18:32:55.796472",
     "status": "completed"
    },
    "tags": []
   },
   "source": [
    "#### What else we can do to improve our best model, which is **model3** with the **vote** only feature as an item_feature. Let's try to Standartize the **vote** feature"
   ]
  },
  {
   "cell_type": "code",
   "execution_count": 103,
   "metadata": {
    "execution": {
     "iopub.execute_input": "2021-09-07T18:32:56.224578Z",
     "iopub.status.busy": "2021-09-07T18:32:56.223800Z",
     "iopub.status.idle": "2021-09-07T18:32:56.265140Z",
     "shell.execute_reply": "2021-09-07T18:32:56.264496Z",
     "shell.execute_reply.started": "2021-09-07T18:17:25.429243Z"
    },
    "papermill": {
     "duration": 0.189786,
     "end_time": "2021-09-07T18:32:56.265262",
     "exception": false,
     "start_time": "2021-09-07T18:32:56.075476",
     "status": "completed"
    },
    "tags": []
   },
   "outputs": [],
   "source": [
    "train['vote'] = StandardScaler().fit_transform(train[['vote']])"
   ]
  },
  {
   "cell_type": "code",
   "execution_count": 104,
   "metadata": {
    "execution": {
     "iopub.execute_input": "2021-09-07T18:32:56.553283Z",
     "iopub.status.busy": "2021-09-07T18:32:56.552567Z",
     "iopub.status.idle": "2021-09-07T18:32:56.557808Z",
     "shell.execute_reply": "2021-09-07T18:32:56.557269Z",
     "shell.execute_reply.started": "2021-09-07T18:18:47.034062Z"
    },
    "papermill": {
     "duration": 0.153123,
     "end_time": "2021-09-07T18:32:56.557945",
     "exception": false,
     "start_time": "2021-09-07T18:32:56.404822",
     "status": "completed"
    },
    "tags": []
   },
   "outputs": [],
   "source": [
    "item_features = sparse.coo_matrix(identity_matrix, train_data[['vote']])"
   ]
  },
  {
   "cell_type": "code",
   "execution_count": 105,
   "metadata": {
    "execution": {
     "iopub.execute_input": "2021-09-07T18:32:56.847778Z",
     "iopub.status.busy": "2021-09-07T18:32:56.846923Z",
     "iopub.status.idle": "2021-09-07T18:33:29.870813Z",
     "shell.execute_reply": "2021-09-07T18:33:29.871948Z",
     "shell.execute_reply.started": "2021-09-07T18:19:18.863669Z"
    },
    "papermill": {
     "duration": 33.171211,
     "end_time": "2021-09-07T18:33:29.872170",
     "exception": false,
     "start_time": "2021-09-07T18:32:56.700959",
     "status": "completed"
    },
    "tags": []
   },
   "outputs": [],
   "source": [
    "# Here in this model we use hyperparameters that were chosen by the trial and error method\n",
    "NUM_THREADS = 4 #число потоков\n",
    "NUM_COMPONENTS = 160 #число параметров вектора \n",
    "NUM_EPOCHS = 20 #число эпох обучения\n",
    "\n",
    "model6 = LightFM(learning_rate=0.09, loss='logistic',\n",
    "                no_components=NUM_COMPONENTS)\n",
    "model6 = model6.fit(ratings_coo, epochs=NUM_EPOCHS,item_features=item_features,num_threads=NUM_THREADS)"
   ]
  },
  {
   "cell_type": "code",
   "execution_count": 106,
   "metadata": {
    "execution": {
     "iopub.execute_input": "2021-09-07T18:33:30.198096Z",
     "iopub.status.busy": "2021-09-07T18:33:30.197393Z",
     "iopub.status.idle": "2021-09-07T18:33:30.315972Z",
     "shell.execute_reply": "2021-09-07T18:33:30.315367Z",
     "shell.execute_reply.started": "2021-09-07T18:19:55.210032Z"
    },
    "papermill": {
     "duration": 0.265205,
     "end_time": "2021-09-07T18:33:30.316112",
     "exception": false,
     "start_time": "2021-09-07T18:33:30.050907",
     "status": "completed"
    },
    "tags": []
   },
   "outputs": [],
   "source": [
    "#Preds for ROC AUC\n",
    "preds6 = model6.predict(test_data.userid.values,\n",
    "                      test_data.itemid.values,\n",
    "                     item_features=item_features)"
   ]
  },
  {
   "cell_type": "code",
   "execution_count": 107,
   "metadata": {
    "execution": {
     "iopub.execute_input": "2021-09-07T18:33:30.605506Z",
     "iopub.status.busy": "2021-09-07T18:33:30.604291Z",
     "iopub.status.idle": "2021-09-07T18:33:30.709530Z",
     "shell.execute_reply": "2021-09-07T18:33:30.710113Z",
     "shell.execute_reply.started": "2021-09-07T18:19:57.061371Z"
    },
    "papermill": {
     "duration": 0.254896,
     "end_time": "2021-09-07T18:33:30.710261",
     "exception": false,
     "start_time": "2021-09-07T18:33:30.455365",
     "status": "completed"
    },
    "tags": []
   },
   "outputs": [
    {
     "data": {
      "text/plain": [
       "0.7311776783896264"
      ]
     },
     "execution_count": 107,
     "metadata": {},
     "output_type": "execute_result"
    }
   ],
   "source": [
    "sklearn.metrics.roc_auc_score(test_data.rating,preds6)"
   ]
  },
  {
   "cell_type": "code",
   "execution_count": 108,
   "metadata": {
    "execution": {
     "iopub.execute_input": "2021-09-07T18:33:31.001342Z",
     "iopub.status.busy": "2021-09-07T18:33:31.000301Z",
     "iopub.status.idle": "2021-09-07T18:33:31.310933Z",
     "shell.execute_reply": "2021-09-07T18:33:31.311573Z",
     "shell.execute_reply.started": "2021-09-07T18:20:04.040000Z"
    },
    "papermill": {
     "duration": 0.457854,
     "end_time": "2021-09-07T18:33:31.311733",
     "exception": false,
     "start_time": "2021-09-07T18:33:30.853879",
     "status": "completed"
    },
    "tags": []
   },
   "outputs": [
    {
     "data": {
      "image/png": "[encoded data removed]",
      "text/plain": [
       "<Figure size 432x288 with 1 Axes>"
      ]
     },
     "metadata": {
      "needs_background": "light"
     },
     "output_type": "display_data"
    }
   ],
   "source": [
    "roc_auc_curve(test_data.rating,preds6)"
   ]
  },
  {
   "cell_type": "markdown",
   "metadata": {
    "papermill": {
     "duration": 0.14513,
     "end_time": "2021-09-07T18:33:31.602159",
     "exception": false,
     "start_time": "2021-09-07T18:33:31.457029",
     "status": "completed"
    },
    "tags": []
   },
   "source": [
    "#### As we can see after standartization of the feature **vote**, the model still doesn't perform better than model3. So, for now we will go with model3 as our final Submission to Kaggle."
   ]
  },
  {
   "cell_type": "markdown",
   "metadata": {
    "papermill": {
     "duration": 0.142062,
     "end_time": "2021-09-07T18:33:31.888354",
     "exception": false,
     "start_time": "2021-09-07T18:33:31.746292",
     "status": "completed"
    },
    "tags": []
   },
   "source": [
    "## Submission"
   ]
  },
  {
   "cell_type": "code",
   "execution_count": 109,
   "metadata": {
    "execution": {
     "iopub.execute_input": "2021-09-07T18:33:32.184625Z",
     "iopub.status.busy": "2021-09-07T18:33:32.183520Z",
     "iopub.status.idle": "2021-09-07T18:33:32.343306Z",
     "shell.execute_reply": "2021-09-07T18:33:32.342684Z",
     "shell.execute_reply.started": "2021-09-07T18:21:10.433699Z"
    },
    "papermill": {
     "duration": 0.310279,
     "end_time": "2021-09-07T18:33:32.343432",
     "exception": false,
     "start_time": "2021-09-07T18:33:32.033153",
     "status": "completed"
    },
    "tags": []
   },
   "outputs": [],
   "source": [
    "#Preds Final\n",
    "preds_final = model3.predict(test.userid.values,\n",
    "                      test.itemid.values,\n",
    "                     item_features=item_features)"
   ]
  },
  {
   "cell_type": "code",
   "execution_count": 110,
   "metadata": {
    "execution": {
     "iopub.execute_input": "2021-09-07T18:33:32.643938Z",
     "iopub.status.busy": "2021-09-07T18:33:32.641890Z",
     "iopub.status.idle": "2021-09-07T18:33:32.647342Z",
     "shell.execute_reply": "2021-09-07T18:33:32.647879Z",
     "shell.execute_reply.started": "2021-09-07T18:21:12.476388Z"
    },
    "papermill": {
     "duration": 0.158741,
     "end_time": "2021-09-07T18:33:32.648048",
     "exception": false,
     "start_time": "2021-09-07T18:33:32.489307",
     "status": "completed"
    },
    "tags": []
   },
   "outputs": [
    {
     "data": {
      "text/plain": [
       "(-35.172271728515625, 35.308780670166016)"
      ]
     },
     "execution_count": 110,
     "metadata": {},
     "output_type": "execute_result"
    }
   ],
   "source": [
    "preds_final.min(), preds_final.max()"
   ]
  },
  {
   "cell_type": "code",
   "execution_count": 111,
   "metadata": {
    "execution": {
     "iopub.execute_input": "2021-09-07T18:33:32.943413Z",
     "iopub.status.busy": "2021-09-07T18:33:32.942649Z",
     "iopub.status.idle": "2021-09-07T18:33:32.950155Z",
     "shell.execute_reply": "2021-09-07T18:33:32.950726Z",
     "shell.execute_reply.started": "2021-09-07T18:21:14.371049Z"
    },
    "papermill": {
     "duration": 0.15621,
     "end_time": "2021-09-07T18:33:32.950899",
     "exception": false,
     "start_time": "2021-09-07T18:33:32.794689",
     "status": "completed"
    },
    "tags": []
   },
   "outputs": [],
   "source": [
    "normalized_preds = (preds_final - preds_final.min())/(preds_final - preds_final.min()).max()"
   ]
  },
  {
   "cell_type": "code",
   "execution_count": 112,
   "metadata": {
    "execution": {
     "iopub.execute_input": "2021-09-07T18:33:33.248313Z",
     "iopub.status.busy": "2021-09-07T18:33:33.247556Z",
     "iopub.status.idle": "2021-09-07T18:33:33.255055Z",
     "shell.execute_reply": "2021-09-07T18:33:33.254500Z",
     "shell.execute_reply.started": "2021-09-07T18:21:16.575085Z"
    },
    "papermill": {
     "duration": 0.156006,
     "end_time": "2021-09-07T18:33:33.255187",
     "exception": false,
     "start_time": "2021-09-07T18:33:33.099181",
     "status": "completed"
    },
    "tags": []
   },
   "outputs": [
    {
     "data": {
      "text/plain": [
       "(0.0, 1.0)"
      ]
     },
     "execution_count": 112,
     "metadata": {},
     "output_type": "execute_result"
    }
   ],
   "source": [
    "normalized_preds.min(), normalized_preds.max()"
   ]
  },
  {
   "cell_type": "code",
   "execution_count": 113,
   "metadata": {
    "execution": {
     "iopub.execute_input": "2021-09-07T18:33:33.559341Z",
     "iopub.status.busy": "2021-09-07T18:33:33.558190Z",
     "iopub.status.idle": "2021-09-07T18:33:33.562576Z",
     "shell.execute_reply": "2021-09-07T18:33:33.562035Z",
     "shell.execute_reply.started": "2021-09-07T18:21:18.090307Z"
    },
    "papermill": {
     "duration": 0.160167,
     "end_time": "2021-09-07T18:33:33.562706",
     "exception": false,
     "start_time": "2021-09-07T18:33:33.402539",
     "status": "completed"
    },
    "tags": []
   },
   "outputs": [
    {
     "data": {
      "text/plain": [
       "(285965, 2)"
      ]
     },
     "execution_count": 113,
     "metadata": {},
     "output_type": "execute_result"
    }
   ],
   "source": [
    "submission.shape"
   ]
  },
  {
   "cell_type": "code",
   "execution_count": 114,
   "metadata": {
    "execution": {
     "iopub.execute_input": "2021-09-07T18:33:33.865073Z",
     "iopub.status.busy": "2021-09-07T18:33:33.864355Z",
     "iopub.status.idle": "2021-09-07T18:33:33.867705Z",
     "shell.execute_reply": "2021-09-07T18:33:33.868355Z",
     "shell.execute_reply.started": "2021-09-07T18:21:20.118975Z"
    },
    "papermill": {
     "duration": 0.155814,
     "end_time": "2021-09-07T18:33:33.868516",
     "exception": false,
     "start_time": "2021-09-07T18:33:33.712702",
     "status": "completed"
    },
    "tags": []
   },
   "outputs": [
    {
     "data": {
      "text/plain": [
       "(285965,)"
      ]
     },
     "execution_count": 114,
     "metadata": {},
     "output_type": "execute_result"
    }
   ],
   "source": [
    "normalized_preds.shape"
   ]
  },
  {
   "cell_type": "code",
   "execution_count": 115,
   "metadata": {
    "execution": {
     "iopub.execute_input": "2021-09-07T18:33:34.166437Z",
     "iopub.status.busy": "2021-09-07T18:33:34.165743Z",
     "iopub.status.idle": "2021-09-07T18:33:34.171264Z",
     "shell.execute_reply": "2021-09-07T18:33:34.171804Z",
     "shell.execute_reply.started": "2021-09-07T18:21:22.331989Z"
    },
    "papermill": {
     "duration": 0.156467,
     "end_time": "2021-09-07T18:33:34.171951",
     "exception": false,
     "start_time": "2021-09-07T18:33:34.015484",
     "status": "completed"
    },
    "tags": []
   },
   "outputs": [],
   "source": [
    "submission['rating']= normalized_preds"
   ]
  },
  {
   "cell_type": "code",
   "execution_count": 116,
   "metadata": {
    "execution": {
     "iopub.execute_input": "2021-09-07T18:33:34.468469Z",
     "iopub.status.busy": "2021-09-07T18:33:34.467725Z",
     "iopub.status.idle": "2021-09-07T18:33:35.820411Z",
     "shell.execute_reply": "2021-09-07T18:33:35.819760Z",
     "shell.execute_reply.started": "2021-09-07T18:21:26.416145Z"
    },
    "papermill": {
     "duration": 1.502274,
     "end_time": "2021-09-07T18:33:35.820557",
     "exception": false,
     "start_time": "2021-09-07T18:33:34.318283",
     "status": "completed"
    },
    "tags": []
   },
   "outputs": [],
   "source": [
    "submission.to_csv('submission_log.csv', index=False)"
   ]
  },
  {
   "cell_type": "markdown",
   "metadata": {
    "papermill": {
     "duration": 0.147133,
     "end_time": "2021-09-07T18:33:36.114701",
     "exception": false,
     "start_time": "2021-09-07T18:33:35.967568",
     "status": "completed"
    },
    "tags": []
   },
   "source": [
    "## What else can be done to improve our model? "
   ]
  },
  {
   "cell_type": "markdown",
   "metadata": {
    "papermill": {
     "duration": 0.149911,
     "end_time": "2021-09-07T18:33:36.413273",
     "exception": false,
     "start_time": "2021-09-07T18:33:36.263362",
     "status": "completed"
    },
    "tags": []
   },
   "source": [
    "There is a document with meta data about  items. We can use this data as item_features and try to improve the model's results. However, as long as the item features that existed in the original train dataset didn't proved themselves as good parameters to improve the model's result, I won't spend time on this right now and will go ahead with the course."
   ]
  },
  {
   "cell_type": "code",
   "execution_count": null,
   "metadata": {
    "papermill": {
     "duration": 0.148464,
     "end_time": "2021-09-07T18:33:36.716095",
     "exception": false,
     "start_time": "2021-09-07T18:33:36.567631",
     "status": "completed"
    },
    "tags": []
   },
   "outputs": [],
   "source": []
  }
 ],
 "metadata": {
  "kernelspec": {
   "display_name": "Python 3",
   "language": "python",
   "name": "python3"
  },
  "language_info": {
   "codemirror_mode": {
    "name": "ipython",
    "version": 3
   },
   "file_extension": ".py",
   "mimetype": "text/x-python",
   "name": "python",
   "nbconvert_exporter": "python",
   "pygments_lexer": "ipython3",
   "version": "3.7.6"
  },
  "papermill": {
   "duration": 222.886983,
   "end_time": "2021-09-07T18:33:36.974014",
   "environment_variables": {},
   "exception": null,
   "input_path": "__notebook__.ipynb",
   "output_path": "__notebook__.ipynb",
   "parameters": {},
   "start_time": "2021-09-07T18:29:54.087031",
   "version": "2.1.0"
  }
 },
 "nbformat": 4,
 "nbformat_minor": 4
}
